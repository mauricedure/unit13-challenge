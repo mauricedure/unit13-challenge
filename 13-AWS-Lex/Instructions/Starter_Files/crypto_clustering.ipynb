{
 "cells": [
  {
   "cell_type": "markdown",
   "metadata": {},
   "source": [
    "# Clustering Crypto"
   ]
  },
  {
   "cell_type": "code",
   "execution_count": 71,
   "metadata": {},
   "outputs": [],
   "source": [
    "# Initial imports\n",
    "import requests\n",
    "import pandas as pd\n",
    "import matplotlib.pyplot as plt\n",
    "import hvplot.pandas\n",
    "import plotly.express as px\n",
    "from sklearn.preprocessing import StandardScaler, MinMaxScaler\n",
    "from sklearn.decomposition import PCA\n",
    "from sklearn.cluster import KMeans"
   ]
  },
  {
   "cell_type": "markdown",
   "metadata": {},
   "source": [
    "### Fetching Cryptocurrency Data"
   ]
  },
  {
   "cell_type": "code",
   "execution_count": 72,
   "metadata": {},
   "outputs": [],
   "source": [
    "# Use the following endpoint to fetch json data\n",
    "url = \"https://min-api.cryptocompare.com/data/all/coinlist\""
   ]
  },
  {
   "cell_type": "code",
   "execution_count": 73,
   "metadata": {},
   "outputs": [
    {
     "data": {
      "text/plain": [
       "str"
      ]
     },
     "execution_count": 73,
     "metadata": {},
     "output_type": "execute_result"
    }
   ],
   "source": [
    "# Create a DataFrame \n",
    "from dotenv import load_dotenv\n",
    "import os\n",
    "load_dotenv()\n",
    "\n",
    "# Retrieve API key\n",
    "api_key = os.getenv(\"crypto_api\")\n",
    "type(api_key)"
   ]
  },
  {
   "cell_type": "code",
   "execution_count": 74,
   "metadata": {},
   "outputs": [
    {
     "data": {
      "text/html": [
       "<div>\n",
       "<style scoped>\n",
       "    .dataframe tbody tr th:only-of-type {\n",
       "        vertical-align: middle;\n",
       "    }\n",
       "\n",
       "    .dataframe tbody tr th {\n",
       "        vertical-align: top;\n",
       "    }\n",
       "\n",
       "    .dataframe thead th {\n",
       "        text-align: right;\n",
       "    }\n",
       "</style>\n",
       "<table border=\"1\" class=\"dataframe\">\n",
       "  <thead>\n",
       "    <tr style=\"text-align: right;\">\n",
       "      <th></th>\n",
       "      <th>Unnamed: 0</th>\n",
       "      <th>CoinName</th>\n",
       "      <th>Algorithm</th>\n",
       "      <th>IsTrading</th>\n",
       "      <th>ProofType</th>\n",
       "      <th>TotalCoinsMined</th>\n",
       "      <th>TotalCoinSupply</th>\n",
       "    </tr>\n",
       "  </thead>\n",
       "  <tbody>\n",
       "    <tr>\n",
       "      <th>0</th>\n",
       "      <td>42</td>\n",
       "      <td>42 Coin</td>\n",
       "      <td>Scrypt</td>\n",
       "      <td>True</td>\n",
       "      <td>PoW/PoS</td>\n",
       "      <td>4.199995e+01</td>\n",
       "      <td>42</td>\n",
       "    </tr>\n",
       "    <tr>\n",
       "      <th>1</th>\n",
       "      <td>365</td>\n",
       "      <td>365Coin</td>\n",
       "      <td>X11</td>\n",
       "      <td>True</td>\n",
       "      <td>PoW/PoS</td>\n",
       "      <td>NaN</td>\n",
       "      <td>2300000000</td>\n",
       "    </tr>\n",
       "    <tr>\n",
       "      <th>2</th>\n",
       "      <td>404</td>\n",
       "      <td>404Coin</td>\n",
       "      <td>Scrypt</td>\n",
       "      <td>True</td>\n",
       "      <td>PoW/PoS</td>\n",
       "      <td>1.055185e+09</td>\n",
       "      <td>532000000</td>\n",
       "    </tr>\n",
       "    <tr>\n",
       "      <th>3</th>\n",
       "      <td>611</td>\n",
       "      <td>SixEleven</td>\n",
       "      <td>SHA-256</td>\n",
       "      <td>True</td>\n",
       "      <td>PoW</td>\n",
       "      <td>NaN</td>\n",
       "      <td>611000</td>\n",
       "    </tr>\n",
       "    <tr>\n",
       "      <th>4</th>\n",
       "      <td>808</td>\n",
       "      <td>808</td>\n",
       "      <td>SHA-256</td>\n",
       "      <td>True</td>\n",
       "      <td>PoW/PoS</td>\n",
       "      <td>0.000000e+00</td>\n",
       "      <td>0</td>\n",
       "    </tr>\n",
       "  </tbody>\n",
       "</table>\n",
       "</div>"
      ],
      "text/plain": [
       "  Unnamed: 0   CoinName Algorithm  IsTrading ProofType  TotalCoinsMined  \\\n",
       "0         42    42 Coin    Scrypt       True   PoW/PoS     4.199995e+01   \n",
       "1        365    365Coin       X11       True   PoW/PoS              NaN   \n",
       "2        404    404Coin    Scrypt       True   PoW/PoS     1.055185e+09   \n",
       "3        611  SixEleven   SHA-256       True       PoW              NaN   \n",
       "4        808        808   SHA-256       True   PoW/PoS     0.000000e+00   \n",
       "\n",
       "  TotalCoinSupply  \n",
       "0              42  \n",
       "1      2300000000  \n",
       "2       532000000  \n",
       "3          611000  \n",
       "4               0  "
      ]
     },
     "execution_count": 74,
     "metadata": {},
     "output_type": "execute_result"
    }
   ],
   "source": [
    "# Alternatively, use the provided csv file:\n",
    "from pathlib import Path\n",
    "file_path = Path(\"Resources/crypto_data.csv\")\n",
    "crypto_df = pd.read_csv(file_path)\n",
    "crypto_df.head()\n",
    "\n",
    "\n",
    "# Create a DataFrame"
   ]
  },
  {
   "cell_type": "markdown",
   "metadata": {},
   "source": [
    "### Data Preprocessing"
   ]
  },
  {
   "cell_type": "code",
   "execution_count": 75,
   "metadata": {},
   "outputs": [
    {
     "data": {
      "text/html": [
       "<div>\n",
       "<style scoped>\n",
       "    .dataframe tbody tr th:only-of-type {\n",
       "        vertical-align: middle;\n",
       "    }\n",
       "\n",
       "    .dataframe tbody tr th {\n",
       "        vertical-align: top;\n",
       "    }\n",
       "\n",
       "    .dataframe thead th {\n",
       "        text-align: right;\n",
       "    }\n",
       "</style>\n",
       "<table border=\"1\" class=\"dataframe\">\n",
       "  <thead>\n",
       "    <tr style=\"text-align: right;\">\n",
       "      <th></th>\n",
       "      <th>CoinName</th>\n",
       "      <th>Algorithm</th>\n",
       "      <th>IsTrading</th>\n",
       "      <th>ProofType</th>\n",
       "      <th>TotalCoinsMined</th>\n",
       "      <th>TotalCoinSupply</th>\n",
       "    </tr>\n",
       "  </thead>\n",
       "  <tbody>\n",
       "    <tr>\n",
       "      <th>0</th>\n",
       "      <td>42 Coin</td>\n",
       "      <td>Scrypt</td>\n",
       "      <td>True</td>\n",
       "      <td>PoW/PoS</td>\n",
       "      <td>4.199995e+01</td>\n",
       "      <td>42</td>\n",
       "    </tr>\n",
       "    <tr>\n",
       "      <th>1</th>\n",
       "      <td>365Coin</td>\n",
       "      <td>X11</td>\n",
       "      <td>True</td>\n",
       "      <td>PoW/PoS</td>\n",
       "      <td>NaN</td>\n",
       "      <td>2300000000</td>\n",
       "    </tr>\n",
       "    <tr>\n",
       "      <th>2</th>\n",
       "      <td>404Coin</td>\n",
       "      <td>Scrypt</td>\n",
       "      <td>True</td>\n",
       "      <td>PoW/PoS</td>\n",
       "      <td>1.055185e+09</td>\n",
       "      <td>532000000</td>\n",
       "    </tr>\n",
       "    <tr>\n",
       "      <th>3</th>\n",
       "      <td>SixEleven</td>\n",
       "      <td>SHA-256</td>\n",
       "      <td>True</td>\n",
       "      <td>PoW</td>\n",
       "      <td>NaN</td>\n",
       "      <td>611000</td>\n",
       "    </tr>\n",
       "    <tr>\n",
       "      <th>4</th>\n",
       "      <td>808</td>\n",
       "      <td>SHA-256</td>\n",
       "      <td>True</td>\n",
       "      <td>PoW/PoS</td>\n",
       "      <td>0.000000e+00</td>\n",
       "      <td>0</td>\n",
       "    </tr>\n",
       "  </tbody>\n",
       "</table>\n",
       "</div>"
      ],
      "text/plain": [
       "    CoinName Algorithm  IsTrading ProofType  TotalCoinsMined TotalCoinSupply\n",
       "0    42 Coin    Scrypt       True   PoW/PoS     4.199995e+01              42\n",
       "1    365Coin       X11       True   PoW/PoS              NaN      2300000000\n",
       "2    404Coin    Scrypt       True   PoW/PoS     1.055185e+09       532000000\n",
       "3  SixEleven   SHA-256       True       PoW              NaN          611000\n",
       "4        808   SHA-256       True   PoW/PoS     0.000000e+00               0"
      ]
     },
     "execution_count": 75,
     "metadata": {},
     "output_type": "execute_result"
    }
   ],
   "source": [
    "# Keep only necessary columns:\n",
    "# 'CoinName','Algorithm','IsTrading','ProofType','TotalCoinsMined','TotalCoinSupply'\n",
    "crypto_df = crypto_df.drop(columns=['Unnamed: 0'])\n",
    "crypto_df.head()"
   ]
  },
  {
   "cell_type": "code",
   "execution_count": 76,
   "metadata": {},
   "outputs": [
    {
     "data": {
      "text/html": [
       "<div>\n",
       "<style scoped>\n",
       "    .dataframe tbody tr th:only-of-type {\n",
       "        vertical-align: middle;\n",
       "    }\n",
       "\n",
       "    .dataframe tbody tr th {\n",
       "        vertical-align: top;\n",
       "    }\n",
       "\n",
       "    .dataframe thead th {\n",
       "        text-align: right;\n",
       "    }\n",
       "</style>\n",
       "<table border=\"1\" class=\"dataframe\">\n",
       "  <thead>\n",
       "    <tr style=\"text-align: right;\">\n",
       "      <th></th>\n",
       "      <th>CoinName</th>\n",
       "      <th>Algorithm</th>\n",
       "      <th>IsTrading</th>\n",
       "      <th>ProofType</th>\n",
       "      <th>TotalCoinsMined</th>\n",
       "      <th>TotalCoinSupply</th>\n",
       "    </tr>\n",
       "  </thead>\n",
       "  <tbody>\n",
       "    <tr>\n",
       "      <th>0</th>\n",
       "      <td>42 Coin</td>\n",
       "      <td>Scrypt</td>\n",
       "      <td>True</td>\n",
       "      <td>PoW/PoS</td>\n",
       "      <td>4.199995e+01</td>\n",
       "      <td>42</td>\n",
       "    </tr>\n",
       "    <tr>\n",
       "      <th>1</th>\n",
       "      <td>365Coin</td>\n",
       "      <td>X11</td>\n",
       "      <td>True</td>\n",
       "      <td>PoW/PoS</td>\n",
       "      <td>NaN</td>\n",
       "      <td>2300000000</td>\n",
       "    </tr>\n",
       "    <tr>\n",
       "      <th>2</th>\n",
       "      <td>404Coin</td>\n",
       "      <td>Scrypt</td>\n",
       "      <td>True</td>\n",
       "      <td>PoW/PoS</td>\n",
       "      <td>1.055185e+09</td>\n",
       "      <td>532000000</td>\n",
       "    </tr>\n",
       "    <tr>\n",
       "      <th>3</th>\n",
       "      <td>SixEleven</td>\n",
       "      <td>SHA-256</td>\n",
       "      <td>True</td>\n",
       "      <td>PoW</td>\n",
       "      <td>NaN</td>\n",
       "      <td>611000</td>\n",
       "    </tr>\n",
       "    <tr>\n",
       "      <th>4</th>\n",
       "      <td>808</td>\n",
       "      <td>SHA-256</td>\n",
       "      <td>True</td>\n",
       "      <td>PoW/PoS</td>\n",
       "      <td>0.000000e+00</td>\n",
       "      <td>0</td>\n",
       "    </tr>\n",
       "  </tbody>\n",
       "</table>\n",
       "</div>"
      ],
      "text/plain": [
       "    CoinName Algorithm  IsTrading ProofType  TotalCoinsMined TotalCoinSupply\n",
       "0    42 Coin    Scrypt       True   PoW/PoS     4.199995e+01              42\n",
       "1    365Coin       X11       True   PoW/PoS              NaN      2300000000\n",
       "2    404Coin    Scrypt       True   PoW/PoS     1.055185e+09       532000000\n",
       "3  SixEleven   SHA-256       True       PoW              NaN          611000\n",
       "4        808   SHA-256       True   PoW/PoS     0.000000e+00               0"
      ]
     },
     "execution_count": 76,
     "metadata": {},
     "output_type": "execute_result"
    }
   ],
   "source": [
    "# Keep only cryptocurrencies that are trading\n",
    "crypto_df = crypto_df.loc[crypto_df['IsTrading'] == True]\n",
    "crypto_df.head()"
   ]
  },
  {
   "cell_type": "code",
   "execution_count": 77,
   "metadata": {},
   "outputs": [
    {
     "data": {
      "text/html": [
       "<div>\n",
       "<style scoped>\n",
       "    .dataframe tbody tr th:only-of-type {\n",
       "        vertical-align: middle;\n",
       "    }\n",
       "\n",
       "    .dataframe tbody tr th {\n",
       "        vertical-align: top;\n",
       "    }\n",
       "\n",
       "    .dataframe thead th {\n",
       "        text-align: right;\n",
       "    }\n",
       "</style>\n",
       "<table border=\"1\" class=\"dataframe\">\n",
       "  <thead>\n",
       "    <tr style=\"text-align: right;\">\n",
       "      <th></th>\n",
       "      <th>CoinName</th>\n",
       "      <th>Algorithm</th>\n",
       "      <th>IsTrading</th>\n",
       "      <th>ProofType</th>\n",
       "      <th>TotalCoinsMined</th>\n",
       "      <th>TotalCoinSupply</th>\n",
       "    </tr>\n",
       "  </thead>\n",
       "  <tbody>\n",
       "    <tr>\n",
       "      <th>0</th>\n",
       "      <td>42 Coin</td>\n",
       "      <td>Scrypt</td>\n",
       "      <td>True</td>\n",
       "      <td>PoW/PoS</td>\n",
       "      <td>4.199995e+01</td>\n",
       "      <td>42</td>\n",
       "    </tr>\n",
       "    <tr>\n",
       "      <th>1</th>\n",
       "      <td>365Coin</td>\n",
       "      <td>X11</td>\n",
       "      <td>True</td>\n",
       "      <td>PoW/PoS</td>\n",
       "      <td>NaN</td>\n",
       "      <td>2300000000</td>\n",
       "    </tr>\n",
       "    <tr>\n",
       "      <th>2</th>\n",
       "      <td>404Coin</td>\n",
       "      <td>Scrypt</td>\n",
       "      <td>True</td>\n",
       "      <td>PoW/PoS</td>\n",
       "      <td>1.055185e+09</td>\n",
       "      <td>532000000</td>\n",
       "    </tr>\n",
       "    <tr>\n",
       "      <th>3</th>\n",
       "      <td>SixEleven</td>\n",
       "      <td>SHA-256</td>\n",
       "      <td>True</td>\n",
       "      <td>PoW</td>\n",
       "      <td>NaN</td>\n",
       "      <td>611000</td>\n",
       "    </tr>\n",
       "    <tr>\n",
       "      <th>4</th>\n",
       "      <td>808</td>\n",
       "      <td>SHA-256</td>\n",
       "      <td>True</td>\n",
       "      <td>PoW/PoS</td>\n",
       "      <td>0.000000e+00</td>\n",
       "      <td>0</td>\n",
       "    </tr>\n",
       "  </tbody>\n",
       "</table>\n",
       "</div>"
      ],
      "text/plain": [
       "    CoinName Algorithm  IsTrading ProofType  TotalCoinsMined TotalCoinSupply\n",
       "0    42 Coin    Scrypt       True   PoW/PoS     4.199995e+01              42\n",
       "1    365Coin       X11       True   PoW/PoS              NaN      2300000000\n",
       "2    404Coin    Scrypt       True   PoW/PoS     1.055185e+09       532000000\n",
       "3  SixEleven   SHA-256       True       PoW              NaN          611000\n",
       "4        808   SHA-256       True   PoW/PoS     0.000000e+00               0"
      ]
     },
     "execution_count": 77,
     "metadata": {},
     "output_type": "execute_result"
    }
   ],
   "source": [
    "# Keep only cryptocurrencies with a working algorithm\n",
    "crypto_df = crypto_df.loc[crypto_df['Algorithm']!='N/A']\n",
    "crypto_df.head()"
   ]
  },
  {
   "cell_type": "code",
   "execution_count": 78,
   "metadata": {},
   "outputs": [
    {
     "data": {
      "text/html": [
       "<div>\n",
       "<style scoped>\n",
       "    .dataframe tbody tr th:only-of-type {\n",
       "        vertical-align: middle;\n",
       "    }\n",
       "\n",
       "    .dataframe tbody tr th {\n",
       "        vertical-align: top;\n",
       "    }\n",
       "\n",
       "    .dataframe thead th {\n",
       "        text-align: right;\n",
       "    }\n",
       "</style>\n",
       "<table border=\"1\" class=\"dataframe\">\n",
       "  <thead>\n",
       "    <tr style=\"text-align: right;\">\n",
       "      <th></th>\n",
       "      <th>CoinName</th>\n",
       "      <th>Algorithm</th>\n",
       "      <th>ProofType</th>\n",
       "      <th>TotalCoinsMined</th>\n",
       "      <th>TotalCoinSupply</th>\n",
       "    </tr>\n",
       "  </thead>\n",
       "  <tbody>\n",
       "    <tr>\n",
       "      <th>0</th>\n",
       "      <td>42 Coin</td>\n",
       "      <td>Scrypt</td>\n",
       "      <td>PoW/PoS</td>\n",
       "      <td>4.199995e+01</td>\n",
       "      <td>42</td>\n",
       "    </tr>\n",
       "    <tr>\n",
       "      <th>1</th>\n",
       "      <td>365Coin</td>\n",
       "      <td>X11</td>\n",
       "      <td>PoW/PoS</td>\n",
       "      <td>NaN</td>\n",
       "      <td>2300000000</td>\n",
       "    </tr>\n",
       "    <tr>\n",
       "      <th>2</th>\n",
       "      <td>404Coin</td>\n",
       "      <td>Scrypt</td>\n",
       "      <td>PoW/PoS</td>\n",
       "      <td>1.055185e+09</td>\n",
       "      <td>532000000</td>\n",
       "    </tr>\n",
       "    <tr>\n",
       "      <th>3</th>\n",
       "      <td>SixEleven</td>\n",
       "      <td>SHA-256</td>\n",
       "      <td>PoW</td>\n",
       "      <td>NaN</td>\n",
       "      <td>611000</td>\n",
       "    </tr>\n",
       "    <tr>\n",
       "      <th>4</th>\n",
       "      <td>808</td>\n",
       "      <td>SHA-256</td>\n",
       "      <td>PoW/PoS</td>\n",
       "      <td>0.000000e+00</td>\n",
       "      <td>0</td>\n",
       "    </tr>\n",
       "  </tbody>\n",
       "</table>\n",
       "</div>"
      ],
      "text/plain": [
       "    CoinName Algorithm ProofType  TotalCoinsMined TotalCoinSupply\n",
       "0    42 Coin    Scrypt   PoW/PoS     4.199995e+01              42\n",
       "1    365Coin       X11   PoW/PoS              NaN      2300000000\n",
       "2    404Coin    Scrypt   PoW/PoS     1.055185e+09       532000000\n",
       "3  SixEleven   SHA-256       PoW              NaN          611000\n",
       "4        808   SHA-256   PoW/PoS     0.000000e+00               0"
      ]
     },
     "execution_count": 78,
     "metadata": {},
     "output_type": "execute_result"
    }
   ],
   "source": [
    "# Remove the \"IsTrading\" column\n",
    "crypto_df = crypto_df.drop(columns=['IsTrading'])\n",
    "crypto_df.head()"
   ]
  },
  {
   "cell_type": "code",
   "execution_count": 79,
   "metadata": {},
   "outputs": [
    {
     "data": {
      "text/html": [
       "<div>\n",
       "<style scoped>\n",
       "    .dataframe tbody tr th:only-of-type {\n",
       "        vertical-align: middle;\n",
       "    }\n",
       "\n",
       "    .dataframe tbody tr th {\n",
       "        vertical-align: top;\n",
       "    }\n",
       "\n",
       "    .dataframe thead th {\n",
       "        text-align: right;\n",
       "    }\n",
       "</style>\n",
       "<table border=\"1\" class=\"dataframe\">\n",
       "  <thead>\n",
       "    <tr style=\"text-align: right;\">\n",
       "      <th></th>\n",
       "      <th>CoinName</th>\n",
       "      <th>Algorithm</th>\n",
       "      <th>ProofType</th>\n",
       "      <th>TotalCoinsMined</th>\n",
       "      <th>TotalCoinSupply</th>\n",
       "    </tr>\n",
       "  </thead>\n",
       "  <tbody>\n",
       "    <tr>\n",
       "      <th>0</th>\n",
       "      <td>42 Coin</td>\n",
       "      <td>Scrypt</td>\n",
       "      <td>PoW/PoS</td>\n",
       "      <td>4.199995e+01</td>\n",
       "      <td>42</td>\n",
       "    </tr>\n",
       "    <tr>\n",
       "      <th>2</th>\n",
       "      <td>404Coin</td>\n",
       "      <td>Scrypt</td>\n",
       "      <td>PoW/PoS</td>\n",
       "      <td>1.055185e+09</td>\n",
       "      <td>532000000</td>\n",
       "    </tr>\n",
       "    <tr>\n",
       "      <th>4</th>\n",
       "      <td>808</td>\n",
       "      <td>SHA-256</td>\n",
       "      <td>PoW/PoS</td>\n",
       "      <td>0.000000e+00</td>\n",
       "      <td>0</td>\n",
       "    </tr>\n",
       "    <tr>\n",
       "      <th>5</th>\n",
       "      <td>EliteCoin</td>\n",
       "      <td>X13</td>\n",
       "      <td>PoW/PoS</td>\n",
       "      <td>2.927942e+10</td>\n",
       "      <td>314159265359</td>\n",
       "    </tr>\n",
       "    <tr>\n",
       "      <th>7</th>\n",
       "      <td>Bitcoin</td>\n",
       "      <td>SHA-256</td>\n",
       "      <td>PoW</td>\n",
       "      <td>1.792718e+07</td>\n",
       "      <td>21000000</td>\n",
       "    </tr>\n",
       "    <tr>\n",
       "      <th>...</th>\n",
       "      <td>...</td>\n",
       "      <td>...</td>\n",
       "      <td>...</td>\n",
       "      <td>...</td>\n",
       "      <td>...</td>\n",
       "    </tr>\n",
       "    <tr>\n",
       "      <th>1238</th>\n",
       "      <td>ZEPHYR</td>\n",
       "      <td>SHA-256</td>\n",
       "      <td>DPoS</td>\n",
       "      <td>2.000000e+09</td>\n",
       "      <td>2000000000</td>\n",
       "    </tr>\n",
       "    <tr>\n",
       "      <th>1242</th>\n",
       "      <td>Gapcoin</td>\n",
       "      <td>Scrypt</td>\n",
       "      <td>PoW/PoS</td>\n",
       "      <td>1.493105e+07</td>\n",
       "      <td>250000000</td>\n",
       "    </tr>\n",
       "    <tr>\n",
       "      <th>1245</th>\n",
       "      <td>Beldex</td>\n",
       "      <td>CryptoNight</td>\n",
       "      <td>PoW</td>\n",
       "      <td>9.802226e+08</td>\n",
       "      <td>1400222610</td>\n",
       "    </tr>\n",
       "    <tr>\n",
       "      <th>1246</th>\n",
       "      <td>Horizen</td>\n",
       "      <td>Equihash</td>\n",
       "      <td>PoW</td>\n",
       "      <td>7.296538e+06</td>\n",
       "      <td>21000000</td>\n",
       "    </tr>\n",
       "    <tr>\n",
       "      <th>1247</th>\n",
       "      <td>BitcoinPlus</td>\n",
       "      <td>Scrypt</td>\n",
       "      <td>PoS</td>\n",
       "      <td>1.283270e+05</td>\n",
       "      <td>1000000</td>\n",
       "    </tr>\n",
       "  </tbody>\n",
       "</table>\n",
       "<p>685 rows × 5 columns</p>\n",
       "</div>"
      ],
      "text/plain": [
       "         CoinName    Algorithm ProofType  TotalCoinsMined TotalCoinSupply\n",
       "0         42 Coin       Scrypt   PoW/PoS     4.199995e+01              42\n",
       "2         404Coin       Scrypt   PoW/PoS     1.055185e+09       532000000\n",
       "4             808      SHA-256   PoW/PoS     0.000000e+00               0\n",
       "5       EliteCoin          X13   PoW/PoS     2.927942e+10    314159265359\n",
       "7         Bitcoin      SHA-256       PoW     1.792718e+07        21000000\n",
       "...           ...          ...       ...              ...             ...\n",
       "1238       ZEPHYR      SHA-256      DPoS     2.000000e+09      2000000000\n",
       "1242      Gapcoin       Scrypt   PoW/PoS     1.493105e+07       250000000\n",
       "1245       Beldex  CryptoNight       PoW     9.802226e+08      1400222610\n",
       "1246      Horizen     Equihash       PoW     7.296538e+06        21000000\n",
       "1247  BitcoinPlus       Scrypt       PoS     1.283270e+05         1000000\n",
       "\n",
       "[685 rows x 5 columns]"
      ]
     },
     "execution_count": 79,
     "metadata": {},
     "output_type": "execute_result"
    }
   ],
   "source": [
    "# Remove rows with at least 1 null value\n",
    "crypto_df = crypto_df.dropna()\n",
    "crypto_df"
   ]
  },
  {
   "cell_type": "code",
   "execution_count": 80,
   "metadata": {},
   "outputs": [
    {
     "data": {
      "text/html": [
       "<div>\n",
       "<style scoped>\n",
       "    .dataframe tbody tr th:only-of-type {\n",
       "        vertical-align: middle;\n",
       "    }\n",
       "\n",
       "    .dataframe tbody tr th {\n",
       "        vertical-align: top;\n",
       "    }\n",
       "\n",
       "    .dataframe thead th {\n",
       "        text-align: right;\n",
       "    }\n",
       "</style>\n",
       "<table border=\"1\" class=\"dataframe\">\n",
       "  <thead>\n",
       "    <tr style=\"text-align: right;\">\n",
       "      <th></th>\n",
       "      <th>CoinName</th>\n",
       "      <th>Algorithm</th>\n",
       "      <th>ProofType</th>\n",
       "      <th>TotalCoinsMined</th>\n",
       "      <th>TotalCoinSupply</th>\n",
       "    </tr>\n",
       "  </thead>\n",
       "  <tbody>\n",
       "    <tr>\n",
       "      <th>0</th>\n",
       "      <td>42 Coin</td>\n",
       "      <td>Scrypt</td>\n",
       "      <td>PoW/PoS</td>\n",
       "      <td>4.199995e+01</td>\n",
       "      <td>42</td>\n",
       "    </tr>\n",
       "    <tr>\n",
       "      <th>2</th>\n",
       "      <td>404Coin</td>\n",
       "      <td>Scrypt</td>\n",
       "      <td>PoW/PoS</td>\n",
       "      <td>1.055185e+09</td>\n",
       "      <td>532000000</td>\n",
       "    </tr>\n",
       "    <tr>\n",
       "      <th>5</th>\n",
       "      <td>EliteCoin</td>\n",
       "      <td>X13</td>\n",
       "      <td>PoW/PoS</td>\n",
       "      <td>2.927942e+10</td>\n",
       "      <td>314159265359</td>\n",
       "    </tr>\n",
       "    <tr>\n",
       "      <th>7</th>\n",
       "      <td>Bitcoin</td>\n",
       "      <td>SHA-256</td>\n",
       "      <td>PoW</td>\n",
       "      <td>1.792718e+07</td>\n",
       "      <td>21000000</td>\n",
       "    </tr>\n",
       "    <tr>\n",
       "      <th>8</th>\n",
       "      <td>Ethereum</td>\n",
       "      <td>Ethash</td>\n",
       "      <td>PoW</td>\n",
       "      <td>1.076842e+08</td>\n",
       "      <td>0</td>\n",
       "    </tr>\n",
       "    <tr>\n",
       "      <th>...</th>\n",
       "      <td>...</td>\n",
       "      <td>...</td>\n",
       "      <td>...</td>\n",
       "      <td>...</td>\n",
       "      <td>...</td>\n",
       "    </tr>\n",
       "    <tr>\n",
       "      <th>1238</th>\n",
       "      <td>ZEPHYR</td>\n",
       "      <td>SHA-256</td>\n",
       "      <td>DPoS</td>\n",
       "      <td>2.000000e+09</td>\n",
       "      <td>2000000000</td>\n",
       "    </tr>\n",
       "    <tr>\n",
       "      <th>1242</th>\n",
       "      <td>Gapcoin</td>\n",
       "      <td>Scrypt</td>\n",
       "      <td>PoW/PoS</td>\n",
       "      <td>1.493105e+07</td>\n",
       "      <td>250000000</td>\n",
       "    </tr>\n",
       "    <tr>\n",
       "      <th>1245</th>\n",
       "      <td>Beldex</td>\n",
       "      <td>CryptoNight</td>\n",
       "      <td>PoW</td>\n",
       "      <td>9.802226e+08</td>\n",
       "      <td>1400222610</td>\n",
       "    </tr>\n",
       "    <tr>\n",
       "      <th>1246</th>\n",
       "      <td>Horizen</td>\n",
       "      <td>Equihash</td>\n",
       "      <td>PoW</td>\n",
       "      <td>7.296538e+06</td>\n",
       "      <td>21000000</td>\n",
       "    </tr>\n",
       "    <tr>\n",
       "      <th>1247</th>\n",
       "      <td>BitcoinPlus</td>\n",
       "      <td>Scrypt</td>\n",
       "      <td>PoS</td>\n",
       "      <td>1.283270e+05</td>\n",
       "      <td>1000000</td>\n",
       "    </tr>\n",
       "  </tbody>\n",
       "</table>\n",
       "<p>533 rows × 5 columns</p>\n",
       "</div>"
      ],
      "text/plain": [
       "         CoinName    Algorithm ProofType  TotalCoinsMined TotalCoinSupply\n",
       "0         42 Coin       Scrypt   PoW/PoS     4.199995e+01              42\n",
       "2         404Coin       Scrypt   PoW/PoS     1.055185e+09       532000000\n",
       "5       EliteCoin          X13   PoW/PoS     2.927942e+10    314159265359\n",
       "7         Bitcoin      SHA-256       PoW     1.792718e+07        21000000\n",
       "8        Ethereum       Ethash       PoW     1.076842e+08               0\n",
       "...           ...          ...       ...              ...             ...\n",
       "1238       ZEPHYR      SHA-256      DPoS     2.000000e+09      2000000000\n",
       "1242      Gapcoin       Scrypt   PoW/PoS     1.493105e+07       250000000\n",
       "1245       Beldex  CryptoNight       PoW     9.802226e+08      1400222610\n",
       "1246      Horizen     Equihash       PoW     7.296538e+06        21000000\n",
       "1247  BitcoinPlus       Scrypt       PoS     1.283270e+05         1000000\n",
       "\n",
       "[533 rows x 5 columns]"
      ]
     },
     "execution_count": 80,
     "metadata": {},
     "output_type": "execute_result"
    }
   ],
   "source": [
    "# Remove rows with cryptocurrencies having no coins mined\n",
    "crypto_df = crypto_df.loc[crypto_df['TotalCoinsMined']!=0]\n",
    "crypto_df"
   ]
  },
  {
   "cell_type": "code",
   "execution_count": 81,
   "metadata": {},
   "outputs": [
    {
     "data": {
      "text/html": [
       "<div>\n",
       "<style scoped>\n",
       "    .dataframe tbody tr th:only-of-type {\n",
       "        vertical-align: middle;\n",
       "    }\n",
       "\n",
       "    .dataframe tbody tr th {\n",
       "        vertical-align: top;\n",
       "    }\n",
       "\n",
       "    .dataframe thead th {\n",
       "        text-align: right;\n",
       "    }\n",
       "</style>\n",
       "<table border=\"1\" class=\"dataframe\">\n",
       "  <thead>\n",
       "    <tr style=\"text-align: right;\">\n",
       "      <th></th>\n",
       "      <th>CoinName</th>\n",
       "      <th>Algorithm</th>\n",
       "      <th>ProofType</th>\n",
       "      <th>TotalCoinsMined</th>\n",
       "      <th>TotalCoinSupply</th>\n",
       "    </tr>\n",
       "  </thead>\n",
       "  <tbody>\n",
       "    <tr>\n",
       "      <th>0</th>\n",
       "      <td>42 Coin</td>\n",
       "      <td>Scrypt</td>\n",
       "      <td>PoW/PoS</td>\n",
       "      <td>4.199995e+01</td>\n",
       "      <td>42</td>\n",
       "    </tr>\n",
       "    <tr>\n",
       "      <th>2</th>\n",
       "      <td>404Coin</td>\n",
       "      <td>Scrypt</td>\n",
       "      <td>PoW/PoS</td>\n",
       "      <td>1.055185e+09</td>\n",
       "      <td>532000000</td>\n",
       "    </tr>\n",
       "    <tr>\n",
       "      <th>5</th>\n",
       "      <td>EliteCoin</td>\n",
       "      <td>X13</td>\n",
       "      <td>PoW/PoS</td>\n",
       "      <td>2.927942e+10</td>\n",
       "      <td>314159265359</td>\n",
       "    </tr>\n",
       "    <tr>\n",
       "      <th>7</th>\n",
       "      <td>Bitcoin</td>\n",
       "      <td>SHA-256</td>\n",
       "      <td>PoW</td>\n",
       "      <td>1.792718e+07</td>\n",
       "      <td>21000000</td>\n",
       "    </tr>\n",
       "    <tr>\n",
       "      <th>8</th>\n",
       "      <td>Ethereum</td>\n",
       "      <td>Ethash</td>\n",
       "      <td>PoW</td>\n",
       "      <td>1.076842e+08</td>\n",
       "      <td>0</td>\n",
       "    </tr>\n",
       "    <tr>\n",
       "      <th>...</th>\n",
       "      <td>...</td>\n",
       "      <td>...</td>\n",
       "      <td>...</td>\n",
       "      <td>...</td>\n",
       "      <td>...</td>\n",
       "    </tr>\n",
       "    <tr>\n",
       "      <th>1238</th>\n",
       "      <td>ZEPHYR</td>\n",
       "      <td>SHA-256</td>\n",
       "      <td>DPoS</td>\n",
       "      <td>2.000000e+09</td>\n",
       "      <td>2000000000</td>\n",
       "    </tr>\n",
       "    <tr>\n",
       "      <th>1242</th>\n",
       "      <td>Gapcoin</td>\n",
       "      <td>Scrypt</td>\n",
       "      <td>PoW/PoS</td>\n",
       "      <td>1.493105e+07</td>\n",
       "      <td>250000000</td>\n",
       "    </tr>\n",
       "    <tr>\n",
       "      <th>1245</th>\n",
       "      <td>Beldex</td>\n",
       "      <td>CryptoNight</td>\n",
       "      <td>PoW</td>\n",
       "      <td>9.802226e+08</td>\n",
       "      <td>1400222610</td>\n",
       "    </tr>\n",
       "    <tr>\n",
       "      <th>1246</th>\n",
       "      <td>Horizen</td>\n",
       "      <td>Equihash</td>\n",
       "      <td>PoW</td>\n",
       "      <td>7.296538e+06</td>\n",
       "      <td>21000000</td>\n",
       "    </tr>\n",
       "    <tr>\n",
       "      <th>1247</th>\n",
       "      <td>BitcoinPlus</td>\n",
       "      <td>Scrypt</td>\n",
       "      <td>PoS</td>\n",
       "      <td>1.283270e+05</td>\n",
       "      <td>1000000</td>\n",
       "    </tr>\n",
       "  </tbody>\n",
       "</table>\n",
       "<p>533 rows × 5 columns</p>\n",
       "</div>"
      ],
      "text/plain": [
       "         CoinName    Algorithm ProofType  TotalCoinsMined TotalCoinSupply\n",
       "0         42 Coin       Scrypt   PoW/PoS     4.199995e+01              42\n",
       "2         404Coin       Scrypt   PoW/PoS     1.055185e+09       532000000\n",
       "5       EliteCoin          X13   PoW/PoS     2.927942e+10    314159265359\n",
       "7         Bitcoin      SHA-256       PoW     1.792718e+07        21000000\n",
       "8        Ethereum       Ethash       PoW     1.076842e+08               0\n",
       "...           ...          ...       ...              ...             ...\n",
       "1238       ZEPHYR      SHA-256      DPoS     2.000000e+09      2000000000\n",
       "1242      Gapcoin       Scrypt   PoW/PoS     1.493105e+07       250000000\n",
       "1245       Beldex  CryptoNight       PoW     9.802226e+08      1400222610\n",
       "1246      Horizen     Equihash       PoW     7.296538e+06        21000000\n",
       "1247  BitcoinPlus       Scrypt       PoS     1.283270e+05         1000000\n",
       "\n",
       "[533 rows x 5 columns]"
      ]
     },
     "execution_count": 81,
     "metadata": {},
     "output_type": "execute_result"
    }
   ],
   "source": [
    "# Drop rows where there are 'N/A' text values\n",
    "for column in crypto_df:\n",
    "    crypto_df = crypto_df.loc[crypto_df[column] !='N/A']\n",
    "crypto_df    "
   ]
  },
  {
   "cell_type": "code",
   "execution_count": 82,
   "metadata": {},
   "outputs": [
    {
     "data": {
      "text/html": [
       "<div>\n",
       "<style scoped>\n",
       "    .dataframe tbody tr th:only-of-type {\n",
       "        vertical-align: middle;\n",
       "    }\n",
       "\n",
       "    .dataframe tbody tr th {\n",
       "        vertical-align: top;\n",
       "    }\n",
       "\n",
       "    .dataframe thead th {\n",
       "        text-align: right;\n",
       "    }\n",
       "</style>\n",
       "<table border=\"1\" class=\"dataframe\">\n",
       "  <thead>\n",
       "    <tr style=\"text-align: right;\">\n",
       "      <th></th>\n",
       "      <th>CoinName</th>\n",
       "    </tr>\n",
       "  </thead>\n",
       "  <tbody>\n",
       "    <tr>\n",
       "      <th>0</th>\n",
       "      <td>42 Coin</td>\n",
       "    </tr>\n",
       "    <tr>\n",
       "      <th>2</th>\n",
       "      <td>404Coin</td>\n",
       "    </tr>\n",
       "    <tr>\n",
       "      <th>5</th>\n",
       "      <td>EliteCoin</td>\n",
       "    </tr>\n",
       "    <tr>\n",
       "      <th>7</th>\n",
       "      <td>Bitcoin</td>\n",
       "    </tr>\n",
       "    <tr>\n",
       "      <th>8</th>\n",
       "      <td>Ethereum</td>\n",
       "    </tr>\n",
       "    <tr>\n",
       "      <th>...</th>\n",
       "      <td>...</td>\n",
       "    </tr>\n",
       "    <tr>\n",
       "      <th>1238</th>\n",
       "      <td>ZEPHYR</td>\n",
       "    </tr>\n",
       "    <tr>\n",
       "      <th>1242</th>\n",
       "      <td>Gapcoin</td>\n",
       "    </tr>\n",
       "    <tr>\n",
       "      <th>1245</th>\n",
       "      <td>Beldex</td>\n",
       "    </tr>\n",
       "    <tr>\n",
       "      <th>1246</th>\n",
       "      <td>Horizen</td>\n",
       "    </tr>\n",
       "    <tr>\n",
       "      <th>1247</th>\n",
       "      <td>BitcoinPlus</td>\n",
       "    </tr>\n",
       "  </tbody>\n",
       "</table>\n",
       "<p>533 rows × 1 columns</p>\n",
       "</div>"
      ],
      "text/plain": [
       "         CoinName\n",
       "0         42 Coin\n",
       "2         404Coin\n",
       "5       EliteCoin\n",
       "7         Bitcoin\n",
       "8        Ethereum\n",
       "...           ...\n",
       "1238       ZEPHYR\n",
       "1242      Gapcoin\n",
       "1245       Beldex\n",
       "1246      Horizen\n",
       "1247  BitcoinPlus\n",
       "\n",
       "[533 rows x 1 columns]"
      ]
     },
     "execution_count": 82,
     "metadata": {},
     "output_type": "execute_result"
    }
   ],
   "source": [
    "# Store the 'CoinName'column in its own DataFrame prior to dropping it from crypto_df\n",
    "coinname_df = crypto_df[['CoinName']]\n",
    "coinname_df"
   ]
  },
  {
   "cell_type": "code",
   "execution_count": 83,
   "metadata": {},
   "outputs": [
    {
     "data": {
      "text/html": [
       "<div>\n",
       "<style scoped>\n",
       "    .dataframe tbody tr th:only-of-type {\n",
       "        vertical-align: middle;\n",
       "    }\n",
       "\n",
       "    .dataframe tbody tr th {\n",
       "        vertical-align: top;\n",
       "    }\n",
       "\n",
       "    .dataframe thead th {\n",
       "        text-align: right;\n",
       "    }\n",
       "</style>\n",
       "<table border=\"1\" class=\"dataframe\">\n",
       "  <thead>\n",
       "    <tr style=\"text-align: right;\">\n",
       "      <th></th>\n",
       "      <th>Algorithm</th>\n",
       "      <th>ProofType</th>\n",
       "      <th>TotalCoinsMined</th>\n",
       "      <th>TotalCoinSupply</th>\n",
       "    </tr>\n",
       "  </thead>\n",
       "  <tbody>\n",
       "    <tr>\n",
       "      <th>0</th>\n",
       "      <td>Scrypt</td>\n",
       "      <td>PoW/PoS</td>\n",
       "      <td>4.199995e+01</td>\n",
       "      <td>42</td>\n",
       "    </tr>\n",
       "    <tr>\n",
       "      <th>2</th>\n",
       "      <td>Scrypt</td>\n",
       "      <td>PoW/PoS</td>\n",
       "      <td>1.055185e+09</td>\n",
       "      <td>532000000</td>\n",
       "    </tr>\n",
       "    <tr>\n",
       "      <th>5</th>\n",
       "      <td>X13</td>\n",
       "      <td>PoW/PoS</td>\n",
       "      <td>2.927942e+10</td>\n",
       "      <td>314159265359</td>\n",
       "    </tr>\n",
       "    <tr>\n",
       "      <th>7</th>\n",
       "      <td>SHA-256</td>\n",
       "      <td>PoW</td>\n",
       "      <td>1.792718e+07</td>\n",
       "      <td>21000000</td>\n",
       "    </tr>\n",
       "    <tr>\n",
       "      <th>8</th>\n",
       "      <td>Ethash</td>\n",
       "      <td>PoW</td>\n",
       "      <td>1.076842e+08</td>\n",
       "      <td>0</td>\n",
       "    </tr>\n",
       "    <tr>\n",
       "      <th>...</th>\n",
       "      <td>...</td>\n",
       "      <td>...</td>\n",
       "      <td>...</td>\n",
       "      <td>...</td>\n",
       "    </tr>\n",
       "    <tr>\n",
       "      <th>1238</th>\n",
       "      <td>SHA-256</td>\n",
       "      <td>DPoS</td>\n",
       "      <td>2.000000e+09</td>\n",
       "      <td>2000000000</td>\n",
       "    </tr>\n",
       "    <tr>\n",
       "      <th>1242</th>\n",
       "      <td>Scrypt</td>\n",
       "      <td>PoW/PoS</td>\n",
       "      <td>1.493105e+07</td>\n",
       "      <td>250000000</td>\n",
       "    </tr>\n",
       "    <tr>\n",
       "      <th>1245</th>\n",
       "      <td>CryptoNight</td>\n",
       "      <td>PoW</td>\n",
       "      <td>9.802226e+08</td>\n",
       "      <td>1400222610</td>\n",
       "    </tr>\n",
       "    <tr>\n",
       "      <th>1246</th>\n",
       "      <td>Equihash</td>\n",
       "      <td>PoW</td>\n",
       "      <td>7.296538e+06</td>\n",
       "      <td>21000000</td>\n",
       "    </tr>\n",
       "    <tr>\n",
       "      <th>1247</th>\n",
       "      <td>Scrypt</td>\n",
       "      <td>PoS</td>\n",
       "      <td>1.283270e+05</td>\n",
       "      <td>1000000</td>\n",
       "    </tr>\n",
       "  </tbody>\n",
       "</table>\n",
       "<p>533 rows × 4 columns</p>\n",
       "</div>"
      ],
      "text/plain": [
       "        Algorithm ProofType  TotalCoinsMined TotalCoinSupply\n",
       "0          Scrypt   PoW/PoS     4.199995e+01              42\n",
       "2          Scrypt   PoW/PoS     1.055185e+09       532000000\n",
       "5             X13   PoW/PoS     2.927942e+10    314159265359\n",
       "7         SHA-256       PoW     1.792718e+07        21000000\n",
       "8          Ethash       PoW     1.076842e+08               0\n",
       "...           ...       ...              ...             ...\n",
       "1238      SHA-256      DPoS     2.000000e+09      2000000000\n",
       "1242       Scrypt   PoW/PoS     1.493105e+07       250000000\n",
       "1245  CryptoNight       PoW     9.802226e+08      1400222610\n",
       "1246     Equihash       PoW     7.296538e+06        21000000\n",
       "1247       Scrypt       PoS     1.283270e+05         1000000\n",
       "\n",
       "[533 rows x 4 columns]"
      ]
     },
     "execution_count": 83,
     "metadata": {},
     "output_type": "execute_result"
    }
   ],
   "source": [
    "# Drop the 'CoinName' column since it's not going to be used on the clustering algorithm\n",
    "crypto_df = crypto_df.drop(columns=['CoinName'])\n",
    "crypto_df"
   ]
  },
  {
   "cell_type": "code",
   "execution_count": 84,
   "metadata": {},
   "outputs": [],
   "source": [
    "# Create dummy variables for text features\n",
    "text_feature = ''\n",
    "\n",
    "from sklearn.preprocessing import LabelEncoder\n",
    "le = LabelEncoder()\n",
    "\n",
    "le.fit(crypto_df['Algorithm'])\n",
    "crypto_df['Algorithm'] = le.transform(crypto_df['Algorithm'])\n",
    "\n",
    "le.fit(crypto_df['ProofType'])\n",
    "crypto_df['ProofType'] = le.transform(crypto_df['ProofType'])"
   ]
  },
  {
   "cell_type": "code",
   "execution_count": 85,
   "metadata": {},
   "outputs": [
    {
     "data": {
      "text/plain": [
       "array([[ 0.39335561,  0.8871567 , -0.11674788, -0.15286468],\n",
       "       [ 0.39335561,  0.8871567 , -0.09358885, -0.14499604],\n",
       "       [ 1.21439604,  0.8871567 ,  0.52587231,  4.4937636 ],\n",
       "       ...,\n",
       "       [-2.12841143,  0.00878917, -0.09523411, -0.13215444],\n",
       "       [-1.65924547,  0.00878917, -0.11658774, -0.15255408],\n",
       "       [ 0.39335561, -1.45515672, -0.11674507, -0.15284989]])"
      ]
     },
     "execution_count": 85,
     "metadata": {},
     "output_type": "execute_result"
    }
   ],
   "source": [
    "# Standardize data\n",
    "scaler = StandardScaler()\n",
    "\n",
    "crypto_standardized = scaler.fit_transform(crypto_df)\n",
    "crypto_standardized"
   ]
  },
  {
   "cell_type": "markdown",
   "metadata": {},
   "source": [
    "### Reducing Dimensions Using PCA"
   ]
  },
  {
   "cell_type": "code",
   "execution_count": 86,
   "metadata": {},
   "outputs": [],
   "source": [
    "# Use PCA to reduce dimensions to 3 principal components\n",
    "pca = PCA(n_components=3)"
   ]
  },
  {
   "cell_type": "code",
   "execution_count": 87,
   "metadata": {},
   "outputs": [
    {
     "data": {
      "text/html": [
       "<div>\n",
       "<style scoped>\n",
       "    .dataframe tbody tr th:only-of-type {\n",
       "        vertical-align: middle;\n",
       "    }\n",
       "\n",
       "    .dataframe tbody tr th {\n",
       "        vertical-align: top;\n",
       "    }\n",
       "\n",
       "    .dataframe thead th {\n",
       "        text-align: right;\n",
       "    }\n",
       "</style>\n",
       "<table border=\"1\" class=\"dataframe\">\n",
       "  <thead>\n",
       "    <tr style=\"text-align: right;\">\n",
       "      <th></th>\n",
       "      <th>PC_1</th>\n",
       "      <th>PC_2</th>\n",
       "      <th>PC_3</th>\n",
       "    </tr>\n",
       "  </thead>\n",
       "  <tbody>\n",
       "    <tr>\n",
       "      <th>0</th>\n",
       "      <td>-0.412665</td>\n",
       "      <td>0.823150</td>\n",
       "      <td>0.357227</td>\n",
       "    </tr>\n",
       "    <tr>\n",
       "      <th>2</th>\n",
       "      <td>-0.391306</td>\n",
       "      <td>0.827873</td>\n",
       "      <td>0.358336</td>\n",
       "    </tr>\n",
       "    <tr>\n",
       "      <th>5</th>\n",
       "      <td>3.143152</td>\n",
       "      <td>2.186748</td>\n",
       "      <td>0.487273</td>\n",
       "    </tr>\n",
       "    <tr>\n",
       "      <th>7</th>\n",
       "      <td>-0.190301</td>\n",
       "      <td>-0.003829</td>\n",
       "      <td>-0.043688</td>\n",
       "    </tr>\n",
       "    <tr>\n",
       "      <th>8</th>\n",
       "      <td>-0.051013</td>\n",
       "      <td>-1.161387</td>\n",
       "      <td>1.020473</td>\n",
       "    </tr>\n",
       "    <tr>\n",
       "      <th>...</th>\n",
       "      <td>...</td>\n",
       "      <td>...</td>\n",
       "      <td>...</td>\n",
       "    </tr>\n",
       "    <tr>\n",
       "      <th>1238</th>\n",
       "      <td>0.560750</td>\n",
       "      <td>-2.082122</td>\n",
       "      <td>-2.376795</td>\n",
       "    </tr>\n",
       "    <tr>\n",
       "      <th>1242</th>\n",
       "      <td>-0.409905</td>\n",
       "      <td>0.823729</td>\n",
       "      <td>0.357770</td>\n",
       "    </tr>\n",
       "    <tr>\n",
       "      <th>1245</th>\n",
       "      <td>0.027548</td>\n",
       "      <td>-1.584277</td>\n",
       "      <td>1.417630</td>\n",
       "    </tr>\n",
       "    <tr>\n",
       "      <th>1246</th>\n",
       "      <td>-0.042086</td>\n",
       "      <td>-1.247450</td>\n",
       "      <td>1.099354</td>\n",
       "    </tr>\n",
       "    <tr>\n",
       "      <th>1247</th>\n",
       "      <td>0.097164</td>\n",
       "      <td>-0.696289</td>\n",
       "      <td>-1.342640</td>\n",
       "    </tr>\n",
       "  </tbody>\n",
       "</table>\n",
       "<p>533 rows × 3 columns</p>\n",
       "</div>"
      ],
      "text/plain": [
       "          PC_1      PC_2      PC_3\n",
       "0    -0.412665  0.823150  0.357227\n",
       "2    -0.391306  0.827873  0.358336\n",
       "5     3.143152  2.186748  0.487273\n",
       "7    -0.190301 -0.003829 -0.043688\n",
       "8    -0.051013 -1.161387  1.020473\n",
       "...        ...       ...       ...\n",
       "1238  0.560750 -2.082122 -2.376795\n",
       "1242 -0.409905  0.823729  0.357770\n",
       "1245  0.027548 -1.584277  1.417630\n",
       "1246 -0.042086 -1.247450  1.099354\n",
       "1247  0.097164 -0.696289 -1.342640\n",
       "\n",
       "[533 rows x 3 columns]"
      ]
     },
     "execution_count": 87,
     "metadata": {},
     "output_type": "execute_result"
    }
   ],
   "source": [
    "# Create a DataFrame with the principal components data\n",
    "crypto_pca = pca.fit_transform(crypto_standardized)\n",
    "\n",
    "pca_df = pd.DataFrame(data=crypto_pca, columns=[\"PC_1\", \"PC_2\", \"PC_3\"], index=crypto_df.index)\n",
    "\n",
    "pca_df"
   ]
  },
  {
   "cell_type": "markdown",
   "metadata": {},
   "source": [
    "### Clustering Crytocurrencies Using K-Means\n",
    "\n",
    "#### Find the Best Value for `k` Using the Elbow Curve"
   ]
  },
  {
   "cell_type": "code",
   "execution_count": 88,
   "metadata": {},
   "outputs": [
    {
     "data": {},
     "metadata": {},
     "output_type": "display_data"
    },
    {
     "data": {
      "application/vnd.holoviews_exec.v0+json": "",
      "text/html": [
       "<div id='1958'>\n",
       "\n",
       "\n",
       "\n",
       "\n",
       "\n",
       "  <div class=\"bk-root\" id=\"bb4fed56-6b20-4281-a397-8aa98a4ce950\" data-root-id=\"1958\"></div>\n",
       "</div>\n",
       "<script type=\"application/javascript\">(function(root) {\n",
       "  function embed_document(root) {\n",
       "    var docs_json = {\"d81ce1f5-bccc-46df-93ab-c12605f52895\":{\"defs\":[{\"extends\":null,\"module\":null,\"name\":\"DataModel\",\"overrides\":[],\"properties\":[]}],\"roots\":{\"references\":[{\"attributes\":{\"axis\":{\"id\":\"1976\"},\"dimension\":1,\"grid_line_color\":null,\"ticker\":null},\"id\":\"1979\",\"type\":\"Grid\"},{\"attributes\":{\"margin\":[5,5,5,5],\"name\":\"HSpacer03416\",\"sizing_mode\":\"stretch_width\"},\"id\":\"2029\",\"type\":\"Spacer\"},{\"attributes\":{},\"id\":\"1968\",\"type\":\"LinearScale\"},{\"attributes\":{},\"id\":\"2018\",\"type\":\"UnionRenderers\"},{\"attributes\":{\"data\":{\"inertia\":{\"__ndarray__\":\"vkg7gA/inkDG8WgakUOUQGOTgl5OiYpAnww82U/LgUBuKTsdn3d6QGcwRDrd+3ZAhcf14S2nckCjry5D2eduQLxn06LACWpAj4nesUeyZkA=\",\"dtype\":\"float64\",\"order\":\"little\",\"shape\":[10]},\"k\":[1,2,3,4,5,6,7,8,9,10]},\"selected\":{\"id\":\"1994\"},\"selection_policy\":{\"id\":\"2018\"}},\"id\":\"1993\",\"type\":\"ColumnDataSource\"},{\"attributes\":{\"below\":[{\"id\":\"1972\"}],\"center\":[{\"id\":\"1975\"},{\"id\":\"1979\"}],\"height\":300,\"left\":[{\"id\":\"1976\"}],\"margin\":[5,5,5,5],\"min_border_bottom\":10,\"min_border_left\":10,\"min_border_right\":10,\"min_border_top\":10,\"renderers\":[{\"id\":\"1999\"}],\"sizing_mode\":\"fixed\",\"title\":{\"id\":\"1964\"},\"toolbar\":{\"id\":\"1986\"},\"width\":700,\"x_range\":{\"id\":\"1960\"},\"x_scale\":{\"id\":\"1968\"},\"y_range\":{\"id\":\"1961\"},\"y_scale\":{\"id\":\"1970\"}},\"id\":\"1963\",\"subtype\":\"Figure\",\"type\":\"Plot\"},{\"attributes\":{},\"id\":\"1977\",\"type\":\"BasicTicker\"},{\"attributes\":{\"axis_label\":\"inertia\",\"formatter\":{\"id\":\"2009\"},\"major_label_policy\":{\"id\":\"2008\"},\"ticker\":{\"id\":\"1977\"}},\"id\":\"1976\",\"type\":\"LinearAxis\"},{\"attributes\":{},\"id\":\"1994\",\"type\":\"Selection\"},{\"attributes\":{\"bottom_units\":\"screen\",\"fill_alpha\":0.5,\"fill_color\":\"lightgrey\",\"left_units\":\"screen\",\"level\":\"overlay\",\"line_alpha\":1.0,\"line_color\":\"black\",\"line_dash\":[4,4],\"line_width\":2,\"right_units\":\"screen\",\"syncable\":false,\"top_units\":\"screen\"},\"id\":\"1985\",\"type\":\"BoxAnnotation\"},{\"attributes\":{\"line_color\":\"#30a2da\",\"line_width\":2,\"x\":{\"field\":\"k\"},\"y\":{\"field\":\"inertia\"}},\"id\":\"1996\",\"type\":\"Line\"},{\"attributes\":{\"line_alpha\":0.2,\"line_color\":\"#30a2da\",\"line_width\":2,\"x\":{\"field\":\"k\"},\"y\":{\"field\":\"inertia\"}},\"id\":\"1998\",\"type\":\"Line\"},{\"attributes\":{\"data_source\":{\"id\":\"1993\"},\"glyph\":{\"id\":\"1996\"},\"hover_glyph\":null,\"muted_glyph\":{\"id\":\"1998\"},\"nonselection_glyph\":{\"id\":\"1997\"},\"selection_glyph\":{\"id\":\"2001\"},\"view\":{\"id\":\"2000\"}},\"id\":\"1999\",\"type\":\"GlyphRenderer\"},{\"attributes\":{\"end\":2156.0095261816805,\"reset_end\":2156.0095261816805,\"reset_start\":2.0768632273445746,\"start\":2.0768632273445746,\"tags\":[[[\"inertia\",\"inertia\",null]]]},\"id\":\"1961\",\"type\":\"Range1d\"},{\"attributes\":{\"source\":{\"id\":\"1993\"}},\"id\":\"2000\",\"type\":\"CDSView\"},{\"attributes\":{\"active_multi\":null,\"tools\":[{\"id\":\"1962\"},{\"id\":\"1980\"},{\"id\":\"1981\"},{\"id\":\"1982\"},{\"id\":\"1983\"},{\"id\":\"1984\"}]},\"id\":\"1986\",\"type\":\"Toolbar\"},{\"attributes\":{\"line_color\":\"#30a2da\",\"line_width\":2,\"x\":{\"field\":\"k\"},\"y\":{\"field\":\"inertia\"}},\"id\":\"2001\",\"type\":\"Line\"},{\"attributes\":{\"callback\":null,\"renderers\":[{\"id\":\"1999\"}],\"tags\":[\"hv_created\"],\"tooltips\":[[\"k\",\"@{k}\"],[\"inertia\",\"@{inertia}\"]]},\"id\":\"1962\",\"type\":\"HoverTool\"},{\"attributes\":{},\"id\":\"1980\",\"type\":\"SaveTool\"},{\"attributes\":{},\"id\":\"1981\",\"type\":\"PanTool\"},{\"attributes\":{\"children\":[{\"id\":\"1959\"},{\"id\":\"1963\"},{\"id\":\"2029\"}],\"margin\":[0,0,0,0],\"name\":\"Row03411\",\"tags\":[\"embedded\"]},\"id\":\"1958\",\"type\":\"Row\"},{\"attributes\":{\"line_alpha\":0.1,\"line_color\":\"#30a2da\",\"line_width\":2,\"x\":{\"field\":\"k\"},\"y\":{\"field\":\"inertia\"}},\"id\":\"1997\",\"type\":\"Line\"},{\"attributes\":{},\"id\":\"1982\",\"type\":\"WheelZoomTool\"},{\"attributes\":{},\"id\":\"1970\",\"type\":\"LinearScale\"},{\"attributes\":{\"overlay\":{\"id\":\"1985\"}},\"id\":\"1983\",\"type\":\"BoxZoomTool\"},{\"attributes\":{},\"id\":\"2003\",\"type\":\"AllLabels\"},{\"attributes\":{\"end\":10.0,\"reset_end\":10.0,\"reset_start\":1.0,\"start\":1.0,\"tags\":[[[\"k\",\"k\",null]]]},\"id\":\"1960\",\"type\":\"Range1d\"},{\"attributes\":{\"axis_label\":\"k\",\"formatter\":{\"id\":\"2004\"},\"major_label_policy\":{\"id\":\"2003\"},\"ticker\":{\"id\":\"2002\"}},\"id\":\"1972\",\"type\":\"LinearAxis\"},{\"attributes\":{},\"id\":\"2004\",\"type\":\"BasicTickFormatter\"},{\"attributes\":{},\"id\":\"2008\",\"type\":\"AllLabels\"},{\"attributes\":{},\"id\":\"2009\",\"type\":\"BasicTickFormatter\"},{\"attributes\":{},\"id\":\"1984\",\"type\":\"ResetTool\"},{\"attributes\":{\"margin\":[5,5,5,5],\"name\":\"HSpacer03415\",\"sizing_mode\":\"stretch_width\"},\"id\":\"1959\",\"type\":\"Spacer\"},{\"attributes\":{\"ticks\":[1,2,3,4,5,6,7,8,9,10]},\"id\":\"2002\",\"type\":\"FixedTicker\"},{\"attributes\":{\"axis\":{\"id\":\"1972\"},\"grid_line_color\":null,\"ticker\":null},\"id\":\"1975\",\"type\":\"Grid\"},{\"attributes\":{\"text\":\"Elbow Curve\",\"text_color\":\"black\",\"text_font_size\":\"12pt\"},\"id\":\"1964\",\"type\":\"Title\"}],\"root_ids\":[\"1958\"]},\"title\":\"Bokeh Application\",\"version\":\"2.3.0\"}};\n",
       "    var render_items = [{\"docid\":\"d81ce1f5-bccc-46df-93ab-c12605f52895\",\"root_ids\":[\"1958\"],\"roots\":{\"1958\":\"bb4fed56-6b20-4281-a397-8aa98a4ce950\"}}];\n",
       "    root.Bokeh.embed.embed_items_notebook(docs_json, render_items);\n",
       "  }\n",
       "  if (root.Bokeh !== undefined && root.Bokeh.Panel !== undefined) {\n",
       "    embed_document(root);\n",
       "  } else {\n",
       "    var attempts = 0;\n",
       "    var timer = setInterval(function(root) {\n",
       "      if (root.Bokeh !== undefined && root.Bokeh.Panel !== undefined) {\n",
       "        clearInterval(timer);\n",
       "        embed_document(root);\n",
       "      } else if (document.readyState == \"complete\") {\n",
       "        attempts++;\n",
       "        if (attempts > 100) {\n",
       "          clearInterval(timer);\n",
       "          console.log(\"Bokeh: ERROR: Unable to run BokehJS code because BokehJS library is missing\");\n",
       "        }\n",
       "      }\n",
       "    }, 10, root)\n",
       "  }\n",
       "})(window);</script>"
      ],
      "text/plain": [
       ":Curve   [k]   (inertia)"
      ]
     },
     "execution_count": 88,
     "metadata": {
      "application/vnd.holoviews_exec.v0+json": {
       "id": "1958"
      }
     },
     "output_type": "execute_result"
    }
   ],
   "source": [
    "inertia = []\n",
    "k = list(range(1, 11))\n",
    "\n",
    "# Calculate the inertia for the range of k values\n",
    "for i in k:\n",
    "    km = KMeans(n_clusters=i, random_state=0)\n",
    "    km.fit(pca_df)\n",
    "    inertia.append(km.inertia_)\n",
    "\n",
    "# Create the Elbow Curve using hvPlot\n",
    "elbow_data = {\"k\" : k, \"inertia\" : inertia}\n",
    "df_elbow = pd.DataFrame(elbow_data)\n",
    "df_elbow.hvplot.line(x=\"k\", y=\"inertia\", xticks=k, title=\"Elbow Curve\")"
   ]
  },
  {
   "cell_type": "markdown",
   "metadata": {},
   "source": [
    "Running K-Means with `k=<your best value for k here>`"
   ]
  },
  {
   "cell_type": "code",
   "execution_count": 89,
   "metadata": {},
   "outputs": [
    {
     "data": {
      "text/html": [
       "<div>\n",
       "<style scoped>\n",
       "    .dataframe tbody tr th:only-of-type {\n",
       "        vertical-align: middle;\n",
       "    }\n",
       "\n",
       "    .dataframe tbody tr th {\n",
       "        vertical-align: top;\n",
       "    }\n",
       "\n",
       "    .dataframe thead th {\n",
       "        text-align: right;\n",
       "    }\n",
       "</style>\n",
       "<table border=\"1\" class=\"dataframe\">\n",
       "  <thead>\n",
       "    <tr style=\"text-align: right;\">\n",
       "      <th></th>\n",
       "      <th>Algorithm</th>\n",
       "      <th>ProofType</th>\n",
       "      <th>TotalCoinsMined</th>\n",
       "      <th>TotalCoinSupply</th>\n",
       "      <th>PC_1</th>\n",
       "      <th>PC_2</th>\n",
       "      <th>PC_3</th>\n",
       "      <th>CoinName</th>\n",
       "      <th>Class</th>\n",
       "    </tr>\n",
       "  </thead>\n",
       "  <tbody>\n",
       "    <tr>\n",
       "      <th>0</th>\n",
       "      <td>53</td>\n",
       "      <td>16</td>\n",
       "      <td>4.199995e+01</td>\n",
       "      <td>42</td>\n",
       "      <td>-0.412665</td>\n",
       "      <td>0.823150</td>\n",
       "      <td>0.357227</td>\n",
       "      <td>42 Coin</td>\n",
       "      <td>2</td>\n",
       "    </tr>\n",
       "    <tr>\n",
       "      <th>2</th>\n",
       "      <td>53</td>\n",
       "      <td>16</td>\n",
       "      <td>1.055185e+09</td>\n",
       "      <td>532000000</td>\n",
       "      <td>-0.391306</td>\n",
       "      <td>0.827873</td>\n",
       "      <td>0.358336</td>\n",
       "      <td>404Coin</td>\n",
       "      <td>2</td>\n",
       "    </tr>\n",
       "    <tr>\n",
       "      <th>5</th>\n",
       "      <td>67</td>\n",
       "      <td>16</td>\n",
       "      <td>2.927942e+10</td>\n",
       "      <td>314159265359</td>\n",
       "      <td>3.143152</td>\n",
       "      <td>2.186748</td>\n",
       "      <td>0.487273</td>\n",
       "      <td>EliteCoin</td>\n",
       "      <td>2</td>\n",
       "    </tr>\n",
       "    <tr>\n",
       "      <th>7</th>\n",
       "      <td>47</td>\n",
       "      <td>13</td>\n",
       "      <td>1.792718e+07</td>\n",
       "      <td>21000000</td>\n",
       "      <td>-0.190301</td>\n",
       "      <td>-0.003829</td>\n",
       "      <td>-0.043688</td>\n",
       "      <td>Bitcoin</td>\n",
       "      <td>2</td>\n",
       "    </tr>\n",
       "    <tr>\n",
       "      <th>8</th>\n",
       "      <td>20</td>\n",
       "      <td>13</td>\n",
       "      <td>1.076842e+08</td>\n",
       "      <td>0</td>\n",
       "      <td>-0.051013</td>\n",
       "      <td>-1.161387</td>\n",
       "      <td>1.020473</td>\n",
       "      <td>Ethereum</td>\n",
       "      <td>1</td>\n",
       "    </tr>\n",
       "    <tr>\n",
       "      <th>...</th>\n",
       "      <td>...</td>\n",
       "      <td>...</td>\n",
       "      <td>...</td>\n",
       "      <td>...</td>\n",
       "      <td>...</td>\n",
       "      <td>...</td>\n",
       "      <td>...</td>\n",
       "      <td>...</td>\n",
       "      <td>...</td>\n",
       "    </tr>\n",
       "    <tr>\n",
       "      <th>1238</th>\n",
       "      <td>47</td>\n",
       "      <td>2</td>\n",
       "      <td>2.000000e+09</td>\n",
       "      <td>2000000000</td>\n",
       "      <td>0.560750</td>\n",
       "      <td>-2.082122</td>\n",
       "      <td>-2.376795</td>\n",
       "      <td>ZEPHYR</td>\n",
       "      <td>1</td>\n",
       "    </tr>\n",
       "    <tr>\n",
       "      <th>1242</th>\n",
       "      <td>53</td>\n",
       "      <td>16</td>\n",
       "      <td>1.493105e+07</td>\n",
       "      <td>250000000</td>\n",
       "      <td>-0.409905</td>\n",
       "      <td>0.823729</td>\n",
       "      <td>0.357770</td>\n",
       "      <td>Gapcoin</td>\n",
       "      <td>2</td>\n",
       "    </tr>\n",
       "    <tr>\n",
       "      <th>1245</th>\n",
       "      <td>10</td>\n",
       "      <td>13</td>\n",
       "      <td>9.802226e+08</td>\n",
       "      <td>1400222610</td>\n",
       "      <td>0.027548</td>\n",
       "      <td>-1.584277</td>\n",
       "      <td>1.417630</td>\n",
       "      <td>Beldex</td>\n",
       "      <td>1</td>\n",
       "    </tr>\n",
       "    <tr>\n",
       "      <th>1246</th>\n",
       "      <td>18</td>\n",
       "      <td>13</td>\n",
       "      <td>7.296538e+06</td>\n",
       "      <td>21000000</td>\n",
       "      <td>-0.042086</td>\n",
       "      <td>-1.247450</td>\n",
       "      <td>1.099354</td>\n",
       "      <td>Horizen</td>\n",
       "      <td>1</td>\n",
       "    </tr>\n",
       "    <tr>\n",
       "      <th>1247</th>\n",
       "      <td>53</td>\n",
       "      <td>8</td>\n",
       "      <td>1.283270e+05</td>\n",
       "      <td>1000000</td>\n",
       "      <td>0.097164</td>\n",
       "      <td>-0.696289</td>\n",
       "      <td>-1.342640</td>\n",
       "      <td>BitcoinPlus</td>\n",
       "      <td>1</td>\n",
       "    </tr>\n",
       "  </tbody>\n",
       "</table>\n",
       "<p>533 rows × 9 columns</p>\n",
       "</div>"
      ],
      "text/plain": [
       "      Algorithm  ProofType  TotalCoinsMined TotalCoinSupply      PC_1  \\\n",
       "0            53         16     4.199995e+01              42 -0.412665   \n",
       "2            53         16     1.055185e+09       532000000 -0.391306   \n",
       "5            67         16     2.927942e+10    314159265359  3.143152   \n",
       "7            47         13     1.792718e+07        21000000 -0.190301   \n",
       "8            20         13     1.076842e+08               0 -0.051013   \n",
       "...         ...        ...              ...             ...       ...   \n",
       "1238         47          2     2.000000e+09      2000000000  0.560750   \n",
       "1242         53         16     1.493105e+07       250000000 -0.409905   \n",
       "1245         10         13     9.802226e+08      1400222610  0.027548   \n",
       "1246         18         13     7.296538e+06        21000000 -0.042086   \n",
       "1247         53          8     1.283270e+05         1000000  0.097164   \n",
       "\n",
       "          PC_2      PC_3     CoinName  Class  \n",
       "0     0.823150  0.357227      42 Coin      2  \n",
       "2     0.827873  0.358336      404Coin      2  \n",
       "5     2.186748  0.487273    EliteCoin      2  \n",
       "7    -0.003829 -0.043688      Bitcoin      2  \n",
       "8    -1.161387  1.020473     Ethereum      1  \n",
       "...        ...       ...          ...    ...  \n",
       "1238 -2.082122 -2.376795       ZEPHYR      1  \n",
       "1242  0.823729  0.357770      Gapcoin      2  \n",
       "1245 -1.584277  1.417630       Beldex      1  \n",
       "1246 -1.247450  1.099354      Horizen      1  \n",
       "1247 -0.696289 -1.342640  BitcoinPlus      1  \n",
       "\n",
       "[533 rows x 9 columns]"
      ]
     },
     "execution_count": 89,
     "metadata": {},
     "output_type": "execute_result"
    }
   ],
   "source": [
    "# Initialize the K-Means model\n",
    "model = KMeans(n_clusters=3, random_state=0)\n",
    "# Fit the model\n",
    "model.fit(pca_df)\n",
    "# Predict clusters\n",
    "predictions = model.predict(pca_df)\n",
    "# Create a new DataFrame including predicted clusters and cryptocurrencies features\n",
    "clustered_df = crypto_df.join(pca_df)\n",
    "clustered_df['CoinName'] = coinname_df['CoinName']\n",
    "clustered_df['Class'] = predictions\n",
    "clustered_df"
   ]
  },
  {
   "cell_type": "markdown",
   "metadata": {},
   "source": [
    "### Visualizing Results\n",
    "\n",
    "#### 3D-Scatter with Clusters"
   ]
  },
  {
   "cell_type": "code",
   "execution_count": 90,
   "metadata": {},
   "outputs": [
    {
     "data": {
      "application/vnd.plotly.v1+json": {
       "config": {
        "plotlyServerURL": "https://plot.ly"
       },
       "data": [
        {
         "customdata": [
          [
           53
          ],
          [
           53
          ],
          [
           67
          ],
          [
           47
          ],
          [
           53
          ],
          [
           65
          ],
          [
           47
          ],
          [
           53
          ],
          [
           69
          ],
          [
           65
          ],
          [
           53
          ],
          [
           53
          ],
          [
           53
          ],
          [
           53
          ],
          [
           47
          ],
          [
           53
          ],
          [
           53
          ],
          [
           53
          ],
          [
           46
          ],
          [
           53
          ],
          [
           53
          ],
          [
           53
          ],
          [
           53
          ],
          [
           53
          ],
          [
           65
          ],
          [
           47
          ],
          [
           53
          ],
          [
           53
          ],
          [
           53
          ],
          [
           53
          ],
          [
           53
          ],
          [
           53
          ],
          [
           53
          ],
          [
           53
          ],
          [
           53
          ],
          [
           53
          ],
          [
           65
          ],
          [
           53
          ],
          [
           65
          ],
          [
           47
          ],
          [
           53
          ],
          [
           53
          ],
          [
           53
          ],
          [
           51
          ],
          [
           53
          ],
          [
           53
          ],
          [
           47
          ],
          [
           67
          ],
          [
           53
          ],
          [
           47
          ],
          [
           53
          ],
          [
           67
          ],
          [
           36
          ],
          [
           53
          ],
          [
           53
          ],
          [
           53
          ],
          [
           53
          ],
          [
           53
          ],
          [
           53
          ],
          [
           65
          ],
          [
           65
          ],
          [
           47
          ],
          [
           47
          ],
          [
           65
          ],
          [
           47
          ],
          [
           47
          ],
          [
           47
          ],
          [
           65
          ],
          [
           53
          ],
          [
           53
          ],
          [
           53
          ],
          [
           53
          ],
          [
           53
          ],
          [
           65
          ],
          [
           47
          ],
          [
           67
          ],
          [
           53
          ],
          [
           53
          ],
          [
           47
          ],
          [
           53
          ],
          [
           53
          ],
          [
           67
          ],
          [
           53
          ],
          [
           53
          ],
          [
           53
          ],
          [
           67
          ],
          [
           53
          ],
          [
           59
          ],
          [
           65
          ],
          [
           45
          ],
          [
           53
          ],
          [
           53
          ],
          [
           53
          ],
          [
           53
          ],
          [
           47
          ],
          [
           53
          ],
          [
           65
          ],
          [
           51
          ],
          [
           65
          ],
          [
           47
          ],
          [
           44
          ],
          [
           65
          ],
          [
           65
          ],
          [
           53
          ],
          [
           53
          ],
          [
           67
          ],
          [
           47
          ],
          [
           69
          ],
          [
           65
          ],
          [
           47
          ],
          [
           53
          ],
          [
           47
          ],
          [
           65
          ],
          [
           53
          ],
          [
           47
          ],
          [
           47
          ],
          [
           35
          ],
          [
           53
          ],
          [
           65
          ],
          [
           53
          ],
          [
           66
          ],
          [
           65
          ],
          [
           47
          ],
          [
           53
          ],
          [
           65
          ],
          [
           65
          ],
          [
           47
          ],
          [
           47
          ],
          [
           35
          ],
          [
           65
          ],
          [
           53
          ],
          [
           53
          ],
          [
           53
          ],
          [
           53
          ],
          [
           67
          ],
          [
           65
          ],
          [
           65
          ],
          [
           18
          ],
          [
           65
          ],
          [
           53
          ],
          [
           47
          ],
          [
           47
          ],
          [
           65
          ],
          [
           53
          ],
          [
           53
          ],
          [
           53
          ],
          [
           47
          ],
          [
           53
          ],
          [
           53
          ],
          [
           49
          ],
          [
           53
          ],
          [
           65
          ],
          [
           67
          ],
          [
           68
          ],
          [
           49
          ],
          [
           65
          ],
          [
           53
          ],
          [
           65
          ],
          [
           67
          ],
          [
           65
          ],
          [
           53
          ],
          [
           53
          ],
          [
           65
          ],
          [
           65
          ],
          [
           47
          ],
          [
           53
          ],
          [
           65
          ],
          [
           53
          ],
          [
           53
          ],
          [
           65
          ],
          [
           53
          ],
          [
           53
          ],
          [
           53
          ],
          [
           45
          ],
          [
           53
          ],
          [
           53
          ],
          [
           47
          ],
          [
           65
          ],
          [
           53
          ],
          [
           65
          ],
          [
           53
          ],
          [
           53
          ],
          [
           53
          ],
          [
           67
          ],
          [
           65
          ],
          [
           53
          ],
          [
           53
          ],
          [
           65
          ],
          [
           65
          ],
          [
           53
          ],
          [
           65
          ],
          [
           65
          ],
          [
           53
          ],
          [
           53
          ],
          [
           53
          ],
          [
           65
          ],
          [
           53
          ],
          [
           47
          ],
          [
           53
          ],
          [
           69
          ],
          [
           53
          ],
          [
           35
          ],
          [
           65
          ],
          [
           35
          ],
          [
           56
          ],
          [
           53
          ],
          [
           67
          ],
          [
           53
          ],
          [
           65
          ],
          [
           65
          ],
          [
           53
          ],
          [
           67
          ],
          [
           61
          ],
          [
           53
          ],
          [
           65
          ],
          [
           56
          ],
          [
           47
          ],
          [
           65
          ],
          [
           64
          ],
          [
           53
          ],
          [
           53
          ],
          [
           53
          ],
          [
           53
          ],
          [
           53
          ],
          [
           53
          ],
          [
           53
          ],
          [
           53
          ],
          [
           65
          ],
          [
           36
          ],
          [
           65
          ],
          [
           53
          ],
          [
           53
          ],
          [
           47
          ],
          [
           35
          ],
          [
           38
          ],
          [
           53
          ],
          [
           46
          ],
          [
           53
          ],
          [
           53
          ],
          [
           65
          ],
          [
           65
          ],
          [
           35
          ],
          [
           67
          ],
          [
           53
          ],
          [
           65
          ],
          [
           53
          ],
          [
           53
          ],
          [
           53
          ],
          [
           65
          ],
          [
           65
          ],
          [
           53
          ],
          [
           53
          ],
          [
           53
          ],
          [
           65
          ],
          [
           65
          ],
          [
           47
          ],
          [
           53
          ],
          [
           57
          ],
          [
           53
          ],
          [
           53
          ],
          [
           67
          ],
          [
           48
          ],
          [
           53
          ],
          [
           53
          ],
          [
           65
          ],
          [
           65
          ],
          [
           71
          ],
          [
           63
          ],
          [
           53
          ],
          [
           35
          ],
          [
           53
          ],
          [
           53
          ],
          [
           53
          ],
          [
           65
          ],
          [
           46
          ],
          [
           70
          ],
          [
           53
          ],
          [
           71
          ],
          [
           62
          ],
          [
           53
          ],
          [
           49
          ],
          [
           53
          ],
          [
           69
          ],
          [
           70
          ],
          [
           65
          ],
          [
           70
          ],
          [
           46
          ],
          [
           31
          ],
          [
           53
          ],
          [
           53
          ],
          [
           71
          ],
          [
           65
          ],
          [
           65
          ],
          [
           47
          ],
          [
           65
          ],
          [
           65
          ],
          [
           53
          ],
          [
           50
          ],
          [
           70
          ],
          [
           71
          ],
          [
           47
          ],
          [
           71
          ],
          [
           65
          ],
          [
           46
          ],
          [
           53
          ],
          [
           53
          ],
          [
           46
          ],
          [
           53
          ],
          [
           45
          ],
          [
           65
          ],
          [
           53
          ],
          [
           71
          ],
          [
           49
          ],
          [
           65
          ],
          [
           47
          ],
          [
           67
          ],
          [
           47
          ],
          [
           65
          ],
          [
           53
          ],
          [
           53
          ],
          [
           65
          ],
          [
           53
          ],
          [
           53
          ],
          [
           53
          ],
          [
           65
          ],
          [
           53
          ],
          [
           53
          ],
          [
           47
          ],
          [
           65
          ],
          [
           47
          ],
          [
           53
          ],
          [
           53
          ],
          [
           53
          ],
          [
           65
          ],
          [
           53
          ],
          [
           53
          ],
          [
           53
          ],
          [
           65
          ],
          [
           47
          ],
          [
           53
          ],
          [
           36
          ],
          [
           67
          ],
          [
           53
          ]
         ],
         "hovertemplate": "<b>%{hovertext}</b><br><br>Class=%{marker.color}<br>PC_1=%{x}<br>PC_2=%{y}<br>PC_3=%{z}<br>Algorithm=%{customdata[0]}<extra></extra>",
         "hovertext": [
          "42 Coin",
          "404Coin",
          "EliteCoin",
          "Bitcoin",
          "Litecoin",
          "Dash",
          "BitcoinDark",
          "ProsperCoin",
          "KoboCoin",
          "Spreadcoin",
          "Argentum",
          "Aurora Coin",
          "BlueCoin",
          "MoonCoin",
          "ZetaCoin",
          "SexCoin",
          "Quatloo",
          "EnergyCoin",
          "QuarkCoin",
          "Digitalcoin ",
          "BitBar",
          "Catcoin",
          "CryptoBullion",
          "CannaCoin",
          "CryptCoin",
          "DevCoin",
          "EarthCoin",
          "E-Gulden",
          "Einsteinium",
          "Emerald",
          "FlutterCoin",
          "Franko",
          "GrandCoin",
          "GlobalCoin",
          "GoldCoin",
          "HoboNickels",
          "HyperStake",
          "Infinite Coin",
          "IOCoin",
          "IXcoin",
          "KrugerCoin",
          "LuckyCoin",
          "Litebar ",
          "MaxCoin",
          "MegaCoin",
          "MinCoin",
          "MazaCoin",
          "NavCoin",
          "NobleCoin",
          "Namecoin",
          "NyanCoin",
          "OpalCoin",
          "Orbitcoin",
          "PotCoin",
          "PhoenixCoin",
          "Reddcoin",
          "RonPaulCoin",
          "StableCoin",
          "SmartCoin",
          "SuperCoin",
          "SyncCoin",
          "SysCoin",
          "TigerCoin",
          "TorCoin",
          "TerraCoin",
          "UnbreakableCoin",
          "Unobtanium",
          "UroCoin",
          "UnitaryStatus Dollar",
          "UltraCoin",
          "ViaCoin",
          "VeriCoin",
          "WorldCoin",
          "X11 Coin",
          "JouleCoin",
          "StealthCoin",
          "ZCC Coin",
          "MonaCoin",
          "Neutron",
          "Gulden",
          "PesetaCoin",
          "Kore",
          "Wild Beast Coin",
          "Flo",
          "8BIT Coin",
          "Sativa Coin",
          "ArtByte",
          "Folding Coin",
          "Ucoin",
          "CypherPunkCoin",
          "OmniCron",
          "Vtorrent",
          "GreenCoin",
          "MasterCoin",
          "SoonCoin",
          "1Credit",
          "IslaCoin",
          "Nexus",
          "MarsCoin ",
          "Anarchists Prime",
          "Droidz",
          "BowsCoin",
          "Squall Coin",
          "Song Coin",
          "BitZeny",
          "Paycon",
          "Emercoin",
          "EverGreenCoin",
          "MindCoin",
          "I0coin",
          "Revolution VR",
          "EDRCoin",
          "Hitcoin",
          "Gamecredits",
          "DubaiCoin",
          "CarpeDiemCoin",
          "PWR Coin",
          "BillaryCoin",
          "Adzcoin",
          "YoCoin",
          "SibCoin",
          "EuropeCoin",
          "SwingCoin",
          "Francs",
          "BolivarCoin",
          "Ratecoin",
          "Revenu",
          "Clockcoin",
          "VIP Tokens",
          "BitSend",
          "Omni",
          "PutinCoin",
          "iBankCoin",
          "Frankywillcoin",
          "MudraCoin",
          "PizzaCoin",
          "Lutetium Coin",
          "Komodo",
          "GoldBlocks",
          "CarterCoin",
          "BitTokens",
          "ZayedCoin",
          "MustangCoin",
          "ZoneCoin",
          "RootCoin",
          "DopeCoin",
          "DollarCoin",
          "Swiscoin",
          "Shilling",
          "BuzzCoin",
          "PesoBit",
          "Halloween Coin",
          "RoyalCoin",
          "GanjaCoin V2",
          "LanaCoin",
          "InsaneCoin",
          "KiloCoin",
          "ArtexCoin",
          "EmberCoin",
          "XenixCoin",
          "PLNCoin",
          "AquariusCoin",
          "Kurrent",
          "Eternity",
          "Eurocoin",
          "BitcoinFast",
          "Stakenet",
          "BitConnect Coin",
          "MoneyCoin",
          "Enigma",
          "Russiacoin",
          "GameUnits",
          "GAKHcoin",
          "LiteCreed",
          "OsmiumCoin",
          "Klingon Empire Darsek",
          "Internet of People",
          "KushCoin",
          "Printerium",
          "PacCoin",
          "Impeach",
          "FirstCoin",
          "BeaverCoin",
          "FindCoin",
          "VaultCoin",
          "OpenChat",
          "Canada eCoin",
          "VirtacoinPlus",
          "Impact",
          "EB3coin",
          "HappyCoin",
          "Condensate",
          "Independent Money System",
          "ArgusCoin",
          "LomoCoin",
          "GoldReserve",
          "BenjiRolls",
          "ILCoin",
          "Degas Coin",
          "HTML5 Coin",
          "EquiTrader",
          "Denarius",
          "DigitalPrice",
          "Virta Unique Coin",
          "Bitcoin Planet",
          "Unify",
          "BritCoin",
          "SocialCoin",
          "ArcticCoin",
          "DAS",
          "Linda",
          "DeepOnion",
          "Bitcore",
          "gCn Coin",
          "Onix",
          "Cream",
          "Bitcoin Cash",
          "Monoeci",
          "Vechain",
          "Sojourn Coin",
          "NewYorkCoin",
          "FrazCoin",
          "Kronecoin",
          "AdCoin",
          "Linx",
          "CoinonatX",
          "Ethereum Dark",
          "Regalcoin",
          "TrezarCoin",
          "Elements",
          "TerraNovaCoin",
          "WomenCoin",
          "Theresa May Coin",
          "NamoCoin",
          "LUXCoin",
          "Xios",
          "Bitcloud 2.0",
          "eBoost",
          "BlackholeCoin",
          "Pura",
          "Magnet",
          "Electra",
          "Bitcoin Diamond",
          "Cash & Back Coin",
          "AC3",
          "GermanCoin",
          "LiteCoin Ultra",
          "PopularCoin",
          "PhantomX",
          "Sucre",
          "IrishCoin",
          "Trollcoin",
          "Litecoin Plus",
          "Monkey Project",
          "Pioneer Coin",
          "UnitedBitcoin",
          "My Big Coin",
          "MUNcoin",
          "Unified Society USDEX",
          "ShareChain",
          "Tokyo Coin",
          "LitecoinCash",
          "BitFlip",
          "LottoCoin",
          "Crypto Improvement Fund",
          "Pushi",
          "Ellerium",
          "Ontology",
          "Poseidon",
          "Bitspace",
          "Briacoin",
          "Ignition",
          "Abjcoin",
          "FuturoCoin",
          "Carebit",
          "Proton",
          "iDealCash",
          "Bitcoin Incognito",
          "KEYCO",
          "Swisscoin",
          "TheVig",
          "EmaratCoin",
          "Dekado",
          "Motion",
          "Axe",
          "Trivechain",
          "Giant",
          "Absolute Coin",
          "HexCoin",
          "TPCash",
          "Urals Coin",
          "ARENON",
          "EUNO",
          "Project Pai",
          "PAXEX",
          "Azart",
          "ThunderStake",
          "Kcash",
          "Xchange",
          "Bettex coin",
          "Bitcoin SV",
          "BitMoney",
          "Junson Ming Chan Coin",
          "HerbCoin",
          "Block-Logic",
          "Oduwa",
          "Galilel",
          "Credit",
          "SLICE",
          "Dash Platinum",
          "Nasdacoin",
          "Beetle Coin",
          "Titan Coin",
          "Award",
          "BLAST",
          "Bitcoin Rhodium",
          "GlobalToken",
          "Insane Coin",
          "LiteDoge",
          "SolarCoin",
          "TruckCoin",
          "OrangeCoin",
          "BitstarCoin",
          "HyperCoin",
          "PinkCoin",
          "Crypto Escudo",
          "AudioCoin",
          "IncaKoin",
          "Piggy Coin",
          "Crown Coin",
          "Genstake",
          "SmileyCoin",
          "XiaoMiCoin",
          "CapriCoin",
          " ClubCoin",
          "Bata",
          "Pakcoin",
          "Creditbit ",
          "OKCash",
          "WhiteCoin",
          "FriendshipCoin",
          "Triangles Coin",
          "Gapcoin"
         ],
         "legendgroup": "2",
         "marker": {
          "color": [
           2,
           2,
           2,
           2,
           2,
           2,
           2,
           2,
           2,
           2,
           2,
           2,
           2,
           2,
           2,
           2,
           2,
           2,
           2,
           2,
           2,
           2,
           2,
           2,
           2,
           2,
           2,
           2,
           2,
           2,
           2,
           2,
           2,
           2,
           2,
           2,
           2,
           2,
           2,
           2,
           2,
           2,
           2,
           2,
           2,
           2,
           2,
           2,
           2,
           2,
           2,
           2,
           2,
           2,
           2,
           2,
           2,
           2,
           2,
           2,
           2,
           2,
           2,
           2,
           2,
           2,
           2,
           2,
           2,
           2,
           2,
           2,
           2,
           2,
           2,
           2,
           2,
           2,
           2,
           2,
           2,
           2,
           2,
           2,
           2,
           2,
           2,
           2,
           2,
           2,
           2,
           2,
           2,
           2,
           2,
           2,
           2,
           2,
           2,
           2,
           2,
           2,
           2,
           2,
           2,
           2,
           2,
           2,
           2,
           2,
           2,
           2,
           2,
           2,
           2,
           2,
           2,
           2,
           2,
           2,
           2,
           2,
           2,
           2,
           2,
           2,
           2,
           2,
           2,
           2,
           2,
           2,
           2,
           2,
           2,
           2,
           2,
           2,
           2,
           2,
           2,
           2,
           2,
           2,
           2,
           2,
           2,
           2,
           2,
           2,
           2,
           2,
           2,
           2,
           2,
           2,
           2,
           2,
           2,
           2,
           2,
           2,
           2,
           2,
           2,
           2,
           2,
           2,
           2,
           2,
           2,
           2,
           2,
           2,
           2,
           2,
           2,
           2,
           2,
           2,
           2,
           2,
           2,
           2,
           2,
           2,
           2,
           2,
           2,
           2,
           2,
           2,
           2,
           2,
           2,
           2,
           2,
           2,
           2,
           2,
           2,
           2,
           2,
           2,
           2,
           2,
           2,
           2,
           2,
           2,
           2,
           2,
           2,
           2,
           2,
           2,
           2,
           2,
           2,
           2,
           2,
           2,
           2,
           2,
           2,
           2,
           2,
           2,
           2,
           2,
           2,
           2,
           2,
           2,
           2,
           2,
           2,
           2,
           2,
           2,
           2,
           2,
           2,
           2,
           2,
           2,
           2,
           2,
           2,
           2,
           2,
           2,
           2,
           2,
           2,
           2,
           2,
           2,
           2,
           2,
           2,
           2,
           2,
           2,
           2,
           2,
           2,
           2,
           2,
           2,
           2,
           2,
           2,
           2,
           2,
           2,
           2,
           2,
           2,
           2,
           2,
           2,
           2,
           2,
           2,
           2,
           2,
           2,
           2,
           2,
           2,
           2,
           2,
           2,
           2,
           2,
           2,
           2,
           2,
           2,
           2,
           2,
           2,
           2,
           2,
           2,
           2,
           2,
           2,
           2,
           2,
           2,
           2,
           2,
           2,
           2,
           2,
           2,
           2,
           2,
           2,
           2,
           2,
           2,
           2,
           2,
           2,
           2,
           2,
           2,
           2,
           2,
           2,
           2,
           2,
           2,
           2,
           2,
           2,
           2,
           2,
           2,
           2
          ],
          "coloraxis": "coloraxis",
          "symbol": "circle"
         },
         "mode": "markers",
         "name": "2",
         "scene": "scene",
         "showlegend": true,
         "type": "scatter3d",
         "x": [
          -0.41266542545356627,
          -0.39130558072105665,
          3.143152316757408,
          -0.19030134717362865,
          -0.21967866006234596,
          -0.47370285277092417,
          -0.3817243830271897,
          -0.22118388243616482,
          -0.4905940203953447,
          -0.28250967235078694,
          -0.22065061164542388,
          -0.4122210307693849,
          -0.4030499948813656,
          3.6708182296812644,
          -0.18648881870234674,
          -0.21699880513799147,
          -0.22035906975890812,
          -0.4108032020204855,
          -0.1792377212032365,
          -0.22048974050330994,
          -0.4126597140870816,
          -0.2211619156686525,
          -0.4126395660754209,
          -0.22127966029038096,
          -0.28262305004723387,
          0.30616663017038737,
          0.10509898951177474,
          -0.22095474643901553,
          -0.21513323566498876,
          -0.22086464063075648,
          -0.08704121317342119,
          -0.2213528499049356,
          -0.19370557601678523,
          -0.21978071632179072,
          -0.2201213418453659,
          -0.4100982671179465,
          0.061154429117700464,
          2.0677790811280135,
          -0.4735724180123985,
          -0.19025349617542014,
          -0.21650191841890812,
          -0.22098885463840903,
          -0.22145363541813895,
          -0.4004891412982646,
          -0.2204809821104072,
          -0.2212948375053739,
          -0.33302431008389605,
          -0.48329531100428524,
          -0.03363692402975733,
          -0.19034963097105945,
          -0.21300320605896525,
          -0.48406601064338695,
          -0.32559927095264246,
          -0.40503860003602615,
          -0.41055290384854853,
          0.0309468328144965,
          -0.22125446184031494,
          -0.21858354797893062,
          -0.22057776456597508,
          0.03652186631454169,
          -0.4740624856565724,
          -0.1732599547025812,
          -0.18965015177232625,
          -0.47393948435186184,
          -0.1900127009395685,
          -0.18994011705182715,
          -0.19077991271797898,
          -0.28286284827194236,
          -0.3798178087883042,
          -0.41089163133140033,
          -0.2209005714012038,
          -0.15727234524316913,
          -0.2169837419049743,
          -0.47390158234953317,
          -0.18973623576666118,
          -0.4837945769293481,
          -0.4002897885115567,
          -0.21938656984778607,
          -0.3806856194986761,
          -0.19817480882171593,
          -0.21771654834773324,
          -0.4841431224397636,
          -0.22145463977080643,
          -0.2175580310131031,
          -0.4126432146893402,
          -0.48408660791931396,
          -0.19935490717397283,
          -0.23115992918260655,
          0.03599796938767974,
          -0.18045631771255752,
          -0.2212964157148548,
          -0.4122870961844826,
          -0.05035688736526242,
          -0.22146837728425287,
          -0.1903840385155971,
          0.7110480538271582,
          -0.47403960776485926,
          -0.5918600699058457,
          -0.28205903606724464,
          -0.1900174055056407,
          -0.36643666779190864,
          -0.282428200869954,
          -0.09169474016269907,
          -0.21886020686112376,
          -0.21780575754504805,
          -0.483439863427564,
          -0.371179084994338,
          -0.49405689883382303,
          -0.28247882351606335,
          -0.19025488641306038,
          -0.21617764260979488,
          -0.38168835557117964,
          -0.038546604986268,
          -0.21957580791762601,
          -0.3817828389991781,
          0.35739889584171397,
          -0.16819576847553977,
          -0.41210353418013923,
          -0.28134705312139136,
          -0.2197679563372069,
          -0.28749303824951683,
          -0.47001272530866356,
          -0.3814951994613644,
          -0.22118187499639835,
          -0.2824210947531451,
          -0.4712661711952562,
          -0.3796912059240273,
          -0.3763932290129976,
          -0.31839474014617575,
          -0.47228453866048986,
          -0.22146845384785058,
          -0.380089053337912,
          -0.41214756107711575,
          -0.4101385751038664,
          0.027624596705129994,
          -0.2826068614988953,
          0.05235595601192071,
          -0.8033537297563518,
          -0.47332018605767323,
          -0.41109997443219815,
          -0.3817450124743245,
          -0.19059231722390454,
          -0.4740221534348561,
          -0.41241349506380154,
          -0.4126360715125228,
          -0.21768865156459039,
          -0.19053984944974114,
          -0.49863144501736434,
          -0.2210116852740543,
          0.10678149716198586,
          -0.41215814672699097,
          -0.4548530113412761,
          0.025584868812292338,
          -0.4868849339646999,
          -0.2997417642939294,
          -0.47348085835124454,
          -0.1171515507695815,
          -0.26534399206605824,
          0.9194108136180177,
          -0.4739651457614696,
          -0.41201617209013314,
          -0.41220263818969066,
          -0.2796414718028098,
          -0.47336249608933273,
          -0.3815762677464053,
          -0.4120245929417989,
          -0.9182331609573431,
          -0.4122139358789868,
          -0.40590504548351297,
          -0.4739995047301361,
          -0.41107903659376516,
          -0.41248110160898904,
          -0.41258164145370724,
          -0.3704775297756507,
          -0.22144298933791337,
          -0.40723467316939077,
          -0.38171579728736427,
          -0.4738820643419324,
          -0.4122838123823514,
          0.7388650416411342,
          -0.41243844232129406,
          -0.4736130219434365,
          -0.22140283187731788,
          0.025888715808354577,
          -0.2722851104419956,
          -0.38739691240511664,
          -0.2189595487558209,
          -0.4728497104198728,
          -0.4712734378268667,
          -0.17996929402718914,
          -0.47272322590063265,
          -0.46715333233553125,
          -0.41236917175804333,
          -0.4123581542910743,
          -0.4025216565604061,
          -0.47339722277065116,
          -0.22081716433523407,
          -0.14550441344949733,
          -0.41127791767121885,
          1.0329950401937984,
          -0.22054731367015068,
          -0.3204053111969982,
          -0.2813357634078846,
          -0.3184009924154419,
          -0.4268981121898289,
          -0.22101423986577878,
          -0.4836694399697831,
          -0.22064561491297613,
          -0.28187886429462844,
          -0.28264985308483603,
          0.2310154652187103,
          -0.483772150452245,
          -0.26193317833778207,
          4.273157062352418,
          -0.26987795411671495,
          -0.4262848383844365,
          -0.1903003119019618,
          -0.47377594398600725,
          0.9305134405138341,
          -0.11504654827161055,
          1.9425372724216454,
          -0.22113446192204134,
          -0.2203684739016312,
          -0.2199763897278413,
          -0.2199602012588866,
          -0.41188065530016166,
          -0.4125592987555778,
          -0.4736789391796163,
          -0.31886799734277993,
          -0.22373550011737806,
          -0.41248868829036567,
          0.5740434431214647,
          -0.37956032132065276,
          -0.29992373472904355,
          -0.3351852098565711,
          -0.4124200364891671,
          -0.3743584815738683,
          -0.21895733046236782,
          -0.4122679264272663,
          -0.2766820255820572,
          -0.47202486726595516,
          0.41326107159686337,
          -0.4793894648366109,
          -0.4088574856592718,
          -0.2760908358046189,
          0.16846710961556757,
          -0.4110175909363971,
          -0.11081548815561457,
          -0.47287211318763095,
          -0.2826164256730566,
          -0.22014704991320733,
          -0.3945993034722212,
          -0.4125869830368754,
          0.036034094426498554,
          -0.2825196916684073,
          -0.19027592217296643,
          -0.348491974652339,
          -0.24170855268522065,
          -0.40676006066434145,
          0.0312011105243823,
          0.03711561223040586,
          -0.24145443219414853,
          -0.22089024417346853,
          0.18437539534629133,
          -0.2746155943282112,
          -0.4737763042761469,
          -0.5041465403147264,
          0.06597243724784808,
          -0.2212095785797791,
          -0.3198543435971316,
          -0.41262222144963695,
          -0.4125968567822456,
          -0.41221182557294717,
          -0.2813862677025716,
          -0.37270863534959836,
          0.010695191460668246,
          -0.339500137638422,
          -0.12202038769861243,
          -0.2673373572701101,
          -0.1549265825956754,
          -0.3906831399284429,
          -0.4114871374852699,
          0.01665937474450631,
          -0.3081165103765312,
          -0.2825927012918164,
          -0.4982491923092884,
          -0.3767086719046286,
          -0.2993701961742147,
          -0.2212385297369118,
          -0.4024474506993369,
          -0.3112279150434501,
          0.036603625654736,
          -0.4730900651866696,
          -0.13772160739808711,
          0.03683632821694565,
          -0.2825518106931024,
          -0.21417420406789314,
          -0.8818646964782888,
          -0.3073020200754573,
          0.005665518008852458,
          -0.19030035843381582,
          -0.046979992356844365,
          0.296180448517956,
          -0.3757687490888746,
          -0.2197337468274308,
          -0.4122289477719946,
          -0.37638111446302513,
          0.8119868269313232,
          -0.1793434217287802,
          0.03596505503743786,
          -0.4115030689550839,
          -0.4966825615151092,
          -0.32795469647782155,
          -0.46957196423370584,
          -0.18934544342217383,
          -0.29307497025237195,
          -0.1878022131046959,
          -0.47339864228002465,
          0.17391185938043904,
          0.7737183901145619,
          -0.47039180696997984,
          -0.41058466050356857,
          -0.41180410496795994,
          -0.41251968420788104,
          -0.4623913732529922,
          -0.19954143635363003,
          -0.2913945376623591,
          -0.10857151797859269,
          -0.456447306677843,
          -0.19001192112492865,
          -0.41160544483922273,
          0.7330002660463516,
          -0.4024927026235483,
          -0.46890707572516876,
          -0.40947559552184387,
          -0.22135689270980058,
          -0.2185847546778553,
          -0.8560022627759746,
          -0.37977256018401195,
          -0.4058111389777348,
          -0.3250593892123863,
          -0.4842920148145119,
          -0.40990543434134735
         ],
         "y": [
          0.8231502329380367,
          0.8278725869093396,
          2.18674766297852,
          -0.003828542785742214,
          0.2537518190850364,
          1.3378144202429383,
          0.5659076197497603,
          0.2534234505957646,
          1.510092319493836,
          0.7680266223431038,
          0.25353620640951535,
          0.8232474957872381,
          0.8253175090988918,
          1.0642166587568596,
          -0.0029949643802057624,
          0.254327120605468,
          0.25359568892321543,
          0.8235699699928416,
          -0.045409422441670406,
          0.2535752061188504,
          0.8231514337380192,
          0.253428401809446,
          0.8231558884876512,
          0.2534032228484095,
          0.7680014136019673,
          0.10444278504558199,
          0.3246336632994349,
          0.25347509685110603,
          0.25473899531018734,
          0.25349350277075183,
          -0.12492591141269878,
          0.2533870557454941,
          0.25937474035220165,
          0.253731238732197,
          0.25365407460767925,
          0.823708093390979,
          -0.1759799486209788,
          0.7536711406488628,
          1.3378438196691655,
          -0.0038177573792475402,
          0.25443644815576205,
          0.25346758206039327,
          0.2533660498581533,
          0.737806482035372,
          0.25357824724141415,
          0.25340034534354716,
          0.5764695713811238,
          1.4237270564499231,
          0.29310361968624676,
          -0.0038394257432957683,
          0.2552126559813012,
          1.423553344109445,
          0.09417102931767922,
          0.824796605661527,
          0.8236094273267275,
          0.9231385030039228,
          0.2534075423056053,
          0.2539699264743321,
          0.2535548408485821,
          -0.18153202094516113,
          1.3377371674583296,
          -0.00013752049617867307,
          -0.0036862675198720213,
          1.3377631611013991,
          -0.0037671172073288697,
          -0.0037573329701065606,
          -0.003932818611360803,
          0.767950479005584,
          0.8302770645174677,
          0.8235327335304112,
          0.2534869615709503,
          0.06353838202964368,
          0.2543278472414559,
          1.3377724827672213,
          -0.0037053223084312307,
          1.4236145240858686,
          0.8257665987769399,
          0.25381400015579064,
          0.5661337922775858,
          0.25832250755400316,
          0.25417981371667286,
          1.4235338868608138,
          0.2533656023250583,
          0.25421664792289445,
          0.8231552391547827,
          1.4235469710850932,
          0.2581741917186904,
          0.5152182606071849,
          -0.18165356600590862,
          -0.08967680943967409,
          0.25340113670425524,
          0.8232320457378469,
          0.2902002568576396,
          0.25336285352172944,
          -0.003847181053910306,
          0.44762761045458666,
          1.3377423242084847,
          1.307558369439716,
          0.768125944163315,
          -0.003770212650035416,
          0.4372499444648785,
          0.7680448126110765,
          0.1981566838185006,
          0.2539144491884847,
          0.2541452370490572,
          1.4236858225230438,
          0.5681152422404543,
          1.5093678180287304,
          0.768034267731275,
          -0.0038180707327539467,
          0.2545191290136914,
          0.5659157401813623,
          1.4313061035354042,
          0.2537750015102979,
          0.565896434089707,
          0.11588193748403851,
          0.08561428160374801,
          0.8232696127399557,
          0.7682775965276392,
          0.25371709520163327,
          0.8109381648991748,
          1.338583515224461,
          0.5659561618482825,
          0.2534240761127514,
          0.768045722103599,
          1.3383544660657594,
          0.5663311537871198,
          0.5670221950833306,
          0.0517445134593295,
          1.338113855352555,
          0.2533628367889659,
          0.8301467076536265,
          0.8232592854887155,
          0.8237024691227997,
          -0.09550110908745046,
          0.7680038510885497,
          -0.17807677918995896,
          1.0324617131933853,
          1.3378958262860106,
          0.8234875043914127,
          0.5659031430110755,
          -0.00389217694542539,
          1.3377457391919816,
          0.8232033829323965,
          0.8231568491957124,
          0.2541802846673175,
          -0.0038805070793429338,
          1.2118255845874781,
          0.2534607056464926,
          0.7606284748567987,
          0.8232645713599058,
          1.341807326224502,
          -0.09592667774813157,
          1.4669361299055026,
          0.6711619749115991,
          1.337863072427351,
          0.2751450307711915,
          0.7718126284540279,
          1.7397438134288812,
          1.337758440805979,
          0.8232899025232645,
          0.8232472751280295,
          0.7686371080963732,
          1.3378845593011262,
          0.5659413503862866,
          0.823288963190402,
          2.6676683867183626,
          0.8232471513614387,
          0.8245613972232699,
          1.3377504980137167,
          0.8234828790531883,
          0.823189529102179,
          0.8231685437004579,
          0.4803618487812366,
          0.25336821335017834,
          0.8242877764413814,
          0.5659097279869169,
          1.3377762151109724,
          0.8232327858925388,
          0.9809386123455389,
          0.8231975984170951,
          1.0136879594869628,
          0.2533771529267785,
          -0.09586027282396312,
          0.7701616062113591,
          0.8286725968731062,
          0.25391113485916794,
          1.337993217004232,
          1.3383467714902848,
          0.2620244780209818,
          1.3380217260637368,
          1.3392079362793163,
          0.8232133365050975,
          0.8232145413304717,
          0.8252635454436645,
          1.3378801930346844,
          0.2535035945198608,
          0.0058395028800894335,
          0.823444801028531,
          1.8379888291308646,
          0.2535581049325557,
          0.05130518341000158,
          0.7682773723989005,
          0.05173791276076084,
          0.9520313336225702,
          0.25346198548965526,
          1.4236375379469755,
          0.25353542911431975,
          0.7681618817779117,
          0.7679952165701512,
          0.9595806604553411,
          1.4236163086071978,
          0.5965224465433926,
          1.231822188223008,
          0.7706868638772933,
          0.9521695628660831,
          -0.0038283094400195106,
          1.3378001076534345,
          2.616751902209621,
          0.2755329647567716,
          0.7411204049274015,
          0.25343476281311833,
          0.2535963380513925,
          0.2536819433347632,
          0.2536855921451275,
          0.8233187667671867,
          0.8231734266356006,
          1.337818945018167,
          0.09561966192887442,
          0.7809660377844374,
          0.8231873460972293,
          1.0412238922622268,
          0.5663818920217015,
          0.05571571341669232,
          0.1800715973446554,
          0.8232019085236222,
          0.5235015954427176,
          0.25391163485284635,
          0.823237268400236,
          0.7692830424244158,
          1.3381715189093613,
          0.2114806554506712,
          1.4245710769069098,
          0.8239721857323404,
          0.7693816842621268,
          0.9454825336448094,
          0.8234956903437576,
          0.27743839572957435,
          1.3379968199585273,
          0.7680025952191831,
          0.2536497070297836,
          0.827066514190677,
          0.8231672213289871,
          -0.18164559662837737,
          0.7680238448861374,
          -0.003822667778669429,
          0.6333153730758988,
          0.4249398956120136,
          0.8244411291132382,
          0.3085830742086927,
          -0.0934657048297094,
          0.23282959606749629,
          0.2534863474533019,
          0.34165307271771905,
          0.7697228497033606,
          1.33779734544728,
          1.5951587521332489,
          -0.2631379668142858,
          0.2534176587969599,
          0.05142244715385063,
          0.8231594517931058,
          0.8231648227809929,
          0.8232472809176032,
          0.7682659889509407,
          0.5238734635927808,
          0.03281629043521093,
          0.8387550224484125,
          0.45553056324203317,
          0.6393403510169773,
          0.8794783472095732,
          0.6519457845947066,
          0.8234012778191028,
          -0.009882659547701155,
          0.982431911985702,
          0.7680077349327677,
          1.5524486233102022,
          0.5230055911703703,
          -0.12010280273809942,
          0.25341094206784376,
          0.825280271121412,
          1.0257335585653498,
          -0.18152311043071678,
          1.3379476945276274,
          0.007662932976253984,
          -0.18147844748363026,
          0.7680162593003022,
          0.8647744107668548,
          2.2194679984965093,
          0.9826020098431445,
          0.07571722242178247,
          -0.0038283199280966487,
          2.503275404580568,
          -0.12300610792878953,
          0.5232089924161577,
          0.25373317301103326,
          0.8232449790878403,
          0.5230770184078766,
          1.0862374634106684,
          -0.08944327241522454,
          -0.18166093284239201,
          0.8233976869352247,
          1.596764958955151,
          0.665236563249231,
          1.3386766310930414,
          -0.0036205273441883333,
          0.8537192752277085,
          -0.0032906870312642174,
          1.3378816035715633,
          0.9493054886769465,
          0.46069763343494596,
          1.3385645226130607,
          0.8235846185363741,
          0.8233349818728598,
          0.8231830823870432,
          1.3402812611072006,
          0.2581321488543605,
          0.8486671501271902,
          0.6274460131205091,
          1.3415345034077941,
          -0.003766941440506946,
          0.8233865522249572,
          0.4598435934830894,
          0.8253739008212544,
          1.3388631804135975,
          0.8238415189031434,
          0.2533872236149162,
          0.25398142180877586,
          2.477411257595876,
          0.5663331890626372,
          0.8246432446075322,
          0.09428295667758783,
          1.4235023829881854,
          0.8237290607132096
         ],
         "z": [
          0.35722699423776016,
          0.35833556490573837,
          0.48727300119108624,
          -0.0436878060687378,
          -0.28004407959548233,
          -0.11570799958505186,
          0.5937659899207645,
          -0.2801784602663436,
          -0.2726562637810671,
          -0.7531633047083475,
          -0.2800852434135058,
          0.3572626294462089,
          0.35719786757006106,
          0.5548594573286156,
          -0.043371200963473716,
          -0.2796861008387986,
          -0.2800067321292982,
          0.3572213531922697,
          -0.003792198658203059,
          -0.2801206510233885,
          0.3572280795446647,
          -0.28017852680696276,
          0.3572291212134414,
          -0.280195504586693,
          -0.7531673720708252,
          0.001075409621055525,
          -0.2514402301697998,
          -0.2801791543534958,
          -0.27958193962921624,
          -0.280155167894964,
          -0.7052122729334482,
          -0.28019948237886033,
          -0.2771749968014996,
          -0.2800746460549893,
          -0.28006866158212645,
          0.3574838658662413,
          -1.8157013253096823,
          -0.0873491238683576,
          -0.11570839469141328,
          -0.04368795101655692,
          -0.2796535969470733,
          -0.2801812564348919,
          -0.28022097925871,
          0.43627205105422756,
          -0.2801342760516589,
          -0.2802023835693504,
          0.5989052555479998,
          -0.19458886207111695,
          -0.24771187803204864,
          -0.043687659809905154,
          -0.2795063342854528,
          -0.1945865275068218,
          1.027293477811459,
          0.3581301594467391,
          0.35743672422382816,
          0.35588322637034253,
          -0.28017824647078876,
          -0.2796813004160841,
          -0.28011369320107393,
          -1.8156267095985776,
          -0.11575542680289783,
          -0.04182734499581754,
          -0.043632411836758464,
          -0.11573374759536299,
          -0.043642367016548875,
          -0.04355878167541507,
          -0.04373211847691883,
          -0.7532063428902522,
          0.3606561341699164,
          0.3574421610804068,
          -0.28017490765732433,
          -0.4927089518039711,
          -0.2796521374317835,
          -0.11574378670720266,
          -0.043636588270165616,
          -0.19458734972007455,
          0.35939490671827784,
          -0.2799983863275976,
          0.5938642917612907,
          -0.2765893992121692,
          -0.2798683290218901,
          -0.19455982912096928,
          -0.2802181577148875,
          -0.2798828928804081,
          0.35722692686541224,
          -0.19456441111234227,
          -0.2780854966713711,
          -0.514573356518868,
          -1.815581014632043,
          0.035097459131665946,
          -0.28021699764359315,
          0.35726995613379176,
          -0.2586882318937776,
          -0.2802225456967796,
          -0.043687555584314676,
          -0.08015182267070113,
          -0.1157554983088486,
          1.0736749649979143,
          -0.7531359995500122,
          -0.04361641725906393,
          0.7119744226728847,
          -0.7531613460974035,
          -1.3906571612653231,
          -0.2797681490879822,
          -0.2796836564594556,
          -0.1944781541889662,
          0.5958909280588274,
          -0.2733596666689585,
          -0.7531722197549763,
          -0.04368794680531952,
          -0.27977680427174006,
          0.5937658807882201,
          -0.05852129565950462,
          -0.2800443911499875,
          0.5937408048900394,
          0.0023014174910579513,
          1.06623906507335,
          0.3573179189020302,
          -0.7530256808411754,
          -0.2798577807276907,
          -0.7925700880827395,
          -0.11492082265055265,
          0.5938049928935782,
          -0.28018067174740385,
          -0.7531525460219904,
          -0.1155984944454628,
          0.594202510083967,
          0.594859157372578,
          1.0668925262080062,
          -0.1154542640439061,
          -0.28022255214721975,
          0.36153911590035875,
          0.35732319819920005,
          0.35743987996063986,
          -1.8940200790647375,
          -0.753151983306777,
          -1.8142257254726233,
          3.649541264007736,
          -0.11564740753335592,
          0.357420738180516,
          0.5937638470102147,
          -0.04371176630514495,
          -0.11574893497994405,
          0.35727254441509776,
          0.35722690522766315,
          -0.2797942812022324,
          -0.04370993530965523,
          0.7889052998403839,
          -0.28015913327523234,
          0.5574843176965679,
          0.3572254575221193,
          -0.11250551703630678,
          -1.8944494666954235,
          -0.23378814887934926,
          0.5311614669442288,
          -0.11569102883749524,
          -0.2584859008838971,
          -0.7521567100090398,
          -0.19696327819665171,
          -0.11574722573763326,
          0.3573100235844337,
          0.3573182191028743,
          -0.7527132696692126,
          -0.11562522536769701,
          0.5937611304570101,
          0.3572978311752016,
          1.3717928072122185,
          0.35728737772210556,
          0.35864148128709555,
          -0.11574459278580164,
          0.3575397663688534,
          0.357255106003615,
          0.3572340529926952,
          0.6727186665552038,
          -0.28021800271062475,
          0.3583132436982383,
          0.5937637585130507,
          -0.11573534621769313,
          0.35726994618666486,
          -0.5357612866939503,
          0.3572746783568748,
          0.5699447880838359,
          -0.2802167002957684,
          -1.894423867756646,
          -0.751032984212218,
          0.3593558522712619,
          -0.28001097148740667,
          -0.11553856266304435,
          -0.11552128342585784,
          -0.2715280179119651,
          -0.11553894580354115,
          -0.11467365775270369,
          0.35727287796488727,
          0.3572891378213469,
          0.35940166737988205,
          -0.11566922817990359,
          -0.28014754781679896,
          -0.03835631551150748,
          0.3574543582005415,
          -0.07955731234737616,
          -0.2800679131166944,
          1.0667221845099175,
          -0.7529904286357956,
          1.0669587071538282,
          0.23919854609687224,
          -0.2801827744846905,
          -0.19452156677184698,
          -0.2800609991468741,
          -0.7530769995111284,
          -0.7531653060202189,
          0.46554719988119364,
          -0.19454573958598065,
          -0.5955006272421051,
          0.1472412415668423,
          -0.7508197358256381,
          0.2391966883989356,
          -0.04368780920473025,
          -0.11573532964820021,
          1.1721095674196869,
          -0.25738957713805694,
          -0.2867790081570319,
          -0.28018081536868633,
          -0.28004199004635333,
          -0.28000789132425774,
          -0.28000794036154764,
          0.35733103193083016,
          0.35723593535246484,
          -0.11569704502176356,
          1.0281469335098625,
          -0.7494157280513977,
          0.3572611570780204,
          0.40937311127455317,
          0.5939314558722848,
          1.0692845690246233,
          0.9485851240370122,
          0.35727256423005216,
          0.6335669390802178,
          -0.2800109782069487,
          0.35725840412842985,
          -0.7524531754462385,
          -0.11544402362620938,
          1.1306397522407385,
          -0.19413755941506433,
          0.3576785933742116,
          -0.752013886203258,
          0.46573666819064446,
          0.3575528126421344,
          -0.2695320948933825,
          -0.11564876481299013,
          -0.7531634224166379,
          -0.28008676877718935,
          0.35915712936678595,
          0.357235578132242,
          -1.8155789186599545,
          -0.7531566581576616,
          -0.04368972238864954,
          0.14480818464357562,
          -0.4378487930752722,
          0.35772075876565484,
          -0.2589352832484189,
          -1.892725588632759,
          0.13113324725721956,
          -0.2801374471362058,
          -0.24085851579577622,
          -0.7521286249412623,
          -0.11570116088879746,
          -0.35211617790936206,
          -1.734649118880756,
          -0.2801783824288874,
          1.0668087315558012,
          0.3572334794744308,
          0.35723781344151645,
          0.35729178213012425,
          -0.7529902756507451,
          0.6335619414496334,
          -2.0126027354074383,
          0.3683013179381361,
          -1.627103188954277,
          -0.6349215737125572,
          0.3789413470020643,
          0.5151037478812832,
          0.3574086785538658,
          -1.9730908584643214,
          -0.9502346616966878,
          -0.7531608478010609,
          -0.3126536173250241,
          0.6331443381291462,
          1.2244749968539934,
          -0.28017585718423976,
          0.35940144259924783,
          -0.9892414888284969,
          -1.815505660247426,
          -0.11564810460383822,
          -0.039262050883438294,
          -1.8154071221280896,
          -0.7531521500638885,
          0.3963229386537719,
          2.177470414374994,
          -0.950065274640646,
          -2.0520071731091116,
          -0.04368780906377832,
          0.6499070102905935,
          -1.816413254218817,
          0.6332492225581938,
          -0.279964518321327,
          0.3572719853937925,
          0.633173967888667,
          0.518481276462472,
          0.035314628026091824,
          -1.8155815765496286,
          0.3574087268126667,
          -0.35116841131652365,
          0.5257201951637605,
          -0.11484276337354972,
          -0.04359586943424962,
          -0.8320321781768589,
          -0.04337118248588027,
          -0.11569127788225246,
          0.43263917184816425,
          -0.06688871910235893,
          -0.11576654804218128,
          0.3576617712424787,
          0.35734404153383903,
          0.35722655267313713,
          -0.11468808243786668,
          -0.2780849316466314,
          0.38001634888433133,
          0.5933090763405722,
          -0.11360338779040254,
          -0.04364236937872387,
          0.35725686430894876,
          -0.17284512867029286,
          0.35807833953878854,
          -0.11531232226793398,
          0.35757019571001286,
          -0.28021322259599696,
          -0.27983126397614627,
          1.159181405528332,
          0.5939431257766229,
          0.3578678515554975,
          1.027416222910748,
          -0.1945855782584111,
          0.3577699837762792
         ]
        },
        {
         "customdata": [
          [
           20
          ],
          [
           12
          ],
          [
           20
          ],
          [
           18
          ],
          [
           50
          ],
          [
           34
          ],
          [
           47
          ],
          [
           34
          ],
          [
           23
          ],
          [
           53
          ],
          [
           23
          ],
          [
           34
          ],
          [
           41
          ],
          [
           36
          ],
          [
           25
          ],
          [
           53
          ],
          [
           53
          ],
          [
           34
          ],
          [
           38
          ],
          [
           31
          ],
          [
           34
          ],
          [
           10
          ],
          [
           10
          ],
          [
           55
          ],
          [
           9
          ],
          [
           23
          ],
          [
           53
          ],
          [
           53
          ],
          [
           34
          ],
          [
           33
          ],
          [
           30
          ],
          [
           53
          ],
          [
           20
          ],
          [
           6
          ],
          [
           3
          ],
          [
           0
          ],
          [
           53
          ],
          [
           15
          ],
          [
           53
          ],
          [
           53
          ],
          [
           41
          ],
          [
           40
          ],
          [
           10
          ],
          [
           34
          ],
          [
           53
          ],
          [
           41
          ],
          [
           32
          ],
          [
           41
          ],
          [
           41
          ],
          [
           20
          ],
          [
           18
          ],
          [
           14
          ],
          [
           41
          ],
          [
           41
          ],
          [
           10
          ],
          [
           53
          ],
          [
           46
          ],
          [
           10
          ],
          [
           30
          ],
          [
           12
          ],
          [
           53
          ],
          [
           18
          ],
          [
           30
          ],
          [
           53
          ],
          [
           16
          ],
          [
           5
          ],
          [
           41
          ],
          [
           35
          ],
          [
           41
          ],
          [
           47
          ],
          [
           53
          ],
          [
           41
          ],
          [
           47
          ],
          [
           40
          ],
          [
           12
          ],
          [
           1
          ],
          [
           2
          ],
          [
           6
          ],
          [
           8
          ],
          [
           10
          ],
          [
           10
          ],
          [
           28
          ],
          [
           58
          ],
          [
           53
          ],
          [
           41
          ],
          [
           10
          ],
          [
           50
          ],
          [
           37
          ],
          [
           18
          ],
          [
           36
          ],
          [
           31
          ],
          [
           18
          ],
          [
           15
          ],
          [
           39
          ],
          [
           47
          ],
          [
           36
          ],
          [
           20
          ],
          [
           36
          ],
          [
           14
          ],
          [
           34
          ],
          [
           10
          ],
          [
           10
          ],
          [
           20
          ],
          [
           35
          ],
          [
           46
          ],
          [
           12
          ],
          [
           3
          ],
          [
           36
          ],
          [
           46
          ],
          [
           36
          ],
          [
           7
          ],
          [
           40
          ],
          [
           20
          ],
          [
           10
          ],
          [
           15
          ],
          [
           31
          ],
          [
           43
          ],
          [
           7
          ],
          [
           42
          ],
          [
           53
          ],
          [
           20
          ],
          [
           10
          ],
          [
           26
          ],
          [
           18
          ],
          [
           53
          ],
          [
           32
          ],
          [
           22
          ],
          [
           41
          ],
          [
           54
          ],
          [
           41
          ],
          [
           10
          ],
          [
           35
          ],
          [
           30
          ],
          [
           53
          ],
          [
           32
          ],
          [
           10
          ],
          [
           11
          ],
          [
           10
          ],
          [
           53
          ],
          [
           27
          ],
          [
           10
          ],
          [
           53
          ],
          [
           46
          ],
          [
           47
          ],
          [
           14
          ],
          [
           24
          ],
          [
           46
          ],
          [
           53
          ],
          [
           46
          ],
          [
           12
          ],
          [
           13
          ],
          [
           11
          ],
          [
           53
          ],
          [
           41
          ],
          [
           28
          ],
          [
           17
          ],
          [
           18
          ],
          [
           32
          ],
          [
           10
          ],
          [
           4
          ],
          [
           4
          ],
          [
           18
          ],
          [
           21
          ],
          [
           18
          ],
          [
           18
          ],
          [
           46
          ],
          [
           14
          ],
          [
           36
          ],
          [
           4
          ],
          [
           47
          ],
          [
           23
          ],
          [
           41
          ],
          [
           14
          ],
          [
           53
          ],
          [
           52
          ],
          [
           34
          ],
          [
           19
          ],
          [
           14
          ],
          [
           20
          ],
          [
           14
          ],
          [
           47
          ],
          [
           29
          ],
          [
           41
          ],
          [
           41
          ],
          [
           47
          ],
          [
           10
          ],
          [
           18
          ],
          [
           53
          ]
         ],
         "hovertemplate": "<b>%{hovertext}</b><br><br>Class=%{marker.color}<br>PC_1=%{x}<br>PC_2=%{y}<br>PC_3=%{z}<br>Algorithm=%{customdata[0]}<extra></extra>",
         "hovertext": [
          "Ethereum",
          "Monero",
          "Ethereum Classic",
          "ZCash",
          "Bitshares",
          "DigiByte",
          "PayCoin",
          "MyriadCoin",
          "Riecoin",
          "CasinoCoin",
          "Diamond",
          "Verge",
          "Exclusive Coin",
          "FeatherCoin",
          "MediterraneanCoin",
          "MintCoin",
          "Nautilus Coin",
          "TeslaCoin",
          "TittieCoin",
          "Vertcoin",
          "Crypti",
          "ByteCoin",
          "DigitalNote ",
          "BurstCoin",
          "StorjCoin",
          "FairCoin",
          "RubyCoin",
          "Dnotes",
          "Unitus",
          "Cryptonite",
          "Crypto",
          "Diggits",
          "Expanse",
          "Siacoin",
          "Decred",
          "HOdlcoin",
          "GPU Coin",
          "SoilCoin",
          "ZeitCoin",
          "SafeExchangeCoin",
          "Nebuchadnezzar",
          "Let it Ride",
          "Karbo",
          "Circuits of Value",
          "BitCurrency",
          "Opair",
          "ZCoin",
          "CoffeeCoin",
          "TeamUP",
          "Elementrem",
          "ZClassic",
          "ARK",
          "FreeCoin",
          "Creatio",
          "Cannabis Industry Coin",
          "PandaCoin",
          "Allsafe",
          "Bikercoins",
          "HexxCoin",
          "Citadel",
          "Zilbercoin",
          "Zero",
          "Zoin",
          "RenosCoin",
          "DubaiCoin",
          "TajCoin",
          "Atmos",
          "Coinonat",
          "MacronCoin",
          "ProCurrency",
          "GrowthCoin",
          "Phreak",
          "Ultimate Secure Cash",
          "QTUM",
          "Quantum Resistant Ledger",
          "Espers",
          "Dynamic",
          "Nano",
          "ChanCoin",
          "Dinastycoin",
          "LeviarCoin",
          "SmartCash",
          "Signatum",
          "Draftcoin",
          "Stakecoin",
          "Sumokoin",
          "Obsidian",
          "Cardano",
          "BitcoinZ",
          "VIVO Coin",
          "Rupee",
          "Bitcoin Gold",
          "Pirl",
          "KekCoin",
          "Infinity Economics",
          "Innova",
          "Ellaism",
          "GoByte",
          "Lamden Tau",
          "SHIELD",
          "UltraNote",
          "BitCoal",
          "DaxxCoin",
          "Bulwark",
          "Kalkulus",
          "Lethean",
          "Photon",
          "SparksPay",
          "Digiwage",
          "GunCoin",
          "Interzone",
          "TokenPay",
          "1717 Masonic Commemorative Token",
          "Niobio Cash",
          "Travelflex",
          "KREDS",
          "BiblePay",
          "Stipend",
          "Poa Network",
          "Velox",
          "Callisto Network",
          "BitTube",
          "Aidos Kuneen",
          "Bitrolium",
          "MedicCoin",
          "Alpenschillling",
          "Bitcoin Green",
          "Deviant Coin",
          "Semux",
          "Zealium",
          "Monero Classic",
          "Jumpcoin",
          "Infinex",
          "HollyWoodCoin",
          "GINcoin",
          "PlatinCoin",
          "Loki",
          "Newton Coin",
          "Xt3ch",
          "MassGrid",
          "PluraCoin",
          "Lynx",
          "Poseidon Quark",
          "BitcoinWSpectrum",
          "Muse",
          "PlusOneCoin",
          "Dystem",
          "Peony Coin",
          "Vitae",
          "Webchain",
          "Ryo",
          "Qwertycoin",
          "MMOCoin",
          "Ketan",
          "XDNA",
          "Acute Angle Cloud",
          "CrypticCoin",
          "Actinium",
          "FREDEnergy",
          "Universal Molecule",
          "Lithium",
          "PirateCash",
          "Exosis",
          "Beam",
          "Bithereum",
          "Crypto Sports",
          "ALAX",
          "UFO Coin",
          "BlakeCoin",
          "NeosCoin",
          "Groestlcoin",
          "Radium",
          "Lisk",
          "HiCoin",
          "Fiii",
          "JoinCoin",
          "Vollar",
          "EOS",
          "Reality Clash",
          "Oxycoin",
          "TigerCash",
          "Waves",
          "Particl",
          "Nxt",
          "ZEPHYR",
          "Beldex",
          "Horizen",
          "BitcoinPlus"
         ],
         "legendgroup": "1",
         "marker": {
          "color": [
           1,
           1,
           1,
           1,
           1,
           1,
           1,
           1,
           1,
           1,
           1,
           1,
           1,
           1,
           1,
           1,
           1,
           1,
           1,
           1,
           1,
           1,
           1,
           1,
           1,
           1,
           1,
           1,
           1,
           1,
           1,
           1,
           1,
           1,
           1,
           1,
           1,
           1,
           1,
           1,
           1,
           1,
           1,
           1,
           1,
           1,
           1,
           1,
           1,
           1,
           1,
           1,
           1,
           1,
           1,
           1,
           1,
           1,
           1,
           1,
           1,
           1,
           1,
           1,
           1,
           1,
           1,
           1,
           1,
           1,
           1,
           1,
           1,
           1,
           1,
           1,
           1,
           1,
           1,
           1,
           1,
           1,
           1,
           1,
           1,
           1,
           1,
           1,
           1,
           1,
           1,
           1,
           1,
           1,
           1,
           1,
           1,
           1,
           1,
           1,
           1,
           1,
           1,
           1,
           1,
           1,
           1,
           1,
           1,
           1,
           1,
           1,
           1,
           1,
           1,
           1,
           1,
           1,
           1,
           1,
           1,
           1,
           1,
           1,
           1,
           1,
           1,
           1,
           1,
           1,
           1,
           1,
           1,
           1,
           1,
           1,
           1,
           1,
           1,
           1,
           1,
           1,
           1,
           1,
           1,
           1,
           1,
           1,
           1,
           1,
           1,
           1,
           1,
           1,
           1,
           1,
           1,
           1,
           1,
           1,
           1,
           1,
           1,
           1,
           1,
           1,
           1,
           1,
           1,
           1,
           1,
           1,
           1,
           1,
           1,
           1,
           1,
           1,
           1,
           1,
           1,
           1,
           1,
           1,
           1,
           1,
           1,
           1
          ],
          "coloraxis": "coloraxis",
          "symbol": "diamond"
         },
         "mode": "markers",
         "name": "1",
         "scene": "scene",
         "showlegend": true,
         "type": "scatter3d",
         "x": [
          -0.05101253000577156,
          -0.0114503566507951,
          -0.04879804407865867,
          -0.042084610252892285,
          0.19048330548241071,
          0.2611907512795866,
          0.12815839255207823,
          -0.07845238122329924,
          -0.06639008716622867,
          1.1716192848406382,
          -0.25907830768652057,
          0.2845834790661318,
          0.15863466347769897,
          -0.12794141391974265,
          -0.0755850925343868,
          0.4193779168992327,
          0.09756047388879564,
          0.1965918305103539,
          0.22176080480821758,
          -0.10729688645594032,
          0.19587691491860057,
          4.653678143255549,
          0.2043968630609119,
          0.1999634718491467,
          0.3281167517831531,
          -0.25836776323587823,
          0.09756299347474087,
          0.10486253042071131,
          -0.12328666132457905,
          -0.08978359658344175,
          -0.10293146921825633,
          0.09967848074147237,
          -0.05231185659000891,
          0.5198415876968485,
          -0.15647452292577596,
          0.0506904710005218,
          0.1000047750188119,
          -0.026669550185005605,
          1.660096021879931,
          0.21514248214578413,
          0.15905408670136148,
          0.16458865613005014,
          -0.0012580683210861557,
          -0.09697622114620338,
          0.09971804821603428,
          0.1604190980381987,
          -0.11370768782597997,
          0.1612045925453387,
          0.16186935159059937,
          -0.0519798660470284,
          -0.0421113869705637,
          0.6819593272389062,
          0.15981214212465308,
          0.15905408670136148,
          -0.001250139964993739,
          0.9384004384088732,
          0.13327779805674217,
          -0.0010828023842471496,
          -0.10367652786152949,
          -0.009669460851908576,
          0.0977533464408852,
          -0.0421321371516306,
          -0.10331277988234142,
          0.09804610788009326,
          -0.03211992329235643,
          -0.16651867720634472,
          0.16134838061069082,
          -0.1287461204303788,
          0.16867763114406342,
          0.8895869472343608,
          0.12189011838966048,
          0.1590251629670942,
          0.1300347822985411,
          0.16619199175419483,
          -0.009601673858304708,
          0.7052439747662971,
          0.03975297058067209,
          0.024453419857529884,
          0.009337676480135605,
          0.04617602406453707,
          -0.0007161460357349103,
          -0.00898076762047966,
          0.07459711513281204,
          0.09761047779788269,
          0.1592336354596772,
          -0.0004414224247520349,
          0.11380554584208531,
          1.0274800599046678,
          0.24931392765362403,
          -0.13416810564722317,
          0.21031939999835603,
          -0.04193602148503582,
          -0.02496126303290243,
          0.16918101813445088,
          0.3552667997110075,
          -0.13395222229482162,
          -0.04961087071132722,
          -0.13409423630561657,
          0.6884825320171398,
          -0.11029238508895205,
          1.1518780260796613,
          -0.0012830038945591577,
          0.05660229296688945,
          0.1897286566360431,
          0.13342590077092378,
          0.005097434109245192,
          1.4019217543041154,
          -0.13417321402988,
          0.1345960484839383,
          -0.12490008630902114,
          0.014284928129994072,
          0.164227938559508,
          0.2660345041140244,
          0.003954670301111492,
          -0.02442222184911377,
          -0.08803076055438878,
          0.4190213635007242,
          -0.17694362700450295,
          0.2865397908467044,
          0.0987954519750086,
          0.01699023209182566,
          0.009869729523426017,
          -0.08270887177059313,
          -0.04061988574462845,
          0.10626456261336044,
          -0.11058454207285295,
          0.2561219837558825,
          0.1597717456542969,
          0.4754302477688186,
          0.15952720690481154,
          -0.0010489235322922678,
          -0.1288567117745241,
          -0.10346276106114369,
          0.09800089408125628,
          -0.11382697765949877,
          0.004605201345432001,
          -0.004783956489615027,
          2.488465188246676,
          0.0977130818255703,
          -0.08469821407007071,
          0.017133796393138084,
          2.5267022119913407,
          0.13959623263257415,
          0.1297412650245815,
          0.29715077465697304,
          -0.07276405152654984,
          0.1332866300359027,
          0.2682665175180752,
          0.13497976495225575,
          0.006263471372815456,
          -0.015859162497913765,
          3.3696998499819975,
          0.1014177586078964,
          0.16081846026664878,
          -0.2809742718934918,
          0.8164284605515616,
          0.0987129771214773,
          -0.11298136026729395,
          0.10867557856887382,
          0.030310142506454172,
          0.02971626346762954,
          0.2774946898745279,
          -0.05753945961424988,
          -0.039205364245591304,
          -0.0417155369193451,
          0.13313139434979354,
          0.7043234683623936,
          -0.03608368822549216,
          0.10052761049722385,
          0.1281294981693679,
          -0.06581784028582352,
          0.15869776652969353,
          0.6824919806898266,
          0.3499300327636605,
          0.5094863234495215,
          -0.124193159827632,
          -0.024726358145420475,
          0.6944981506614248,
          -0.05202326711907069,
          0.6960391912515718,
          0.15311868698455552,
          0.4773811828414755,
          0.15877670913998848,
          0.12009009854822159,
          0.5607499929072444,
          0.02754817238171808,
          -0.042085919481465,
          0.09716370741822937
         ],
         "y": [
          -1.1613873364877014,
          -1.5047539046846836,
          -1.1609245412591602,
          -1.2474495837237776,
          -0.8079848135194968,
          -0.4781556103234641,
          -0.9535180571248162,
          -0.5514217650579187,
          -1.0327615158345267,
          -0.6653276103255792,
          -0.4632965692149931,
          -0.47211378944639415,
          -1.210859457607512,
          -0.47421749674620217,
          -0.9467831762194179,
          -0.6236634998948606,
          -0.6962025492216232,
          -1.5105696284062742,
          -1.3291355038085804,
          -0.6896980204642846,
          -1.5107134623844845,
          -0.5732470668474822,
          -1.545904297402416,
          -0.7897152969109504,
          -2.5818802965409167,
          -0.4631356576380882,
          -0.6961991813881734,
          -0.6946404219721978,
          -0.561181118814726,
          -0.5979835475276337,
          -0.7327463867766202,
          -0.695739664657144,
          -1.161683124670116,
          -1.6492157976960606,
          -1.3208822734939947,
          -2.0191873808726544,
          -0.6956870673627892,
          -1.3760830449244181,
          -0.36114287747572327,
          -0.8743629810549112,
          -1.2107683824166675,
          -1.2535587144530353,
          -1.5905292652158685,
          -0.5554585188139642,
          -0.6957134414397219,
          -1.2104700594448932,
          -0.6470966905928827,
          -1.2102871287284118,
          -1.2101824606933973,
          -1.1616099046537758,
          -1.247455619079266,
          -3.50764801752931,
          -1.210602711491657,
          -1.2107683824166675,
          -1.5905293817358683,
          -0.5123047527845165,
          -0.9964000617637453,
          -1.5904923567695517,
          -0.7329046655107898,
          -1.5043845125614936,
          -0.6961657943436158,
          -1.2474596038844208,
          -0.7328245818383325,
          -0.6960962469578398,
          -1.3332712664995767,
          -1.2350780061577955,
          -1.2102668831487524,
          -0.5183845433490124,
          -1.2086650359800672,
          -0.7948718763655399,
          -0.6910620510543912,
          -1.210776632188448,
          -0.9531275882746753,
          -1.2532088373354868,
          -1.504355389763653,
          -1.2233744128152255,
          -1.933567534943653,
          -1.7609330176273728,
          -1.6762154189044638,
          -1.5801821946102446,
          -1.59041473244174,
          -0.8004950947579216,
          -0.4812220659543626,
          -0.6961914906974106,
          -1.210735111733358,
          -1.590358848417453,
          -0.8246603867392701,
          -1.198954542401476,
          -1.185400013991066,
          -0.4755674938474786,
          -1.6395687334818017,
          -1.2474160924629494,
          -1.3757198616737374,
          -1.296556916668274,
          -0.9038840879179683,
          -0.4755219495591087,
          -1.1611198622571728,
          -0.47555167465404297,
          -3.5062426088998944,
          -0.5583664777862943,
          -1.3453248325226528,
          -1.5905353182075037,
          -1.138861912406924,
          -1.4680685855424656,
          -0.9963675453013515,
          -1.5011970638387826,
          -1.5980795557272691,
          -0.4755676069618069,
          -0.9961211039865949,
          -0.4735603747596898,
          -1.7191345823084387,
          -1.253638547706788,
          -2.111397019428331,
          -1.5894107505561983,
          -1.3755886203265537,
          -0.6855313372261183,
          -1.6778806101775785,
          -1.1493537783616046,
          -1.5466265927353031,
          -0.695942848664933,
          -1.1471846274889987,
          -1.5881924263914846,
          -0.9043230977660706,
          -1.2471279205935912,
          -0.6943244100250601,
          -0.6464409585472781,
          -2.0255636849298346,
          -1.2106183925348595,
          -1.7927758974776955,
          -1.2106721261129785,
          -1.5904835785017915,
          -0.5184047542299146,
          -0.7328593006402406,
          -0.6961049797686086,
          -0.6471216917695394,
          -1.5893098086690205,
          -1.5473127481683353,
          -1.0611957423446778,
          -0.6961729662755455,
          -0.8607607691212877,
          -1.5865551373708242,
          -1.186072699580898,
          -0.9950858001364711,
          -0.9531764717117704,
          -2.3685991789324254,
          -0.9901518138421201,
          -0.9963991093669904,
          -0.6606444148001304,
          -0.9960311549903941,
          -1.5010641204513755,
          -1.461727427583452,
          -0.8186151586300752,
          -0.695375326814323,
          -1.210403579576991,
          -0.24811708349654862,
          -3.7539724565652692,
          -1.2170259579638052,
          -0.6469438123815334,
          -1.5671472041234271,
          -1.8476431707158398,
          -1.8477632033860878,
          -2.196902761041558,
          -1.1188266482958065,
          -1.2468424574219044,
          -1.2473681069631037,
          -0.9964327784518047,
          -3.5027586552768244,
          -0.45414721646925293,
          -1.8330096101730662,
          -0.953526040707668,
          -1.0326361679061626,
          -1.210846791893848,
          -3.5075340023499963,
          -0.6410487674757516,
          -2.078312757598076,
          -0.5613859241640914,
          -1.1998614141004829,
          -3.504800190264053,
          -1.1616193898385307,
          -3.504452846429822,
          -0.9480630012199188,
          -2.484634588799441,
          -1.2108289352618262,
          -1.015426198810507,
          -2.0821222374038815,
          -1.5842770404482875,
          -1.247449878818193,
          -0.6962893517743096
         ],
         "z": [
          1.0204728629380493,
          1.3357986258852765,
          1.0209292889768404,
          1.0993535330101813,
          -1.216691877770335,
          0.5138107526264107,
          -1.1061241167920002,
          0.4729369781092309,
          0.9024125964696573,
          -1.4699712566890515,
          1.5396924255262654,
          0.5039368885584039,
          -0.8696597994618691,
          0.39055570113470145,
          0.8238348752706304,
          -1.343618033730395,
          -1.342607517262957,
          -0.5935393350230326,
          -0.7464864964476391,
          0.5870909065951785,
          -0.593757709459496,
          1.8073531910791214,
          1.4360601953488152,
          -1.6293443295876984,
          0.3927119248092008,
          1.5396806135280314,
          -1.3426432082708075,
          -1.3415626195455088,
          0.4686619873877645,
          0.5120491383513316,
          0.6264682211062785,
          -1.3424290763750943,
          1.0205140841640568,
          1.5707734652567635,
          2.3280322837874996,
          1.8089595552898636,
          -1.3421630952672767,
          1.2176187880976364,
          -1.1290417318227735,
          -1.550553893723613,
          -0.8696169619529363,
          -0.8301732537524013,
          1.4146512065937018,
          0.4712287694061238,
          -1.3426497362534324,
          -0.8695020051639358,
          0.5475415674809696,
          -0.869579368376713,
          -0.869005772347325,
          1.0205335868449896,
          1.0993536141208573,
          -1.0800839272065135,
          -0.8695530962092486,
          -0.8696169619529363,
          1.4146754419800072,
          -1.2734818253948372,
          -1.0667034104004234,
          1.4146837566903887,
          0.6263474407042431,
          1.3362012303276773,
          -1.3425224878659652,
          1.0993448553753524,
          0.6263705982619815,
          -1.342568747655438,
          1.1781433601905196,
          2.2492363742247594,
          -0.8694247860592722,
          0.4293542395415701,
          -0.8688080610204475,
          -0.9430531481789728,
          -1.3383060983139539,
          -0.8695948203363709,
          -1.1057161024197644,
          -0.8300314513804373,
          1.336024592972712,
          2.514507108317197,
          1.7299505267085746,
          1.573024528802241,
          1.4935246191744809,
          1.4188962680932742,
          1.4147466026400952,
          0.7159269409025233,
          -1.5394239003386467,
          -1.3426049651515422,
          -0.8695257612607457,
          1.4148227144227166,
          -1.2241987591810102,
          -0.6153258504258898,
          1.1447379346549937,
          0.38989309404409733,
          -0.47545642729378507,
          1.0993530829126146,
          1.2178921703375543,
          -0.7907840318707412,
          -1.086991027544712,
          0.38993213730524373,
          1.0210861291658744,
          0.389903456203913,
          -1.0792766618833347,
          0.4700781899334399,
          1.5985951503308256,
          1.414656795627841,
          1.0422008838240922,
          -0.6331086606623033,
          -1.0666928320245332,
          1.3379527569167493,
          1.8848796340098937,
          0.3898798771167982,
          -1.0664758365541445,
          0.3909081741361886,
          1.53292489574365,
          -0.8301909069869309,
          -0.04193685417671446,
          1.4153543769035086,
          1.217766358620299,
          0.5892732332519172,
          -1.5747136107852138,
          2.1703678267669693,
          -1.3335023275079108,
          -1.3423734719436864,
          1.0346019738825192,
          1.4168008450555565,
          0.7840398088875015,
          1.0994571607519679,
          -1.3415668665103855,
          0.548146531508927,
          -0.1207254833474553,
          -0.8694691686337389,
          -2.6567414681801487,
          -0.8694860710911538,
          1.4146690984247987,
          0.4292944729723209,
          0.6263826970905595,
          -1.3425871943312733,
          0.547517889965231,
          1.4159346331497589,
          1.375539942732287,
          1.812881050548129,
          -1.3425466253009133,
          0.7449305067998739,
          1.4167788411122673,
          -2.208557515675342,
          -1.0653221207390966,
          -1.105935360762393,
          0.19458940121051008,
          0.8628622636105552,
          -1.0666902047524545,
          -1.3059331389299413,
          -1.0665211068931375,
          1.3396044184496034,
          1.2965757722752689,
          1.771817496934417,
          -1.3420814808713992,
          -0.8692032804610953,
          1.3434027668272788,
          -1.6214347911842328,
          1.1156417644017624,
          0.547677425380448,
          1.4321157809806304,
          1.6513495614502538,
          1.6511751683248757,
          0.03711783049213611,
          0.9811082470524669,
          1.099878077118592,
          1.0993742176185695,
          -1.0667065617241003,
          -1.0782219463323017,
          0.39835803679268705,
          1.6663428321577187,
          -1.1061052833646836,
          0.9024571764531386,
          -0.8696401420084074,
          -1.080008531646123,
          -1.321334177352374,
          -2.779467347887369,
          0.468670908427729,
          1.0644552790064765,
          -1.0803975842032656,
          1.0205299303289177,
          -1.080402252245336,
          -1.1040218925284768,
          -1.2463987083989791,
          -0.8696411880050888,
          -0.6550470614505145,
          -2.3767947516571493,
          1.4176299454465626,
          1.0993535369760303,
          -1.342639793373492
         ]
        },
        {
         "customdata": [
          [
           10
          ],
          [
           60
          ]
         ],
         "hovertemplate": "<b>%{hovertext}</b><br><br>Class=%{marker.color}<br>PC_1=%{x}<br>PC_2=%{y}<br>PC_3=%{z}<br>Algorithm=%{customdata[0]}<extra></extra>",
         "hovertext": [
          "TurtleCoin",
          "BitTorrent"
         ],
         "legendgroup": "0",
         "marker": {
          "color": [
           0,
           0
          ],
          "coloraxis": "coloraxis",
          "symbol": "square"
         },
         "mode": "markers",
         "name": "0",
         "scene": "scene",
         "showlegend": true,
         "type": "scatter3d",
         "x": [
          10.938854473739445,
          25.459357630637207
         ],
         "y": [
          0.7022773521797293,
          3.931404236581099
         ],
         "z": [
          3.5868901435094833,
          -0.7858800338600169
         ]
        }
       ],
       "layout": {
        "coloraxis": {
         "colorbar": {
          "title": {
           "text": "Class"
          }
         },
         "colorscale": [
          [
           0,
           "#0d0887"
          ],
          [
           0.1111111111111111,
           "#46039f"
          ],
          [
           0.2222222222222222,
           "#7201a8"
          ],
          [
           0.3333333333333333,
           "#9c179e"
          ],
          [
           0.4444444444444444,
           "#bd3786"
          ],
          [
           0.5555555555555556,
           "#d8576b"
          ],
          [
           0.6666666666666666,
           "#ed7953"
          ],
          [
           0.7777777777777778,
           "#fb9f3a"
          ],
          [
           0.8888888888888888,
           "#fdca26"
          ],
          [
           1,
           "#f0f921"
          ]
         ]
        },
        "legend": {
         "title": {
          "text": "Class"
         },
         "tracegroupgap": 0,
         "x": 0,
         "y": 1
        },
        "margin": {
         "t": 60
        },
        "scene": {
         "domain": {
          "x": [
           0,
           1
          ],
          "y": [
           0,
           1
          ]
         },
         "xaxis": {
          "title": {
           "text": "PC_1"
          }
         },
         "yaxis": {
          "title": {
           "text": "PC_2"
          }
         },
         "zaxis": {
          "title": {
           "text": "PC_3"
          }
         }
        },
        "template": {
         "data": {
          "bar": [
           {
            "error_x": {
             "color": "#2a3f5f"
            },
            "error_y": {
             "color": "#2a3f5f"
            },
            "marker": {
             "line": {
              "color": "#E5ECF6",
              "width": 0.5
             }
            },
            "type": "bar"
           }
          ],
          "barpolar": [
           {
            "marker": {
             "line": {
              "color": "#E5ECF6",
              "width": 0.5
             }
            },
            "type": "barpolar"
           }
          ],
          "carpet": [
           {
            "aaxis": {
             "endlinecolor": "#2a3f5f",
             "gridcolor": "white",
             "linecolor": "white",
             "minorgridcolor": "white",
             "startlinecolor": "#2a3f5f"
            },
            "baxis": {
             "endlinecolor": "#2a3f5f",
             "gridcolor": "white",
             "linecolor": "white",
             "minorgridcolor": "white",
             "startlinecolor": "#2a3f5f"
            },
            "type": "carpet"
           }
          ],
          "choropleth": [
           {
            "colorbar": {
             "outlinewidth": 0,
             "ticks": ""
            },
            "type": "choropleth"
           }
          ],
          "contour": [
           {
            "colorbar": {
             "outlinewidth": 0,
             "ticks": ""
            },
            "colorscale": [
             [
              0,
              "#0d0887"
             ],
             [
              0.1111111111111111,
              "#46039f"
             ],
             [
              0.2222222222222222,
              "#7201a8"
             ],
             [
              0.3333333333333333,
              "#9c179e"
             ],
             [
              0.4444444444444444,
              "#bd3786"
             ],
             [
              0.5555555555555556,
              "#d8576b"
             ],
             [
              0.6666666666666666,
              "#ed7953"
             ],
             [
              0.7777777777777778,
              "#fb9f3a"
             ],
             [
              0.8888888888888888,
              "#fdca26"
             ],
             [
              1,
              "#f0f921"
             ]
            ],
            "type": "contour"
           }
          ],
          "contourcarpet": [
           {
            "colorbar": {
             "outlinewidth": 0,
             "ticks": ""
            },
            "type": "contourcarpet"
           }
          ],
          "heatmap": [
           {
            "colorbar": {
             "outlinewidth": 0,
             "ticks": ""
            },
            "colorscale": [
             [
              0,
              "#0d0887"
             ],
             [
              0.1111111111111111,
              "#46039f"
             ],
             [
              0.2222222222222222,
              "#7201a8"
             ],
             [
              0.3333333333333333,
              "#9c179e"
             ],
             [
              0.4444444444444444,
              "#bd3786"
             ],
             [
              0.5555555555555556,
              "#d8576b"
             ],
             [
              0.6666666666666666,
              "#ed7953"
             ],
             [
              0.7777777777777778,
              "#fb9f3a"
             ],
             [
              0.8888888888888888,
              "#fdca26"
             ],
             [
              1,
              "#f0f921"
             ]
            ],
            "type": "heatmap"
           }
          ],
          "heatmapgl": [
           {
            "colorbar": {
             "outlinewidth": 0,
             "ticks": ""
            },
            "colorscale": [
             [
              0,
              "#0d0887"
             ],
             [
              0.1111111111111111,
              "#46039f"
             ],
             [
              0.2222222222222222,
              "#7201a8"
             ],
             [
              0.3333333333333333,
              "#9c179e"
             ],
             [
              0.4444444444444444,
              "#bd3786"
             ],
             [
              0.5555555555555556,
              "#d8576b"
             ],
             [
              0.6666666666666666,
              "#ed7953"
             ],
             [
              0.7777777777777778,
              "#fb9f3a"
             ],
             [
              0.8888888888888888,
              "#fdca26"
             ],
             [
              1,
              "#f0f921"
             ]
            ],
            "type": "heatmapgl"
           }
          ],
          "histogram": [
           {
            "marker": {
             "colorbar": {
              "outlinewidth": 0,
              "ticks": ""
             }
            },
            "type": "histogram"
           }
          ],
          "histogram2d": [
           {
            "colorbar": {
             "outlinewidth": 0,
             "ticks": ""
            },
            "colorscale": [
             [
              0,
              "#0d0887"
             ],
             [
              0.1111111111111111,
              "#46039f"
             ],
             [
              0.2222222222222222,
              "#7201a8"
             ],
             [
              0.3333333333333333,
              "#9c179e"
             ],
             [
              0.4444444444444444,
              "#bd3786"
             ],
             [
              0.5555555555555556,
              "#d8576b"
             ],
             [
              0.6666666666666666,
              "#ed7953"
             ],
             [
              0.7777777777777778,
              "#fb9f3a"
             ],
             [
              0.8888888888888888,
              "#fdca26"
             ],
             [
              1,
              "#f0f921"
             ]
            ],
            "type": "histogram2d"
           }
          ],
          "histogram2dcontour": [
           {
            "colorbar": {
             "outlinewidth": 0,
             "ticks": ""
            },
            "colorscale": [
             [
              0,
              "#0d0887"
             ],
             [
              0.1111111111111111,
              "#46039f"
             ],
             [
              0.2222222222222222,
              "#7201a8"
             ],
             [
              0.3333333333333333,
              "#9c179e"
             ],
             [
              0.4444444444444444,
              "#bd3786"
             ],
             [
              0.5555555555555556,
              "#d8576b"
             ],
             [
              0.6666666666666666,
              "#ed7953"
             ],
             [
              0.7777777777777778,
              "#fb9f3a"
             ],
             [
              0.8888888888888888,
              "#fdca26"
             ],
             [
              1,
              "#f0f921"
             ]
            ],
            "type": "histogram2dcontour"
           }
          ],
          "mesh3d": [
           {
            "colorbar": {
             "outlinewidth": 0,
             "ticks": ""
            },
            "type": "mesh3d"
           }
          ],
          "parcoords": [
           {
            "line": {
             "colorbar": {
              "outlinewidth": 0,
              "ticks": ""
             }
            },
            "type": "parcoords"
           }
          ],
          "pie": [
           {
            "automargin": true,
            "type": "pie"
           }
          ],
          "scatter": [
           {
            "marker": {
             "colorbar": {
              "outlinewidth": 0,
              "ticks": ""
             }
            },
            "type": "scatter"
           }
          ],
          "scatter3d": [
           {
            "line": {
             "colorbar": {
              "outlinewidth": 0,
              "ticks": ""
             }
            },
            "marker": {
             "colorbar": {
              "outlinewidth": 0,
              "ticks": ""
             }
            },
            "type": "scatter3d"
           }
          ],
          "scattercarpet": [
           {
            "marker": {
             "colorbar": {
              "outlinewidth": 0,
              "ticks": ""
             }
            },
            "type": "scattercarpet"
           }
          ],
          "scattergeo": [
           {
            "marker": {
             "colorbar": {
              "outlinewidth": 0,
              "ticks": ""
             }
            },
            "type": "scattergeo"
           }
          ],
          "scattergl": [
           {
            "marker": {
             "colorbar": {
              "outlinewidth": 0,
              "ticks": ""
             }
            },
            "type": "scattergl"
           }
          ],
          "scattermapbox": [
           {
            "marker": {
             "colorbar": {
              "outlinewidth": 0,
              "ticks": ""
             }
            },
            "type": "scattermapbox"
           }
          ],
          "scatterpolar": [
           {
            "marker": {
             "colorbar": {
              "outlinewidth": 0,
              "ticks": ""
             }
            },
            "type": "scatterpolar"
           }
          ],
          "scatterpolargl": [
           {
            "marker": {
             "colorbar": {
              "outlinewidth": 0,
              "ticks": ""
             }
            },
            "type": "scatterpolargl"
           }
          ],
          "scatterternary": [
           {
            "marker": {
             "colorbar": {
              "outlinewidth": 0,
              "ticks": ""
             }
            },
            "type": "scatterternary"
           }
          ],
          "surface": [
           {
            "colorbar": {
             "outlinewidth": 0,
             "ticks": ""
            },
            "colorscale": [
             [
              0,
              "#0d0887"
             ],
             [
              0.1111111111111111,
              "#46039f"
             ],
             [
              0.2222222222222222,
              "#7201a8"
             ],
             [
              0.3333333333333333,
              "#9c179e"
             ],
             [
              0.4444444444444444,
              "#bd3786"
             ],
             [
              0.5555555555555556,
              "#d8576b"
             ],
             [
              0.6666666666666666,
              "#ed7953"
             ],
             [
              0.7777777777777778,
              "#fb9f3a"
             ],
             [
              0.8888888888888888,
              "#fdca26"
             ],
             [
              1,
              "#f0f921"
             ]
            ],
            "type": "surface"
           }
          ],
          "table": [
           {
            "cells": {
             "fill": {
              "color": "#EBF0F8"
             },
             "line": {
              "color": "white"
             }
            },
            "header": {
             "fill": {
              "color": "#C8D4E3"
             },
             "line": {
              "color": "white"
             }
            },
            "type": "table"
           }
          ]
         },
         "layout": {
          "annotationdefaults": {
           "arrowcolor": "#2a3f5f",
           "arrowhead": 0,
           "arrowwidth": 1
          },
          "autotypenumbers": "strict",
          "coloraxis": {
           "colorbar": {
            "outlinewidth": 0,
            "ticks": ""
           }
          },
          "colorscale": {
           "diverging": [
            [
             0,
             "#8e0152"
            ],
            [
             0.1,
             "#c51b7d"
            ],
            [
             0.2,
             "#de77ae"
            ],
            [
             0.3,
             "#f1b6da"
            ],
            [
             0.4,
             "#fde0ef"
            ],
            [
             0.5,
             "#f7f7f7"
            ],
            [
             0.6,
             "#e6f5d0"
            ],
            [
             0.7,
             "#b8e186"
            ],
            [
             0.8,
             "#7fbc41"
            ],
            [
             0.9,
             "#4d9221"
            ],
            [
             1,
             "#276419"
            ]
           ],
           "sequential": [
            [
             0,
             "#0d0887"
            ],
            [
             0.1111111111111111,
             "#46039f"
            ],
            [
             0.2222222222222222,
             "#7201a8"
            ],
            [
             0.3333333333333333,
             "#9c179e"
            ],
            [
             0.4444444444444444,
             "#bd3786"
            ],
            [
             0.5555555555555556,
             "#d8576b"
            ],
            [
             0.6666666666666666,
             "#ed7953"
            ],
            [
             0.7777777777777778,
             "#fb9f3a"
            ],
            [
             0.8888888888888888,
             "#fdca26"
            ],
            [
             1,
             "#f0f921"
            ]
           ],
           "sequentialminus": [
            [
             0,
             "#0d0887"
            ],
            [
             0.1111111111111111,
             "#46039f"
            ],
            [
             0.2222222222222222,
             "#7201a8"
            ],
            [
             0.3333333333333333,
             "#9c179e"
            ],
            [
             0.4444444444444444,
             "#bd3786"
            ],
            [
             0.5555555555555556,
             "#d8576b"
            ],
            [
             0.6666666666666666,
             "#ed7953"
            ],
            [
             0.7777777777777778,
             "#fb9f3a"
            ],
            [
             0.8888888888888888,
             "#fdca26"
            ],
            [
             1,
             "#f0f921"
            ]
           ]
          },
          "colorway": [
           "#636efa",
           "#EF553B",
           "#00cc96",
           "#ab63fa",
           "#FFA15A",
           "#19d3f3",
           "#FF6692",
           "#B6E880",
           "#FF97FF",
           "#FECB52"
          ],
          "font": {
           "color": "#2a3f5f"
          },
          "geo": {
           "bgcolor": "white",
           "lakecolor": "white",
           "landcolor": "#E5ECF6",
           "showlakes": true,
           "showland": true,
           "subunitcolor": "white"
          },
          "hoverlabel": {
           "align": "left"
          },
          "hovermode": "closest",
          "mapbox": {
           "style": "light"
          },
          "paper_bgcolor": "white",
          "plot_bgcolor": "#E5ECF6",
          "polar": {
           "angularaxis": {
            "gridcolor": "white",
            "linecolor": "white",
            "ticks": ""
           },
           "bgcolor": "#E5ECF6",
           "radialaxis": {
            "gridcolor": "white",
            "linecolor": "white",
            "ticks": ""
           }
          },
          "scene": {
           "xaxis": {
            "backgroundcolor": "#E5ECF6",
            "gridcolor": "white",
            "gridwidth": 2,
            "linecolor": "white",
            "showbackground": true,
            "ticks": "",
            "zerolinecolor": "white"
           },
           "yaxis": {
            "backgroundcolor": "#E5ECF6",
            "gridcolor": "white",
            "gridwidth": 2,
            "linecolor": "white",
            "showbackground": true,
            "ticks": "",
            "zerolinecolor": "white"
           },
           "zaxis": {
            "backgroundcolor": "#E5ECF6",
            "gridcolor": "white",
            "gridwidth": 2,
            "linecolor": "white",
            "showbackground": true,
            "ticks": "",
            "zerolinecolor": "white"
           }
          },
          "shapedefaults": {
           "line": {
            "color": "#2a3f5f"
           }
          },
          "ternary": {
           "aaxis": {
            "gridcolor": "white",
            "linecolor": "white",
            "ticks": ""
           },
           "baxis": {
            "gridcolor": "white",
            "linecolor": "white",
            "ticks": ""
           },
           "bgcolor": "#E5ECF6",
           "caxis": {
            "gridcolor": "white",
            "linecolor": "white",
            "ticks": ""
           }
          },
          "title": {
           "x": 0.05
          },
          "xaxis": {
           "automargin": true,
           "gridcolor": "white",
           "linecolor": "white",
           "ticks": "",
           "title": {
            "standoff": 15
           },
           "zerolinecolor": "white",
           "zerolinewidth": 2
          },
          "yaxis": {
           "automargin": true,
           "gridcolor": "white",
           "linecolor": "white",
           "ticks": "",
           "title": {
            "standoff": 15
           },
           "zerolinecolor": "white",
           "zerolinewidth": 2
          }
         }
        },
        "width": 800
       }
      },
      "text/html": [
       "<div>                            <div id=\"cd54a3a5-bf1e-4ed8-a1f8-cd8abd456f3f\" class=\"plotly-graph-div\" style=\"height:525px; width:800px;\"></div>            <script type=\"text/javascript\">                require([\"plotly\"], function(Plotly) {                    window.PLOTLYENV=window.PLOTLYENV || {};                                    if (document.getElementById(\"cd54a3a5-bf1e-4ed8-a1f8-cd8abd456f3f\")) {                    Plotly.newPlot(                        \"cd54a3a5-bf1e-4ed8-a1f8-cd8abd456f3f\",                        [{\"customdata\": [[53], [53], [67], [47], [53], [65], [47], [53], [69], [65], [53], [53], [53], [53], [47], [53], [53], [53], [46], [53], [53], [53], [53], [53], [65], [47], [53], [53], [53], [53], [53], [53], [53], [53], [53], [53], [65], [53], [65], [47], [53], [53], [53], [51], [53], [53], [47], [67], [53], [47], [53], [67], [36], [53], [53], [53], [53], [53], [53], [65], [65], [47], [47], [65], [47], [47], [47], [65], [53], [53], [53], [53], [53], [65], [47], [67], [53], [53], [47], [53], [53], [67], [53], [53], [53], [67], [53], [59], [65], [45], [53], [53], [53], [53], [47], [53], [65], [51], [65], [47], [44], [65], [65], [53], [53], [67], [47], [69], [65], [47], [53], [47], [65], [53], [47], [47], [35], [53], [65], [53], [66], [65], [47], [53], [65], [65], [47], [47], [35], [65], [53], [53], [53], [53], [67], [65], [65], [18], [65], [53], [47], [47], [65], [53], [53], [53], [47], [53], [53], [49], [53], [65], [67], [68], [49], [65], [53], [65], [67], [65], [53], [53], [65], [65], [47], [53], [65], [53], [53], [65], [53], [53], [53], [45], [53], [53], [47], [65], [53], [65], [53], [53], [53], [67], [65], [53], [53], [65], [65], [53], [65], [65], [53], [53], [53], [65], [53], [47], [53], [69], [53], [35], [65], [35], [56], [53], [67], [53], [65], [65], [53], [67], [61], [53], [65], [56], [47], [65], [64], [53], [53], [53], [53], [53], [53], [53], [53], [65], [36], [65], [53], [53], [47], [35], [38], [53], [46], [53], [53], [65], [65], [35], [67], [53], [65], [53], [53], [53], [65], [65], [53], [53], [53], [65], [65], [47], [53], [57], [53], [53], [67], [48], [53], [53], [65], [65], [71], [63], [53], [35], [53], [53], [53], [65], [46], [70], [53], [71], [62], [53], [49], [53], [69], [70], [65], [70], [46], [31], [53], [53], [71], [65], [65], [47], [65], [65], [53], [50], [70], [71], [47], [71], [65], [46], [53], [53], [46], [53], [45], [65], [53], [71], [49], [65], [47], [67], [47], [65], [53], [53], [65], [53], [53], [53], [65], [53], [53], [47], [65], [47], [53], [53], [53], [65], [53], [53], [53], [65], [47], [53], [36], [67], [53]], \"hovertemplate\": \"<b>%{hovertext}</b><br><br>Class=%{marker.color}<br>PC_1=%{x}<br>PC_2=%{y}<br>PC_3=%{z}<br>Algorithm=%{customdata[0]}<extra></extra>\", \"hovertext\": [\"42 Coin\", \"404Coin\", \"EliteCoin\", \"Bitcoin\", \"Litecoin\", \"Dash\", \"BitcoinDark\", \"ProsperCoin\", \"KoboCoin\", \"Spreadcoin\", \"Argentum\", \"Aurora Coin\", \"BlueCoin\", \"MoonCoin\", \"ZetaCoin\", \"SexCoin\", \"Quatloo\", \"EnergyCoin\", \"QuarkCoin\", \"Digitalcoin \", \"BitBar\", \"Catcoin\", \"CryptoBullion\", \"CannaCoin\", \"CryptCoin\", \"DevCoin\", \"EarthCoin\", \"E-Gulden\", \"Einsteinium\", \"Emerald\", \"FlutterCoin\", \"Franko\", \"GrandCoin\", \"GlobalCoin\", \"GoldCoin\", \"HoboNickels\", \"HyperStake\", \"Infinite Coin\", \"IOCoin\", \"IXcoin\", \"KrugerCoin\", \"LuckyCoin\", \"Litebar \", \"MaxCoin\", \"MegaCoin\", \"MinCoin\", \"MazaCoin\", \"NavCoin\", \"NobleCoin\", \"Namecoin\", \"NyanCoin\", \"OpalCoin\", \"Orbitcoin\", \"PotCoin\", \"PhoenixCoin\", \"Reddcoin\", \"RonPaulCoin\", \"StableCoin\", \"SmartCoin\", \"SuperCoin\", \"SyncCoin\", \"SysCoin\", \"TigerCoin\", \"TorCoin\", \"TerraCoin\", \"UnbreakableCoin\", \"Unobtanium\", \"UroCoin\", \"UnitaryStatus Dollar\", \"UltraCoin\", \"ViaCoin\", \"VeriCoin\", \"WorldCoin\", \"X11 Coin\", \"JouleCoin\", \"StealthCoin\", \"ZCC Coin\", \"MonaCoin\", \"Neutron\", \"Gulden\", \"PesetaCoin\", \"Kore\", \"Wild Beast Coin\", \"Flo\", \"8BIT Coin\", \"Sativa Coin\", \"ArtByte\", \"Folding Coin\", \"Ucoin\", \"CypherPunkCoin\", \"OmniCron\", \"Vtorrent\", \"GreenCoin\", \"MasterCoin\", \"SoonCoin\", \"1Credit\", \"IslaCoin\", \"Nexus\", \"MarsCoin \", \"Anarchists Prime\", \"Droidz\", \"BowsCoin\", \"Squall Coin\", \"Song Coin\", \"BitZeny\", \"Paycon\", \"Emercoin\", \"EverGreenCoin\", \"MindCoin\", \"I0coin\", \"Revolution VR\", \"EDRCoin\", \"Hitcoin\", \"Gamecredits\", \"DubaiCoin\", \"CarpeDiemCoin\", \"PWR Coin\", \"BillaryCoin\", \"Adzcoin\", \"YoCoin\", \"SibCoin\", \"EuropeCoin\", \"SwingCoin\", \"Francs\", \"BolivarCoin\", \"Ratecoin\", \"Revenu\", \"Clockcoin\", \"VIP Tokens\", \"BitSend\", \"Omni\", \"PutinCoin\", \"iBankCoin\", \"Frankywillcoin\", \"MudraCoin\", \"PizzaCoin\", \"Lutetium Coin\", \"Komodo\", \"GoldBlocks\", \"CarterCoin\", \"BitTokens\", \"ZayedCoin\", \"MustangCoin\", \"ZoneCoin\", \"RootCoin\", \"DopeCoin\", \"DollarCoin\", \"Swiscoin\", \"Shilling\", \"BuzzCoin\", \"PesoBit\", \"Halloween Coin\", \"RoyalCoin\", \"GanjaCoin V2\", \"LanaCoin\", \"InsaneCoin\", \"KiloCoin\", \"ArtexCoin\", \"EmberCoin\", \"XenixCoin\", \"PLNCoin\", \"AquariusCoin\", \"Kurrent\", \"Eternity\", \"Eurocoin\", \"BitcoinFast\", \"Stakenet\", \"BitConnect Coin\", \"MoneyCoin\", \"Enigma\", \"Russiacoin\", \"GameUnits\", \"GAKHcoin\", \"LiteCreed\", \"OsmiumCoin\", \"Klingon Empire Darsek\", \"Internet of People\", \"KushCoin\", \"Printerium\", \"PacCoin\", \"Impeach\", \"FirstCoin\", \"BeaverCoin\", \"FindCoin\", \"VaultCoin\", \"OpenChat\", \"Canada eCoin\", \"VirtacoinPlus\", \"Impact\", \"EB3coin\", \"HappyCoin\", \"Condensate\", \"Independent Money System\", \"ArgusCoin\", \"LomoCoin\", \"GoldReserve\", \"BenjiRolls\", \"ILCoin\", \"Degas Coin\", \"HTML5 Coin\", \"EquiTrader\", \"Denarius\", \"DigitalPrice\", \"Virta Unique Coin\", \"Bitcoin Planet\", \"Unify\", \"BritCoin\", \"SocialCoin\", \"ArcticCoin\", \"DAS\", \"Linda\", \"DeepOnion\", \"Bitcore\", \"gCn Coin\", \"Onix\", \"Cream\", \"Bitcoin Cash\", \"Monoeci\", \"Vechain\", \"Sojourn Coin\", \"NewYorkCoin\", \"FrazCoin\", \"Kronecoin\", \"AdCoin\", \"Linx\", \"CoinonatX\", \"Ethereum Dark\", \"Regalcoin\", \"TrezarCoin\", \"Elements\", \"TerraNovaCoin\", \"WomenCoin\", \"Theresa May Coin\", \"NamoCoin\", \"LUXCoin\", \"Xios\", \"Bitcloud 2.0\", \"eBoost\", \"BlackholeCoin\", \"Pura\", \"Magnet\", \"Electra\", \"Bitcoin Diamond\", \"Cash & Back Coin\", \"AC3\", \"GermanCoin\", \"LiteCoin Ultra\", \"PopularCoin\", \"PhantomX\", \"Sucre\", \"IrishCoin\", \"Trollcoin\", \"Litecoin Plus\", \"Monkey Project\", \"Pioneer Coin\", \"UnitedBitcoin\", \"My Big Coin\", \"MUNcoin\", \"Unified Society USDEX\", \"ShareChain\", \"Tokyo Coin\", \"LitecoinCash\", \"BitFlip\", \"LottoCoin\", \"Crypto Improvement Fund\", \"Pushi\", \"Ellerium\", \"Ontology\", \"Poseidon\", \"Bitspace\", \"Briacoin\", \"Ignition\", \"Abjcoin\", \"FuturoCoin\", \"Carebit\", \"Proton\", \"iDealCash\", \"Bitcoin Incognito\", \"KEYCO\", \"Swisscoin\", \"TheVig\", \"EmaratCoin\", \"Dekado\", \"Motion\", \"Axe\", \"Trivechain\", \"Giant\", \"Absolute Coin\", \"HexCoin\", \"TPCash\", \"Urals Coin\", \"ARENON\", \"EUNO\", \"Project Pai\", \"PAXEX\", \"Azart\", \"ThunderStake\", \"Kcash\", \"Xchange\", \"Bettex coin\", \"Bitcoin SV\", \"BitMoney\", \"Junson Ming Chan Coin\", \"HerbCoin\", \"Block-Logic\", \"Oduwa\", \"Galilel\", \"Credit\", \"SLICE\", \"Dash Platinum\", \"Nasdacoin\", \"Beetle Coin\", \"Titan Coin\", \"Award\", \"BLAST\", \"Bitcoin Rhodium\", \"GlobalToken\", \"Insane Coin\", \"LiteDoge\", \"SolarCoin\", \"TruckCoin\", \"OrangeCoin\", \"BitstarCoin\", \"HyperCoin\", \"PinkCoin\", \"Crypto Escudo\", \"AudioCoin\", \"IncaKoin\", \"Piggy Coin\", \"Crown Coin\", \"Genstake\", \"SmileyCoin\", \"XiaoMiCoin\", \"CapriCoin\", \" ClubCoin\", \"Bata\", \"Pakcoin\", \"Creditbit \", \"OKCash\", \"WhiteCoin\", \"FriendshipCoin\", \"Triangles Coin\", \"Gapcoin\"], \"legendgroup\": \"2\", \"marker\": {\"color\": [2, 2, 2, 2, 2, 2, 2, 2, 2, 2, 2, 2, 2, 2, 2, 2, 2, 2, 2, 2, 2, 2, 2, 2, 2, 2, 2, 2, 2, 2, 2, 2, 2, 2, 2, 2, 2, 2, 2, 2, 2, 2, 2, 2, 2, 2, 2, 2, 2, 2, 2, 2, 2, 2, 2, 2, 2, 2, 2, 2, 2, 2, 2, 2, 2, 2, 2, 2, 2, 2, 2, 2, 2, 2, 2, 2, 2, 2, 2, 2, 2, 2, 2, 2, 2, 2, 2, 2, 2, 2, 2, 2, 2, 2, 2, 2, 2, 2, 2, 2, 2, 2, 2, 2, 2, 2, 2, 2, 2, 2, 2, 2, 2, 2, 2, 2, 2, 2, 2, 2, 2, 2, 2, 2, 2, 2, 2, 2, 2, 2, 2, 2, 2, 2, 2, 2, 2, 2, 2, 2, 2, 2, 2, 2, 2, 2, 2, 2, 2, 2, 2, 2, 2, 2, 2, 2, 2, 2, 2, 2, 2, 2, 2, 2, 2, 2, 2, 2, 2, 2, 2, 2, 2, 2, 2, 2, 2, 2, 2, 2, 2, 2, 2, 2, 2, 2, 2, 2, 2, 2, 2, 2, 2, 2, 2, 2, 2, 2, 2, 2, 2, 2, 2, 2, 2, 2, 2, 2, 2, 2, 2, 2, 2, 2, 2, 2, 2, 2, 2, 2, 2, 2, 2, 2, 2, 2, 2, 2, 2, 2, 2, 2, 2, 2, 2, 2, 2, 2, 2, 2, 2, 2, 2, 2, 2, 2, 2, 2, 2, 2, 2, 2, 2, 2, 2, 2, 2, 2, 2, 2, 2, 2, 2, 2, 2, 2, 2, 2, 2, 2, 2, 2, 2, 2, 2, 2, 2, 2, 2, 2, 2, 2, 2, 2, 2, 2, 2, 2, 2, 2, 2, 2, 2, 2, 2, 2, 2, 2, 2, 2, 2, 2, 2, 2, 2, 2, 2, 2, 2, 2, 2, 2, 2, 2, 2, 2, 2, 2, 2, 2, 2, 2, 2, 2, 2, 2, 2, 2, 2, 2, 2, 2, 2, 2, 2, 2, 2, 2, 2, 2, 2, 2, 2], \"coloraxis\": \"coloraxis\", \"symbol\": \"circle\"}, \"mode\": \"markers\", \"name\": \"2\", \"scene\": \"scene\", \"showlegend\": true, \"type\": \"scatter3d\", \"x\": [-0.41266542545356627, -0.39130558072105665, 3.143152316757408, -0.19030134717362865, -0.21967866006234596, -0.47370285277092417, -0.3817243830271897, -0.22118388243616482, -0.4905940203953447, -0.28250967235078694, -0.22065061164542388, -0.4122210307693849, -0.4030499948813656, 3.6708182296812644, -0.18648881870234674, -0.21699880513799147, -0.22035906975890812, -0.4108032020204855, -0.1792377212032365, -0.22048974050330994, -0.4126597140870816, -0.2211619156686525, -0.4126395660754209, -0.22127966029038096, -0.28262305004723387, 0.30616663017038737, 0.10509898951177474, -0.22095474643901553, -0.21513323566498876, -0.22086464063075648, -0.08704121317342119, -0.2213528499049356, -0.19370557601678523, -0.21978071632179072, -0.2201213418453659, -0.4100982671179465, 0.061154429117700464, 2.0677790811280135, -0.4735724180123985, -0.19025349617542014, -0.21650191841890812, -0.22098885463840903, -0.22145363541813895, -0.4004891412982646, -0.2204809821104072, -0.2212948375053739, -0.33302431008389605, -0.48329531100428524, -0.03363692402975733, -0.19034963097105945, -0.21300320605896525, -0.48406601064338695, -0.32559927095264246, -0.40503860003602615, -0.41055290384854853, 0.0309468328144965, -0.22125446184031494, -0.21858354797893062, -0.22057776456597508, 0.03652186631454169, -0.4740624856565724, -0.1732599547025812, -0.18965015177232625, -0.47393948435186184, -0.1900127009395685, -0.18994011705182715, -0.19077991271797898, -0.28286284827194236, -0.3798178087883042, -0.41089163133140033, -0.2209005714012038, -0.15727234524316913, -0.2169837419049743, -0.47390158234953317, -0.18973623576666118, -0.4837945769293481, -0.4002897885115567, -0.21938656984778607, -0.3806856194986761, -0.19817480882171593, -0.21771654834773324, -0.4841431224397636, -0.22145463977080643, -0.2175580310131031, -0.4126432146893402, -0.48408660791931396, -0.19935490717397283, -0.23115992918260655, 0.03599796938767974, -0.18045631771255752, -0.2212964157148548, -0.4122870961844826, -0.05035688736526242, -0.22146837728425287, -0.1903840385155971, 0.7110480538271582, -0.47403960776485926, -0.5918600699058457, -0.28205903606724464, -0.1900174055056407, -0.36643666779190864, -0.282428200869954, -0.09169474016269907, -0.21886020686112376, -0.21780575754504805, -0.483439863427564, -0.371179084994338, -0.49405689883382303, -0.28247882351606335, -0.19025488641306038, -0.21617764260979488, -0.38168835557117964, -0.038546604986268, -0.21957580791762601, -0.3817828389991781, 0.35739889584171397, -0.16819576847553977, -0.41210353418013923, -0.28134705312139136, -0.2197679563372069, -0.28749303824951683, -0.47001272530866356, -0.3814951994613644, -0.22118187499639835, -0.2824210947531451, -0.4712661711952562, -0.3796912059240273, -0.3763932290129976, -0.31839474014617575, -0.47228453866048986, -0.22146845384785058, -0.380089053337912, -0.41214756107711575, -0.4101385751038664, 0.027624596705129994, -0.2826068614988953, 0.05235595601192071, -0.8033537297563518, -0.47332018605767323, -0.41109997443219815, -0.3817450124743245, -0.19059231722390454, -0.4740221534348561, -0.41241349506380154, -0.4126360715125228, -0.21768865156459039, -0.19053984944974114, -0.49863144501736434, -0.2210116852740543, 0.10678149716198586, -0.41215814672699097, -0.4548530113412761, 0.025584868812292338, -0.4868849339646999, -0.2997417642939294, -0.47348085835124454, -0.1171515507695815, -0.26534399206605824, 0.9194108136180177, -0.4739651457614696, -0.41201617209013314, -0.41220263818969066, -0.2796414718028098, -0.47336249608933273, -0.3815762677464053, -0.4120245929417989, -0.9182331609573431, -0.4122139358789868, -0.40590504548351297, -0.4739995047301361, -0.41107903659376516, -0.41248110160898904, -0.41258164145370724, -0.3704775297756507, -0.22144298933791337, -0.40723467316939077, -0.38171579728736427, -0.4738820643419324, -0.4122838123823514, 0.7388650416411342, -0.41243844232129406, -0.4736130219434365, -0.22140283187731788, 0.025888715808354577, -0.2722851104419956, -0.38739691240511664, -0.2189595487558209, -0.4728497104198728, -0.4712734378268667, -0.17996929402718914, -0.47272322590063265, -0.46715333233553125, -0.41236917175804333, -0.4123581542910743, -0.4025216565604061, -0.47339722277065116, -0.22081716433523407, -0.14550441344949733, -0.41127791767121885, 1.0329950401937984, -0.22054731367015068, -0.3204053111969982, -0.2813357634078846, -0.3184009924154419, -0.4268981121898289, -0.22101423986577878, -0.4836694399697831, -0.22064561491297613, -0.28187886429462844, -0.28264985308483603, 0.2310154652187103, -0.483772150452245, -0.26193317833778207, 4.273157062352418, -0.26987795411671495, -0.4262848383844365, -0.1903003119019618, -0.47377594398600725, 0.9305134405138341, -0.11504654827161055, 1.9425372724216454, -0.22113446192204134, -0.2203684739016312, -0.2199763897278413, -0.2199602012588866, -0.41188065530016166, -0.4125592987555778, -0.4736789391796163, -0.31886799734277993, -0.22373550011737806, -0.41248868829036567, 0.5740434431214647, -0.37956032132065276, -0.29992373472904355, -0.3351852098565711, -0.4124200364891671, -0.3743584815738683, -0.21895733046236782, -0.4122679264272663, -0.2766820255820572, -0.47202486726595516, 0.41326107159686337, -0.4793894648366109, -0.4088574856592718, -0.2760908358046189, 0.16846710961556757, -0.4110175909363971, -0.11081548815561457, -0.47287211318763095, -0.2826164256730566, -0.22014704991320733, -0.3945993034722212, -0.4125869830368754, 0.036034094426498554, -0.2825196916684073, -0.19027592217296643, -0.348491974652339, -0.24170855268522065, -0.40676006066434145, 0.0312011105243823, 0.03711561223040586, -0.24145443219414853, -0.22089024417346853, 0.18437539534629133, -0.2746155943282112, -0.4737763042761469, -0.5041465403147264, 0.06597243724784808, -0.2212095785797791, -0.3198543435971316, -0.41262222144963695, -0.4125968567822456, -0.41221182557294717, -0.2813862677025716, -0.37270863534959836, 0.010695191460668246, -0.339500137638422, -0.12202038769861243, -0.2673373572701101, -0.1549265825956754, -0.3906831399284429, -0.4114871374852699, 0.01665937474450631, -0.3081165103765312, -0.2825927012918164, -0.4982491923092884, -0.3767086719046286, -0.2993701961742147, -0.2212385297369118, -0.4024474506993369, -0.3112279150434501, 0.036603625654736, -0.4730900651866696, -0.13772160739808711, 0.03683632821694565, -0.2825518106931024, -0.21417420406789314, -0.8818646964782888, -0.3073020200754573, 0.005665518008852458, -0.19030035843381582, -0.046979992356844365, 0.296180448517956, -0.3757687490888746, -0.2197337468274308, -0.4122289477719946, -0.37638111446302513, 0.8119868269313232, -0.1793434217287802, 0.03596505503743786, -0.4115030689550839, -0.4966825615151092, -0.32795469647782155, -0.46957196423370584, -0.18934544342217383, -0.29307497025237195, -0.1878022131046959, -0.47339864228002465, 0.17391185938043904, 0.7737183901145619, -0.47039180696997984, -0.41058466050356857, -0.41180410496795994, -0.41251968420788104, -0.4623913732529922, -0.19954143635363003, -0.2913945376623591, -0.10857151797859269, -0.456447306677843, -0.19001192112492865, -0.41160544483922273, 0.7330002660463516, -0.4024927026235483, -0.46890707572516876, -0.40947559552184387, -0.22135689270980058, -0.2185847546778553, -0.8560022627759746, -0.37977256018401195, -0.4058111389777348, -0.3250593892123863, -0.4842920148145119, -0.40990543434134735], \"y\": [0.8231502329380367, 0.8278725869093396, 2.18674766297852, -0.003828542785742214, 0.2537518190850364, 1.3378144202429383, 0.5659076197497603, 0.2534234505957646, 1.510092319493836, 0.7680266223431038, 0.25353620640951535, 0.8232474957872381, 0.8253175090988918, 1.0642166587568596, -0.0029949643802057624, 0.254327120605468, 0.25359568892321543, 0.8235699699928416, -0.045409422441670406, 0.2535752061188504, 0.8231514337380192, 0.253428401809446, 0.8231558884876512, 0.2534032228484095, 0.7680014136019673, 0.10444278504558199, 0.3246336632994349, 0.25347509685110603, 0.25473899531018734, 0.25349350277075183, -0.12492591141269878, 0.2533870557454941, 0.25937474035220165, 0.253731238732197, 0.25365407460767925, 0.823708093390979, -0.1759799486209788, 0.7536711406488628, 1.3378438196691655, -0.0038177573792475402, 0.25443644815576205, 0.25346758206039327, 0.2533660498581533, 0.737806482035372, 0.25357824724141415, 0.25340034534354716, 0.5764695713811238, 1.4237270564499231, 0.29310361968624676, -0.0038394257432957683, 0.2552126559813012, 1.423553344109445, 0.09417102931767922, 0.824796605661527, 0.8236094273267275, 0.9231385030039228, 0.2534075423056053, 0.2539699264743321, 0.2535548408485821, -0.18153202094516113, 1.3377371674583296, -0.00013752049617867307, -0.0036862675198720213, 1.3377631611013991, -0.0037671172073288697, -0.0037573329701065606, -0.003932818611360803, 0.767950479005584, 0.8302770645174677, 0.8235327335304112, 0.2534869615709503, 0.06353838202964368, 0.2543278472414559, 1.3377724827672213, -0.0037053223084312307, 1.4236145240858686, 0.8257665987769399, 0.25381400015579064, 0.5661337922775858, 0.25832250755400316, 0.25417981371667286, 1.4235338868608138, 0.2533656023250583, 0.25421664792289445, 0.8231552391547827, 1.4235469710850932, 0.2581741917186904, 0.5152182606071849, -0.18165356600590862, -0.08967680943967409, 0.25340113670425524, 0.8232320457378469, 0.2902002568576396, 0.25336285352172944, -0.003847181053910306, 0.44762761045458666, 1.3377423242084847, 1.307558369439716, 0.768125944163315, -0.003770212650035416, 0.4372499444648785, 0.7680448126110765, 0.1981566838185006, 0.2539144491884847, 0.2541452370490572, 1.4236858225230438, 0.5681152422404543, 1.5093678180287304, 0.768034267731275, -0.0038180707327539467, 0.2545191290136914, 0.5659157401813623, 1.4313061035354042, 0.2537750015102979, 0.565896434089707, 0.11588193748403851, 0.08561428160374801, 0.8232696127399557, 0.7682775965276392, 0.25371709520163327, 0.8109381648991748, 1.338583515224461, 0.5659561618482825, 0.2534240761127514, 0.768045722103599, 1.3383544660657594, 0.5663311537871198, 0.5670221950833306, 0.0517445134593295, 1.338113855352555, 0.2533628367889659, 0.8301467076536265, 0.8232592854887155, 0.8237024691227997, -0.09550110908745046, 0.7680038510885497, -0.17807677918995896, 1.0324617131933853, 1.3378958262860106, 0.8234875043914127, 0.5659031430110755, -0.00389217694542539, 1.3377457391919816, 0.8232033829323965, 0.8231568491957124, 0.2541802846673175, -0.0038805070793429338, 1.2118255845874781, 0.2534607056464926, 0.7606284748567987, 0.8232645713599058, 1.341807326224502, -0.09592667774813157, 1.4669361299055026, 0.6711619749115991, 1.337863072427351, 0.2751450307711915, 0.7718126284540279, 1.7397438134288812, 1.337758440805979, 0.8232899025232645, 0.8232472751280295, 0.7686371080963732, 1.3378845593011262, 0.5659413503862866, 0.823288963190402, 2.6676683867183626, 0.8232471513614387, 0.8245613972232699, 1.3377504980137167, 0.8234828790531883, 0.823189529102179, 0.8231685437004579, 0.4803618487812366, 0.25336821335017834, 0.8242877764413814, 0.5659097279869169, 1.3377762151109724, 0.8232327858925388, 0.9809386123455389, 0.8231975984170951, 1.0136879594869628, 0.2533771529267785, -0.09586027282396312, 0.7701616062113591, 0.8286725968731062, 0.25391113485916794, 1.337993217004232, 1.3383467714902848, 0.2620244780209818, 1.3380217260637368, 1.3392079362793163, 0.8232133365050975, 0.8232145413304717, 0.8252635454436645, 1.3378801930346844, 0.2535035945198608, 0.0058395028800894335, 0.823444801028531, 1.8379888291308646, 0.2535581049325557, 0.05130518341000158, 0.7682773723989005, 0.05173791276076084, 0.9520313336225702, 0.25346198548965526, 1.4236375379469755, 0.25353542911431975, 0.7681618817779117, 0.7679952165701512, 0.9595806604553411, 1.4236163086071978, 0.5965224465433926, 1.231822188223008, 0.7706868638772933, 0.9521695628660831, -0.0038283094400195106, 1.3378001076534345, 2.616751902209621, 0.2755329647567716, 0.7411204049274015, 0.25343476281311833, 0.2535963380513925, 0.2536819433347632, 0.2536855921451275, 0.8233187667671867, 0.8231734266356006, 1.337818945018167, 0.09561966192887442, 0.7809660377844374, 0.8231873460972293, 1.0412238922622268, 0.5663818920217015, 0.05571571341669232, 0.1800715973446554, 0.8232019085236222, 0.5235015954427176, 0.25391163485284635, 0.823237268400236, 0.7692830424244158, 1.3381715189093613, 0.2114806554506712, 1.4245710769069098, 0.8239721857323404, 0.7693816842621268, 0.9454825336448094, 0.8234956903437576, 0.27743839572957435, 1.3379968199585273, 0.7680025952191831, 0.2536497070297836, 0.827066514190677, 0.8231672213289871, -0.18164559662837737, 0.7680238448861374, -0.003822667778669429, 0.6333153730758988, 0.4249398956120136, 0.8244411291132382, 0.3085830742086927, -0.0934657048297094, 0.23282959606749629, 0.2534863474533019, 0.34165307271771905, 0.7697228497033606, 1.33779734544728, 1.5951587521332489, -0.2631379668142858, 0.2534176587969599, 0.05142244715385063, 0.8231594517931058, 0.8231648227809929, 0.8232472809176032, 0.7682659889509407, 0.5238734635927808, 0.03281629043521093, 0.8387550224484125, 0.45553056324203317, 0.6393403510169773, 0.8794783472095732, 0.6519457845947066, 0.8234012778191028, -0.009882659547701155, 0.982431911985702, 0.7680077349327677, 1.5524486233102022, 0.5230055911703703, -0.12010280273809942, 0.25341094206784376, 0.825280271121412, 1.0257335585653498, -0.18152311043071678, 1.3379476945276274, 0.007662932976253984, -0.18147844748363026, 0.7680162593003022, 0.8647744107668548, 2.2194679984965093, 0.9826020098431445, 0.07571722242178247, -0.0038283199280966487, 2.503275404580568, -0.12300610792878953, 0.5232089924161577, 0.25373317301103326, 0.8232449790878403, 0.5230770184078766, 1.0862374634106684, -0.08944327241522454, -0.18166093284239201, 0.8233976869352247, 1.596764958955151, 0.665236563249231, 1.3386766310930414, -0.0036205273441883333, 0.8537192752277085, -0.0032906870312642174, 1.3378816035715633, 0.9493054886769465, 0.46069763343494596, 1.3385645226130607, 0.8235846185363741, 0.8233349818728598, 0.8231830823870432, 1.3402812611072006, 0.2581321488543605, 0.8486671501271902, 0.6274460131205091, 1.3415345034077941, -0.003766941440506946, 0.8233865522249572, 0.4598435934830894, 0.8253739008212544, 1.3388631804135975, 0.8238415189031434, 0.2533872236149162, 0.25398142180877586, 2.477411257595876, 0.5663331890626372, 0.8246432446075322, 0.09428295667758783, 1.4235023829881854, 0.8237290607132096], \"z\": [0.35722699423776016, 0.35833556490573837, 0.48727300119108624, -0.0436878060687378, -0.28004407959548233, -0.11570799958505186, 0.5937659899207645, -0.2801784602663436, -0.2726562637810671, -0.7531633047083475, -0.2800852434135058, 0.3572626294462089, 0.35719786757006106, 0.5548594573286156, -0.043371200963473716, -0.2796861008387986, -0.2800067321292982, 0.3572213531922697, -0.003792198658203059, -0.2801206510233885, 0.3572280795446647, -0.28017852680696276, 0.3572291212134414, -0.280195504586693, -0.7531673720708252, 0.001075409621055525, -0.2514402301697998, -0.2801791543534958, -0.27958193962921624, -0.280155167894964, -0.7052122729334482, -0.28019948237886033, -0.2771749968014996, -0.2800746460549893, -0.28006866158212645, 0.3574838658662413, -1.8157013253096823, -0.0873491238683576, -0.11570839469141328, -0.04368795101655692, -0.2796535969470733, -0.2801812564348919, -0.28022097925871, 0.43627205105422756, -0.2801342760516589, -0.2802023835693504, 0.5989052555479998, -0.19458886207111695, -0.24771187803204864, -0.043687659809905154, -0.2795063342854528, -0.1945865275068218, 1.027293477811459, 0.3581301594467391, 0.35743672422382816, 0.35588322637034253, -0.28017824647078876, -0.2796813004160841, -0.28011369320107393, -1.8156267095985776, -0.11575542680289783, -0.04182734499581754, -0.043632411836758464, -0.11573374759536299, -0.043642367016548875, -0.04355878167541507, -0.04373211847691883, -0.7532063428902522, 0.3606561341699164, 0.3574421610804068, -0.28017490765732433, -0.4927089518039711, -0.2796521374317835, -0.11574378670720266, -0.043636588270165616, -0.19458734972007455, 0.35939490671827784, -0.2799983863275976, 0.5938642917612907, -0.2765893992121692, -0.2798683290218901, -0.19455982912096928, -0.2802181577148875, -0.2798828928804081, 0.35722692686541224, -0.19456441111234227, -0.2780854966713711, -0.514573356518868, -1.815581014632043, 0.035097459131665946, -0.28021699764359315, 0.35726995613379176, -0.2586882318937776, -0.2802225456967796, -0.043687555584314676, -0.08015182267070113, -0.1157554983088486, 1.0736749649979143, -0.7531359995500122, -0.04361641725906393, 0.7119744226728847, -0.7531613460974035, -1.3906571612653231, -0.2797681490879822, -0.2796836564594556, -0.1944781541889662, 0.5958909280588274, -0.2733596666689585, -0.7531722197549763, -0.04368794680531952, -0.27977680427174006, 0.5937658807882201, -0.05852129565950462, -0.2800443911499875, 0.5937408048900394, 0.0023014174910579513, 1.06623906507335, 0.3573179189020302, -0.7530256808411754, -0.2798577807276907, -0.7925700880827395, -0.11492082265055265, 0.5938049928935782, -0.28018067174740385, -0.7531525460219904, -0.1155984944454628, 0.594202510083967, 0.594859157372578, 1.0668925262080062, -0.1154542640439061, -0.28022255214721975, 0.36153911590035875, 0.35732319819920005, 0.35743987996063986, -1.8940200790647375, -0.753151983306777, -1.8142257254726233, 3.649541264007736, -0.11564740753335592, 0.357420738180516, 0.5937638470102147, -0.04371176630514495, -0.11574893497994405, 0.35727254441509776, 0.35722690522766315, -0.2797942812022324, -0.04370993530965523, 0.7889052998403839, -0.28015913327523234, 0.5574843176965679, 0.3572254575221193, -0.11250551703630678, -1.8944494666954235, -0.23378814887934926, 0.5311614669442288, -0.11569102883749524, -0.2584859008838971, -0.7521567100090398, -0.19696327819665171, -0.11574722573763326, 0.3573100235844337, 0.3573182191028743, -0.7527132696692126, -0.11562522536769701, 0.5937611304570101, 0.3572978311752016, 1.3717928072122185, 0.35728737772210556, 0.35864148128709555, -0.11574459278580164, 0.3575397663688534, 0.357255106003615, 0.3572340529926952, 0.6727186665552038, -0.28021800271062475, 0.3583132436982383, 0.5937637585130507, -0.11573534621769313, 0.35726994618666486, -0.5357612866939503, 0.3572746783568748, 0.5699447880838359, -0.2802167002957684, -1.894423867756646, -0.751032984212218, 0.3593558522712619, -0.28001097148740667, -0.11553856266304435, -0.11552128342585784, -0.2715280179119651, -0.11553894580354115, -0.11467365775270369, 0.35727287796488727, 0.3572891378213469, 0.35940166737988205, -0.11566922817990359, -0.28014754781679896, -0.03835631551150748, 0.3574543582005415, -0.07955731234737616, -0.2800679131166944, 1.0667221845099175, -0.7529904286357956, 1.0669587071538282, 0.23919854609687224, -0.2801827744846905, -0.19452156677184698, -0.2800609991468741, -0.7530769995111284, -0.7531653060202189, 0.46554719988119364, -0.19454573958598065, -0.5955006272421051, 0.1472412415668423, -0.7508197358256381, 0.2391966883989356, -0.04368780920473025, -0.11573532964820021, 1.1721095674196869, -0.25738957713805694, -0.2867790081570319, -0.28018081536868633, -0.28004199004635333, -0.28000789132425774, -0.28000794036154764, 0.35733103193083016, 0.35723593535246484, -0.11569704502176356, 1.0281469335098625, -0.7494157280513977, 0.3572611570780204, 0.40937311127455317, 0.5939314558722848, 1.0692845690246233, 0.9485851240370122, 0.35727256423005216, 0.6335669390802178, -0.2800109782069487, 0.35725840412842985, -0.7524531754462385, -0.11544402362620938, 1.1306397522407385, -0.19413755941506433, 0.3576785933742116, -0.752013886203258, 0.46573666819064446, 0.3575528126421344, -0.2695320948933825, -0.11564876481299013, -0.7531634224166379, -0.28008676877718935, 0.35915712936678595, 0.357235578132242, -1.8155789186599545, -0.7531566581576616, -0.04368972238864954, 0.14480818464357562, -0.4378487930752722, 0.35772075876565484, -0.2589352832484189, -1.892725588632759, 0.13113324725721956, -0.2801374471362058, -0.24085851579577622, -0.7521286249412623, -0.11570116088879746, -0.35211617790936206, -1.734649118880756, -0.2801783824288874, 1.0668087315558012, 0.3572334794744308, 0.35723781344151645, 0.35729178213012425, -0.7529902756507451, 0.6335619414496334, -2.0126027354074383, 0.3683013179381361, -1.627103188954277, -0.6349215737125572, 0.3789413470020643, 0.5151037478812832, 0.3574086785538658, -1.9730908584643214, -0.9502346616966878, -0.7531608478010609, -0.3126536173250241, 0.6331443381291462, 1.2244749968539934, -0.28017585718423976, 0.35940144259924783, -0.9892414888284969, -1.815505660247426, -0.11564810460383822, -0.039262050883438294, -1.8154071221280896, -0.7531521500638885, 0.3963229386537719, 2.177470414374994, -0.950065274640646, -2.0520071731091116, -0.04368780906377832, 0.6499070102905935, -1.816413254218817, 0.6332492225581938, -0.279964518321327, 0.3572719853937925, 0.633173967888667, 0.518481276462472, 0.035314628026091824, -1.8155815765496286, 0.3574087268126667, -0.35116841131652365, 0.5257201951637605, -0.11484276337354972, -0.04359586943424962, -0.8320321781768589, -0.04337118248588027, -0.11569127788225246, 0.43263917184816425, -0.06688871910235893, -0.11576654804218128, 0.3576617712424787, 0.35734404153383903, 0.35722655267313713, -0.11468808243786668, -0.2780849316466314, 0.38001634888433133, 0.5933090763405722, -0.11360338779040254, -0.04364236937872387, 0.35725686430894876, -0.17284512867029286, 0.35807833953878854, -0.11531232226793398, 0.35757019571001286, -0.28021322259599696, -0.27983126397614627, 1.159181405528332, 0.5939431257766229, 0.3578678515554975, 1.027416222910748, -0.1945855782584111, 0.3577699837762792]}, {\"customdata\": [[20], [12], [20], [18], [50], [34], [47], [34], [23], [53], [23], [34], [41], [36], [25], [53], [53], [34], [38], [31], [34], [10], [10], [55], [9], [23], [53], [53], [34], [33], [30], [53], [20], [6], [3], [0], [53], [15], [53], [53], [41], [40], [10], [34], [53], [41], [32], [41], [41], [20], [18], [14], [41], [41], [10], [53], [46], [10], [30], [12], [53], [18], [30], [53], [16], [5], [41], [35], [41], [47], [53], [41], [47], [40], [12], [1], [2], [6], [8], [10], [10], [28], [58], [53], [41], [10], [50], [37], [18], [36], [31], [18], [15], [39], [47], [36], [20], [36], [14], [34], [10], [10], [20], [35], [46], [12], [3], [36], [46], [36], [7], [40], [20], [10], [15], [31], [43], [7], [42], [53], [20], [10], [26], [18], [53], [32], [22], [41], [54], [41], [10], [35], [30], [53], [32], [10], [11], [10], [53], [27], [10], [53], [46], [47], [14], [24], [46], [53], [46], [12], [13], [11], [53], [41], [28], [17], [18], [32], [10], [4], [4], [18], [21], [18], [18], [46], [14], [36], [4], [47], [23], [41], [14], [53], [52], [34], [19], [14], [20], [14], [47], [29], [41], [41], [47], [10], [18], [53]], \"hovertemplate\": \"<b>%{hovertext}</b><br><br>Class=%{marker.color}<br>PC_1=%{x}<br>PC_2=%{y}<br>PC_3=%{z}<br>Algorithm=%{customdata[0]}<extra></extra>\", \"hovertext\": [\"Ethereum\", \"Monero\", \"Ethereum Classic\", \"ZCash\", \"Bitshares\", \"DigiByte\", \"PayCoin\", \"MyriadCoin\", \"Riecoin\", \"CasinoCoin\", \"Diamond\", \"Verge\", \"Exclusive Coin\", \"FeatherCoin\", \"MediterraneanCoin\", \"MintCoin\", \"Nautilus Coin\", \"TeslaCoin\", \"TittieCoin\", \"Vertcoin\", \"Crypti\", \"ByteCoin\", \"DigitalNote \", \"BurstCoin\", \"StorjCoin\", \"FairCoin\", \"RubyCoin\", \"Dnotes\", \"Unitus\", \"Cryptonite\", \"Crypto\", \"Diggits\", \"Expanse\", \"Siacoin\", \"Decred\", \"HOdlcoin\", \"GPU Coin\", \"SoilCoin\", \"ZeitCoin\", \"SafeExchangeCoin\", \"Nebuchadnezzar\", \"Let it Ride\", \"Karbo\", \"Circuits of Value\", \"BitCurrency\", \"Opair\", \"ZCoin\", \"CoffeeCoin\", \"TeamUP\", \"Elementrem\", \"ZClassic\", \"ARK\", \"FreeCoin\", \"Creatio\", \"Cannabis Industry Coin\", \"PandaCoin\", \"Allsafe\", \"Bikercoins\", \"HexxCoin\", \"Citadel\", \"Zilbercoin\", \"Zero\", \"Zoin\", \"RenosCoin\", \"DubaiCoin\", \"TajCoin\", \"Atmos\", \"Coinonat\", \"MacronCoin\", \"ProCurrency\", \"GrowthCoin\", \"Phreak\", \"Ultimate Secure Cash\", \"QTUM\", \"Quantum Resistant Ledger\", \"Espers\", \"Dynamic\", \"Nano\", \"ChanCoin\", \"Dinastycoin\", \"LeviarCoin\", \"SmartCash\", \"Signatum\", \"Draftcoin\", \"Stakecoin\", \"Sumokoin\", \"Obsidian\", \"Cardano\", \"BitcoinZ\", \"VIVO Coin\", \"Rupee\", \"Bitcoin Gold\", \"Pirl\", \"KekCoin\", \"Infinity Economics\", \"Innova\", \"Ellaism\", \"GoByte\", \"Lamden Tau\", \"SHIELD\", \"UltraNote\", \"BitCoal\", \"DaxxCoin\", \"Bulwark\", \"Kalkulus\", \"Lethean\", \"Photon\", \"SparksPay\", \"Digiwage\", \"GunCoin\", \"Interzone\", \"TokenPay\", \"1717 Masonic Commemorative Token\", \"Niobio Cash\", \"Travelflex\", \"KREDS\", \"BiblePay\", \"Stipend\", \"Poa Network\", \"Velox\", \"Callisto Network\", \"BitTube\", \"Aidos Kuneen\", \"Bitrolium\", \"MedicCoin\", \"Alpenschillling\", \"Bitcoin Green\", \"Deviant Coin\", \"Semux\", \"Zealium\", \"Monero Classic\", \"Jumpcoin\", \"Infinex\", \"HollyWoodCoin\", \"GINcoin\", \"PlatinCoin\", \"Loki\", \"Newton Coin\", \"Xt3ch\", \"MassGrid\", \"PluraCoin\", \"Lynx\", \"Poseidon Quark\", \"BitcoinWSpectrum\", \"Muse\", \"PlusOneCoin\", \"Dystem\", \"Peony Coin\", \"Vitae\", \"Webchain\", \"Ryo\", \"Qwertycoin\", \"MMOCoin\", \"Ketan\", \"XDNA\", \"Acute Angle Cloud\", \"CrypticCoin\", \"Actinium\", \"FREDEnergy\", \"Universal Molecule\", \"Lithium\", \"PirateCash\", \"Exosis\", \"Beam\", \"Bithereum\", \"Crypto Sports\", \"ALAX\", \"UFO Coin\", \"BlakeCoin\", \"NeosCoin\", \"Groestlcoin\", \"Radium\", \"Lisk\", \"HiCoin\", \"Fiii\", \"JoinCoin\", \"Vollar\", \"EOS\", \"Reality Clash\", \"Oxycoin\", \"TigerCash\", \"Waves\", \"Particl\", \"Nxt\", \"ZEPHYR\", \"Beldex\", \"Horizen\", \"BitcoinPlus\"], \"legendgroup\": \"1\", \"marker\": {\"color\": [1, 1, 1, 1, 1, 1, 1, 1, 1, 1, 1, 1, 1, 1, 1, 1, 1, 1, 1, 1, 1, 1, 1, 1, 1, 1, 1, 1, 1, 1, 1, 1, 1, 1, 1, 1, 1, 1, 1, 1, 1, 1, 1, 1, 1, 1, 1, 1, 1, 1, 1, 1, 1, 1, 1, 1, 1, 1, 1, 1, 1, 1, 1, 1, 1, 1, 1, 1, 1, 1, 1, 1, 1, 1, 1, 1, 1, 1, 1, 1, 1, 1, 1, 1, 1, 1, 1, 1, 1, 1, 1, 1, 1, 1, 1, 1, 1, 1, 1, 1, 1, 1, 1, 1, 1, 1, 1, 1, 1, 1, 1, 1, 1, 1, 1, 1, 1, 1, 1, 1, 1, 1, 1, 1, 1, 1, 1, 1, 1, 1, 1, 1, 1, 1, 1, 1, 1, 1, 1, 1, 1, 1, 1, 1, 1, 1, 1, 1, 1, 1, 1, 1, 1, 1, 1, 1, 1, 1, 1, 1, 1, 1, 1, 1, 1, 1, 1, 1, 1, 1, 1, 1, 1, 1, 1, 1, 1, 1, 1, 1, 1, 1, 1, 1, 1, 1, 1, 1], \"coloraxis\": \"coloraxis\", \"symbol\": \"diamond\"}, \"mode\": \"markers\", \"name\": \"1\", \"scene\": \"scene\", \"showlegend\": true, \"type\": \"scatter3d\", \"x\": [-0.05101253000577156, -0.0114503566507951, -0.04879804407865867, -0.042084610252892285, 0.19048330548241071, 0.2611907512795866, 0.12815839255207823, -0.07845238122329924, -0.06639008716622867, 1.1716192848406382, -0.25907830768652057, 0.2845834790661318, 0.15863466347769897, -0.12794141391974265, -0.0755850925343868, 0.4193779168992327, 0.09756047388879564, 0.1965918305103539, 0.22176080480821758, -0.10729688645594032, 0.19587691491860057, 4.653678143255549, 0.2043968630609119, 0.1999634718491467, 0.3281167517831531, -0.25836776323587823, 0.09756299347474087, 0.10486253042071131, -0.12328666132457905, -0.08978359658344175, -0.10293146921825633, 0.09967848074147237, -0.05231185659000891, 0.5198415876968485, -0.15647452292577596, 0.0506904710005218, 0.1000047750188119, -0.026669550185005605, 1.660096021879931, 0.21514248214578413, 0.15905408670136148, 0.16458865613005014, -0.0012580683210861557, -0.09697622114620338, 0.09971804821603428, 0.1604190980381987, -0.11370768782597997, 0.1612045925453387, 0.16186935159059937, -0.0519798660470284, -0.0421113869705637, 0.6819593272389062, 0.15981214212465308, 0.15905408670136148, -0.001250139964993739, 0.9384004384088732, 0.13327779805674217, -0.0010828023842471496, -0.10367652786152949, -0.009669460851908576, 0.0977533464408852, -0.0421321371516306, -0.10331277988234142, 0.09804610788009326, -0.03211992329235643, -0.16651867720634472, 0.16134838061069082, -0.1287461204303788, 0.16867763114406342, 0.8895869472343608, 0.12189011838966048, 0.1590251629670942, 0.1300347822985411, 0.16619199175419483, -0.009601673858304708, 0.7052439747662971, 0.03975297058067209, 0.024453419857529884, 0.009337676480135605, 0.04617602406453707, -0.0007161460357349103, -0.00898076762047966, 0.07459711513281204, 0.09761047779788269, 0.1592336354596772, -0.0004414224247520349, 0.11380554584208531, 1.0274800599046678, 0.24931392765362403, -0.13416810564722317, 0.21031939999835603, -0.04193602148503582, -0.02496126303290243, 0.16918101813445088, 0.3552667997110075, -0.13395222229482162, -0.04961087071132722, -0.13409423630561657, 0.6884825320171398, -0.11029238508895205, 1.1518780260796613, -0.0012830038945591577, 0.05660229296688945, 0.1897286566360431, 0.13342590077092378, 0.005097434109245192, 1.4019217543041154, -0.13417321402988, 0.1345960484839383, -0.12490008630902114, 0.014284928129994072, 0.164227938559508, 0.2660345041140244, 0.003954670301111492, -0.02442222184911377, -0.08803076055438878, 0.4190213635007242, -0.17694362700450295, 0.2865397908467044, 0.0987954519750086, 0.01699023209182566, 0.009869729523426017, -0.08270887177059313, -0.04061988574462845, 0.10626456261336044, -0.11058454207285295, 0.2561219837558825, 0.1597717456542969, 0.4754302477688186, 0.15952720690481154, -0.0010489235322922678, -0.1288567117745241, -0.10346276106114369, 0.09800089408125628, -0.11382697765949877, 0.004605201345432001, -0.004783956489615027, 2.488465188246676, 0.0977130818255703, -0.08469821407007071, 0.017133796393138084, 2.5267022119913407, 0.13959623263257415, 0.1297412650245815, 0.29715077465697304, -0.07276405152654984, 0.1332866300359027, 0.2682665175180752, 0.13497976495225575, 0.006263471372815456, -0.015859162497913765, 3.3696998499819975, 0.1014177586078964, 0.16081846026664878, -0.2809742718934918, 0.8164284605515616, 0.0987129771214773, -0.11298136026729395, 0.10867557856887382, 0.030310142506454172, 0.02971626346762954, 0.2774946898745279, -0.05753945961424988, -0.039205364245591304, -0.0417155369193451, 0.13313139434979354, 0.7043234683623936, -0.03608368822549216, 0.10052761049722385, 0.1281294981693679, -0.06581784028582352, 0.15869776652969353, 0.6824919806898266, 0.3499300327636605, 0.5094863234495215, -0.124193159827632, -0.024726358145420475, 0.6944981506614248, -0.05202326711907069, 0.6960391912515718, 0.15311868698455552, 0.4773811828414755, 0.15877670913998848, 0.12009009854822159, 0.5607499929072444, 0.02754817238171808, -0.042085919481465, 0.09716370741822937], \"y\": [-1.1613873364877014, -1.5047539046846836, -1.1609245412591602, -1.2474495837237776, -0.8079848135194968, -0.4781556103234641, -0.9535180571248162, -0.5514217650579187, -1.0327615158345267, -0.6653276103255792, -0.4632965692149931, -0.47211378944639415, -1.210859457607512, -0.47421749674620217, -0.9467831762194179, -0.6236634998948606, -0.6962025492216232, -1.5105696284062742, -1.3291355038085804, -0.6896980204642846, -1.5107134623844845, -0.5732470668474822, -1.545904297402416, -0.7897152969109504, -2.5818802965409167, -0.4631356576380882, -0.6961991813881734, -0.6946404219721978, -0.561181118814726, -0.5979835475276337, -0.7327463867766202, -0.695739664657144, -1.161683124670116, -1.6492157976960606, -1.3208822734939947, -2.0191873808726544, -0.6956870673627892, -1.3760830449244181, -0.36114287747572327, -0.8743629810549112, -1.2107683824166675, -1.2535587144530353, -1.5905292652158685, -0.5554585188139642, -0.6957134414397219, -1.2104700594448932, -0.6470966905928827, -1.2102871287284118, -1.2101824606933973, -1.1616099046537758, -1.247455619079266, -3.50764801752931, -1.210602711491657, -1.2107683824166675, -1.5905293817358683, -0.5123047527845165, -0.9964000617637453, -1.5904923567695517, -0.7329046655107898, -1.5043845125614936, -0.6961657943436158, -1.2474596038844208, -0.7328245818383325, -0.6960962469578398, -1.3332712664995767, -1.2350780061577955, -1.2102668831487524, -0.5183845433490124, -1.2086650359800672, -0.7948718763655399, -0.6910620510543912, -1.210776632188448, -0.9531275882746753, -1.2532088373354868, -1.504355389763653, -1.2233744128152255, -1.933567534943653, -1.7609330176273728, -1.6762154189044638, -1.5801821946102446, -1.59041473244174, -0.8004950947579216, -0.4812220659543626, -0.6961914906974106, -1.210735111733358, -1.590358848417453, -0.8246603867392701, -1.198954542401476, -1.185400013991066, -0.4755674938474786, -1.6395687334818017, -1.2474160924629494, -1.3757198616737374, -1.296556916668274, -0.9038840879179683, -0.4755219495591087, -1.1611198622571728, -0.47555167465404297, -3.5062426088998944, -0.5583664777862943, -1.3453248325226528, -1.5905353182075037, -1.138861912406924, -1.4680685855424656, -0.9963675453013515, -1.5011970638387826, -1.5980795557272691, -0.4755676069618069, -0.9961211039865949, -0.4735603747596898, -1.7191345823084387, -1.253638547706788, -2.111397019428331, -1.5894107505561983, -1.3755886203265537, -0.6855313372261183, -1.6778806101775785, -1.1493537783616046, -1.5466265927353031, -0.695942848664933, -1.1471846274889987, -1.5881924263914846, -0.9043230977660706, -1.2471279205935912, -0.6943244100250601, -0.6464409585472781, -2.0255636849298346, -1.2106183925348595, -1.7927758974776955, -1.2106721261129785, -1.5904835785017915, -0.5184047542299146, -0.7328593006402406, -0.6961049797686086, -0.6471216917695394, -1.5893098086690205, -1.5473127481683353, -1.0611957423446778, -0.6961729662755455, -0.8607607691212877, -1.5865551373708242, -1.186072699580898, -0.9950858001364711, -0.9531764717117704, -2.3685991789324254, -0.9901518138421201, -0.9963991093669904, -0.6606444148001304, -0.9960311549903941, -1.5010641204513755, -1.461727427583452, -0.8186151586300752, -0.695375326814323, -1.210403579576991, -0.24811708349654862, -3.7539724565652692, -1.2170259579638052, -0.6469438123815334, -1.5671472041234271, -1.8476431707158398, -1.8477632033860878, -2.196902761041558, -1.1188266482958065, -1.2468424574219044, -1.2473681069631037, -0.9964327784518047, -3.5027586552768244, -0.45414721646925293, -1.8330096101730662, -0.953526040707668, -1.0326361679061626, -1.210846791893848, -3.5075340023499963, -0.6410487674757516, -2.078312757598076, -0.5613859241640914, -1.1998614141004829, -3.504800190264053, -1.1616193898385307, -3.504452846429822, -0.9480630012199188, -2.484634588799441, -1.2108289352618262, -1.015426198810507, -2.0821222374038815, -1.5842770404482875, -1.247449878818193, -0.6962893517743096], \"z\": [1.0204728629380493, 1.3357986258852765, 1.0209292889768404, 1.0993535330101813, -1.216691877770335, 0.5138107526264107, -1.1061241167920002, 0.4729369781092309, 0.9024125964696573, -1.4699712566890515, 1.5396924255262654, 0.5039368885584039, -0.8696597994618691, 0.39055570113470145, 0.8238348752706304, -1.343618033730395, -1.342607517262957, -0.5935393350230326, -0.7464864964476391, 0.5870909065951785, -0.593757709459496, 1.8073531910791214, 1.4360601953488152, -1.6293443295876984, 0.3927119248092008, 1.5396806135280314, -1.3426432082708075, -1.3415626195455088, 0.4686619873877645, 0.5120491383513316, 0.6264682211062785, -1.3424290763750943, 1.0205140841640568, 1.5707734652567635, 2.3280322837874996, 1.8089595552898636, -1.3421630952672767, 1.2176187880976364, -1.1290417318227735, -1.550553893723613, -0.8696169619529363, -0.8301732537524013, 1.4146512065937018, 0.4712287694061238, -1.3426497362534324, -0.8695020051639358, 0.5475415674809696, -0.869579368376713, -0.869005772347325, 1.0205335868449896, 1.0993536141208573, -1.0800839272065135, -0.8695530962092486, -0.8696169619529363, 1.4146754419800072, -1.2734818253948372, -1.0667034104004234, 1.4146837566903887, 0.6263474407042431, 1.3362012303276773, -1.3425224878659652, 1.0993448553753524, 0.6263705982619815, -1.342568747655438, 1.1781433601905196, 2.2492363742247594, -0.8694247860592722, 0.4293542395415701, -0.8688080610204475, -0.9430531481789728, -1.3383060983139539, -0.8695948203363709, -1.1057161024197644, -0.8300314513804373, 1.336024592972712, 2.514507108317197, 1.7299505267085746, 1.573024528802241, 1.4935246191744809, 1.4188962680932742, 1.4147466026400952, 0.7159269409025233, -1.5394239003386467, -1.3426049651515422, -0.8695257612607457, 1.4148227144227166, -1.2241987591810102, -0.6153258504258898, 1.1447379346549937, 0.38989309404409733, -0.47545642729378507, 1.0993530829126146, 1.2178921703375543, -0.7907840318707412, -1.086991027544712, 0.38993213730524373, 1.0210861291658744, 0.389903456203913, -1.0792766618833347, 0.4700781899334399, 1.5985951503308256, 1.414656795627841, 1.0422008838240922, -0.6331086606623033, -1.0666928320245332, 1.3379527569167493, 1.8848796340098937, 0.3898798771167982, -1.0664758365541445, 0.3909081741361886, 1.53292489574365, -0.8301909069869309, -0.04193685417671446, 1.4153543769035086, 1.217766358620299, 0.5892732332519172, -1.5747136107852138, 2.1703678267669693, -1.3335023275079108, -1.3423734719436864, 1.0346019738825192, 1.4168008450555565, 0.7840398088875015, 1.0994571607519679, -1.3415668665103855, 0.548146531508927, -0.1207254833474553, -0.8694691686337389, -2.6567414681801487, -0.8694860710911538, 1.4146690984247987, 0.4292944729723209, 0.6263826970905595, -1.3425871943312733, 0.547517889965231, 1.4159346331497589, 1.375539942732287, 1.812881050548129, -1.3425466253009133, 0.7449305067998739, 1.4167788411122673, -2.208557515675342, -1.0653221207390966, -1.105935360762393, 0.19458940121051008, 0.8628622636105552, -1.0666902047524545, -1.3059331389299413, -1.0665211068931375, 1.3396044184496034, 1.2965757722752689, 1.771817496934417, -1.3420814808713992, -0.8692032804610953, 1.3434027668272788, -1.6214347911842328, 1.1156417644017624, 0.547677425380448, 1.4321157809806304, 1.6513495614502538, 1.6511751683248757, 0.03711783049213611, 0.9811082470524669, 1.099878077118592, 1.0993742176185695, -1.0667065617241003, -1.0782219463323017, 0.39835803679268705, 1.6663428321577187, -1.1061052833646836, 0.9024571764531386, -0.8696401420084074, -1.080008531646123, -1.321334177352374, -2.779467347887369, 0.468670908427729, 1.0644552790064765, -1.0803975842032656, 1.0205299303289177, -1.080402252245336, -1.1040218925284768, -1.2463987083989791, -0.8696411880050888, -0.6550470614505145, -2.3767947516571493, 1.4176299454465626, 1.0993535369760303, -1.342639793373492]}, {\"customdata\": [[10], [60]], \"hovertemplate\": \"<b>%{hovertext}</b><br><br>Class=%{marker.color}<br>PC_1=%{x}<br>PC_2=%{y}<br>PC_3=%{z}<br>Algorithm=%{customdata[0]}<extra></extra>\", \"hovertext\": [\"TurtleCoin\", \"BitTorrent\"], \"legendgroup\": \"0\", \"marker\": {\"color\": [0, 0], \"coloraxis\": \"coloraxis\", \"symbol\": \"square\"}, \"mode\": \"markers\", \"name\": \"0\", \"scene\": \"scene\", \"showlegend\": true, \"type\": \"scatter3d\", \"x\": [10.938854473739445, 25.459357630637207], \"y\": [0.7022773521797293, 3.931404236581099], \"z\": [3.5868901435094833, -0.7858800338600169]}],                        {\"coloraxis\": {\"colorbar\": {\"title\": {\"text\": \"Class\"}}, \"colorscale\": [[0.0, \"#0d0887\"], [0.1111111111111111, \"#46039f\"], [0.2222222222222222, \"#7201a8\"], [0.3333333333333333, \"#9c179e\"], [0.4444444444444444, \"#bd3786\"], [0.5555555555555556, \"#d8576b\"], [0.6666666666666666, \"#ed7953\"], [0.7777777777777778, \"#fb9f3a\"], [0.8888888888888888, \"#fdca26\"], [1.0, \"#f0f921\"]]}, \"legend\": {\"title\": {\"text\": \"Class\"}, \"tracegroupgap\": 0, \"x\": 0, \"y\": 1}, \"margin\": {\"t\": 60}, \"scene\": {\"domain\": {\"x\": [0.0, 1.0], \"y\": [0.0, 1.0]}, \"xaxis\": {\"title\": {\"text\": \"PC_1\"}}, \"yaxis\": {\"title\": {\"text\": \"PC_2\"}}, \"zaxis\": {\"title\": {\"text\": \"PC_3\"}}}, \"template\": {\"data\": {\"bar\": [{\"error_x\": {\"color\": \"#2a3f5f\"}, \"error_y\": {\"color\": \"#2a3f5f\"}, \"marker\": {\"line\": {\"color\": \"#E5ECF6\", \"width\": 0.5}}, \"type\": \"bar\"}], \"barpolar\": [{\"marker\": {\"line\": {\"color\": \"#E5ECF6\", \"width\": 0.5}}, \"type\": \"barpolar\"}], \"carpet\": [{\"aaxis\": {\"endlinecolor\": \"#2a3f5f\", \"gridcolor\": \"white\", \"linecolor\": \"white\", \"minorgridcolor\": \"white\", \"startlinecolor\": \"#2a3f5f\"}, \"baxis\": {\"endlinecolor\": \"#2a3f5f\", \"gridcolor\": \"white\", \"linecolor\": \"white\", \"minorgridcolor\": \"white\", \"startlinecolor\": \"#2a3f5f\"}, \"type\": \"carpet\"}], \"choropleth\": [{\"colorbar\": {\"outlinewidth\": 0, \"ticks\": \"\"}, \"type\": \"choropleth\"}], \"contour\": [{\"colorbar\": {\"outlinewidth\": 0, \"ticks\": \"\"}, \"colorscale\": [[0.0, \"#0d0887\"], [0.1111111111111111, \"#46039f\"], [0.2222222222222222, \"#7201a8\"], [0.3333333333333333, \"#9c179e\"], [0.4444444444444444, \"#bd3786\"], [0.5555555555555556, \"#d8576b\"], [0.6666666666666666, \"#ed7953\"], [0.7777777777777778, \"#fb9f3a\"], [0.8888888888888888, \"#fdca26\"], [1.0, \"#f0f921\"]], \"type\": \"contour\"}], \"contourcarpet\": [{\"colorbar\": {\"outlinewidth\": 0, \"ticks\": \"\"}, \"type\": \"contourcarpet\"}], \"heatmap\": [{\"colorbar\": {\"outlinewidth\": 0, \"ticks\": \"\"}, \"colorscale\": [[0.0, \"#0d0887\"], [0.1111111111111111, \"#46039f\"], [0.2222222222222222, \"#7201a8\"], [0.3333333333333333, \"#9c179e\"], [0.4444444444444444, \"#bd3786\"], [0.5555555555555556, \"#d8576b\"], [0.6666666666666666, \"#ed7953\"], [0.7777777777777778, \"#fb9f3a\"], [0.8888888888888888, \"#fdca26\"], [1.0, \"#f0f921\"]], \"type\": \"heatmap\"}], \"heatmapgl\": [{\"colorbar\": {\"outlinewidth\": 0, \"ticks\": \"\"}, \"colorscale\": [[0.0, \"#0d0887\"], [0.1111111111111111, \"#46039f\"], [0.2222222222222222, \"#7201a8\"], [0.3333333333333333, \"#9c179e\"], [0.4444444444444444, \"#bd3786\"], [0.5555555555555556, \"#d8576b\"], [0.6666666666666666, \"#ed7953\"], [0.7777777777777778, \"#fb9f3a\"], [0.8888888888888888, \"#fdca26\"], [1.0, \"#f0f921\"]], \"type\": \"heatmapgl\"}], \"histogram\": [{\"marker\": {\"colorbar\": {\"outlinewidth\": 0, \"ticks\": \"\"}}, \"type\": \"histogram\"}], \"histogram2d\": [{\"colorbar\": {\"outlinewidth\": 0, \"ticks\": \"\"}, \"colorscale\": [[0.0, \"#0d0887\"], [0.1111111111111111, \"#46039f\"], [0.2222222222222222, \"#7201a8\"], [0.3333333333333333, \"#9c179e\"], [0.4444444444444444, \"#bd3786\"], [0.5555555555555556, \"#d8576b\"], [0.6666666666666666, \"#ed7953\"], [0.7777777777777778, \"#fb9f3a\"], [0.8888888888888888, \"#fdca26\"], [1.0, \"#f0f921\"]], \"type\": \"histogram2d\"}], \"histogram2dcontour\": [{\"colorbar\": {\"outlinewidth\": 0, \"ticks\": \"\"}, \"colorscale\": [[0.0, \"#0d0887\"], [0.1111111111111111, \"#46039f\"], [0.2222222222222222, \"#7201a8\"], [0.3333333333333333, \"#9c179e\"], [0.4444444444444444, \"#bd3786\"], [0.5555555555555556, \"#d8576b\"], [0.6666666666666666, \"#ed7953\"], [0.7777777777777778, \"#fb9f3a\"], [0.8888888888888888, \"#fdca26\"], [1.0, \"#f0f921\"]], \"type\": \"histogram2dcontour\"}], \"mesh3d\": [{\"colorbar\": {\"outlinewidth\": 0, \"ticks\": \"\"}, \"type\": \"mesh3d\"}], \"parcoords\": [{\"line\": {\"colorbar\": {\"outlinewidth\": 0, \"ticks\": \"\"}}, \"type\": \"parcoords\"}], \"pie\": [{\"automargin\": true, \"type\": \"pie\"}], \"scatter\": [{\"marker\": {\"colorbar\": {\"outlinewidth\": 0, \"ticks\": \"\"}}, \"type\": \"scatter\"}], \"scatter3d\": [{\"line\": {\"colorbar\": {\"outlinewidth\": 0, \"ticks\": \"\"}}, \"marker\": {\"colorbar\": {\"outlinewidth\": 0, \"ticks\": \"\"}}, \"type\": \"scatter3d\"}], \"scattercarpet\": [{\"marker\": {\"colorbar\": {\"outlinewidth\": 0, \"ticks\": \"\"}}, \"type\": \"scattercarpet\"}], \"scattergeo\": [{\"marker\": {\"colorbar\": {\"outlinewidth\": 0, \"ticks\": \"\"}}, \"type\": \"scattergeo\"}], \"scattergl\": [{\"marker\": {\"colorbar\": {\"outlinewidth\": 0, \"ticks\": \"\"}}, \"type\": \"scattergl\"}], \"scattermapbox\": [{\"marker\": {\"colorbar\": {\"outlinewidth\": 0, \"ticks\": \"\"}}, \"type\": \"scattermapbox\"}], \"scatterpolar\": [{\"marker\": {\"colorbar\": {\"outlinewidth\": 0, \"ticks\": \"\"}}, \"type\": \"scatterpolar\"}], \"scatterpolargl\": [{\"marker\": {\"colorbar\": {\"outlinewidth\": 0, \"ticks\": \"\"}}, \"type\": \"scatterpolargl\"}], \"scatterternary\": [{\"marker\": {\"colorbar\": {\"outlinewidth\": 0, \"ticks\": \"\"}}, \"type\": \"scatterternary\"}], \"surface\": [{\"colorbar\": {\"outlinewidth\": 0, \"ticks\": \"\"}, \"colorscale\": [[0.0, \"#0d0887\"], [0.1111111111111111, \"#46039f\"], [0.2222222222222222, \"#7201a8\"], [0.3333333333333333, \"#9c179e\"], [0.4444444444444444, \"#bd3786\"], [0.5555555555555556, \"#d8576b\"], [0.6666666666666666, \"#ed7953\"], [0.7777777777777778, \"#fb9f3a\"], [0.8888888888888888, \"#fdca26\"], [1.0, \"#f0f921\"]], \"type\": \"surface\"}], \"table\": [{\"cells\": {\"fill\": {\"color\": \"#EBF0F8\"}, \"line\": {\"color\": \"white\"}}, \"header\": {\"fill\": {\"color\": \"#C8D4E3\"}, \"line\": {\"color\": \"white\"}}, \"type\": \"table\"}]}, \"layout\": {\"annotationdefaults\": {\"arrowcolor\": \"#2a3f5f\", \"arrowhead\": 0, \"arrowwidth\": 1}, \"autotypenumbers\": \"strict\", \"coloraxis\": {\"colorbar\": {\"outlinewidth\": 0, \"ticks\": \"\"}}, \"colorscale\": {\"diverging\": [[0, \"#8e0152\"], [0.1, \"#c51b7d\"], [0.2, \"#de77ae\"], [0.3, \"#f1b6da\"], [0.4, \"#fde0ef\"], [0.5, \"#f7f7f7\"], [0.6, \"#e6f5d0\"], [0.7, \"#b8e186\"], [0.8, \"#7fbc41\"], [0.9, \"#4d9221\"], [1, \"#276419\"]], \"sequential\": [[0.0, \"#0d0887\"], [0.1111111111111111, \"#46039f\"], [0.2222222222222222, \"#7201a8\"], [0.3333333333333333, \"#9c179e\"], [0.4444444444444444, \"#bd3786\"], [0.5555555555555556, \"#d8576b\"], [0.6666666666666666, \"#ed7953\"], [0.7777777777777778, \"#fb9f3a\"], [0.8888888888888888, \"#fdca26\"], [1.0, \"#f0f921\"]], \"sequentialminus\": [[0.0, \"#0d0887\"], [0.1111111111111111, \"#46039f\"], [0.2222222222222222, \"#7201a8\"], [0.3333333333333333, \"#9c179e\"], [0.4444444444444444, \"#bd3786\"], [0.5555555555555556, \"#d8576b\"], [0.6666666666666666, \"#ed7953\"], [0.7777777777777778, \"#fb9f3a\"], [0.8888888888888888, \"#fdca26\"], [1.0, \"#f0f921\"]]}, \"colorway\": [\"#636efa\", \"#EF553B\", \"#00cc96\", \"#ab63fa\", \"#FFA15A\", \"#19d3f3\", \"#FF6692\", \"#B6E880\", \"#FF97FF\", \"#FECB52\"], \"font\": {\"color\": \"#2a3f5f\"}, \"geo\": {\"bgcolor\": \"white\", \"lakecolor\": \"white\", \"landcolor\": \"#E5ECF6\", \"showlakes\": true, \"showland\": true, \"subunitcolor\": \"white\"}, \"hoverlabel\": {\"align\": \"left\"}, \"hovermode\": \"closest\", \"mapbox\": {\"style\": \"light\"}, \"paper_bgcolor\": \"white\", \"plot_bgcolor\": \"#E5ECF6\", \"polar\": {\"angularaxis\": {\"gridcolor\": \"white\", \"linecolor\": \"white\", \"ticks\": \"\"}, \"bgcolor\": \"#E5ECF6\", \"radialaxis\": {\"gridcolor\": \"white\", \"linecolor\": \"white\", \"ticks\": \"\"}}, \"scene\": {\"xaxis\": {\"backgroundcolor\": \"#E5ECF6\", \"gridcolor\": \"white\", \"gridwidth\": 2, \"linecolor\": \"white\", \"showbackground\": true, \"ticks\": \"\", \"zerolinecolor\": \"white\"}, \"yaxis\": {\"backgroundcolor\": \"#E5ECF6\", \"gridcolor\": \"white\", \"gridwidth\": 2, \"linecolor\": \"white\", \"showbackground\": true, \"ticks\": \"\", \"zerolinecolor\": \"white\"}, \"zaxis\": {\"backgroundcolor\": \"#E5ECF6\", \"gridcolor\": \"white\", \"gridwidth\": 2, \"linecolor\": \"white\", \"showbackground\": true, \"ticks\": \"\", \"zerolinecolor\": \"white\"}}, \"shapedefaults\": {\"line\": {\"color\": \"#2a3f5f\"}}, \"ternary\": {\"aaxis\": {\"gridcolor\": \"white\", \"linecolor\": \"white\", \"ticks\": \"\"}, \"baxis\": {\"gridcolor\": \"white\", \"linecolor\": \"white\", \"ticks\": \"\"}, \"bgcolor\": \"#E5ECF6\", \"caxis\": {\"gridcolor\": \"white\", \"linecolor\": \"white\", \"ticks\": \"\"}}, \"title\": {\"x\": 0.05}, \"xaxis\": {\"automargin\": true, \"gridcolor\": \"white\", \"linecolor\": \"white\", \"ticks\": \"\", \"title\": {\"standoff\": 15}, \"zerolinecolor\": \"white\", \"zerolinewidth\": 2}, \"yaxis\": {\"automargin\": true, \"gridcolor\": \"white\", \"linecolor\": \"white\", \"ticks\": \"\", \"title\": {\"standoff\": 15}, \"zerolinecolor\": \"white\", \"zerolinewidth\": 2}}}, \"width\": 800},                        {\"responsive\": true}                    ).then(function(){\n",
       "                            \n",
       "var gd = document.getElementById('cd54a3a5-bf1e-4ed8-a1f8-cd8abd456f3f');\n",
       "var x = new MutationObserver(function (mutations, observer) {{\n",
       "        var display = window.getComputedStyle(gd).display;\n",
       "        if (!display || display === 'none') {{\n",
       "            console.log([gd, 'removed!']);\n",
       "            Plotly.purge(gd);\n",
       "            observer.disconnect();\n",
       "        }}\n",
       "}});\n",
       "\n",
       "// Listen for the removal of the full notebook cells\n",
       "var notebookContainer = gd.closest('#notebook-container');\n",
       "if (notebookContainer) {{\n",
       "    x.observe(notebookContainer, {childList: true});\n",
       "}}\n",
       "\n",
       "// Listen for the clearing of the current output cell\n",
       "var outputEl = gd.closest('.output');\n",
       "if (outputEl) {{\n",
       "    x.observe(outputEl, {childList: true});\n",
       "}}\n",
       "\n",
       "                        })                };                });            </script>        </div>"
      ]
     },
     "metadata": {},
     "output_type": "display_data"
    }
   ],
   "source": [
    "# Create a 3D-Scatter with the PCA data and the clusters\n",
    "fig = px.scatter_3d(clustered_df, x=\"PC_1\", y=\"PC_2\", z=\"PC_3\", color =\"Class\", symbol=\"Class\", width = 800, hover_name = 'CoinName', hover_data=[\"Algorithm\"])\n",
    "fig.update_layout(legend=dict(x=0, y=1))\n",
    "fig"
   ]
  },
  {
   "cell_type": "markdown",
   "metadata": {},
   "source": [
    "#### Table of Tradable Cryptocurrencies"
   ]
  },
  {
   "cell_type": "code",
   "execution_count": 91,
   "metadata": {},
   "outputs": [
    {
     "data": {},
     "metadata": {},
     "output_type": "display_data"
    },
    {
     "data": {
      "application/vnd.holoviews_exec.v0+json": "",
      "text/html": [
       "<div id='2076'>\n",
       "\n",
       "\n",
       "\n",
       "\n",
       "\n",
       "  <div class=\"bk-root\" id=\"07dd0ab2-ff7d-4440-b811-57f22be1d250\" data-root-id=\"2076\"></div>\n",
       "</div>\n",
       "<script type=\"application/javascript\">(function(root) {\n",
       "  function embed_document(root) {\n",
       "    var docs_json = {\"db5ed095-e2ef-42eb-a76a-adc538965f59\":{\"defs\":[{\"extends\":null,\"module\":null,\"name\":\"DataModel\",\"overrides\":[],\"properties\":[]}],\"roots\":{\"references\":[{\"attributes\":{},\"id\":\"2105\",\"type\":\"NumberFormatter\"},{\"attributes\":{},\"id\":\"2106\",\"type\":\"IntEditor\"},{\"attributes\":{},\"id\":\"2086\",\"type\":\"IntEditor\"},{\"attributes\":{},\"id\":\"2079\",\"type\":\"Selection\"},{\"attributes\":{},\"id\":\"2114\",\"type\":\"UnionRenderers\"},{\"attributes\":{\"columns\":[{\"id\":\"2082\"},{\"id\":\"2087\"},{\"id\":\"2092\"},{\"id\":\"2097\"},{\"id\":\"2102\"},{\"id\":\"2107\"}],\"height\":300,\"reorderable\":false,\"source\":{\"id\":\"2078\"},\"view\":{\"id\":\"2112\"},\"width\":700},\"id\":\"2110\",\"type\":\"DataTable\"},{\"attributes\":{\"source\":{\"id\":\"2078\"}},\"id\":\"2112\",\"type\":\"CDSView\"},{\"attributes\":{},\"id\":\"2096\",\"type\":\"StringEditor\"},{\"attributes\":{\"margin\":[5,5,5,5],\"name\":\"HSpacer03585\",\"sizing_mode\":\"stretch_width\"},\"id\":\"2117\",\"type\":\"Spacer\"},{\"attributes\":{\"editor\":{\"id\":\"2086\"},\"field\":\"Algorithm\",\"formatter\":{\"id\":\"2085\"},\"title\":\"Algorithm\"},\"id\":\"2087\",\"type\":\"TableColumn\"},{\"attributes\":{\"editor\":{\"id\":\"2096\"},\"field\":\"TotalCoinSupply\",\"formatter\":{\"id\":\"2095\"},\"title\":\"TotalCoinSupply\"},\"id\":\"2097\",\"type\":\"TableColumn\"},{\"attributes\":{},\"id\":\"2101\",\"type\":\"NumberEditor\"},{\"attributes\":{\"data\":{\"Algorithm\":[53,53,67,47,20,53,65,12,20,18,50,34,47,47,53,69,65,53,53,53,34,53,47,53,53,53,46,23,53,53,53,53,53,65,53,23,34,47,53,53,53,53,41,53,53,36,53,53,53,53,65,53,65,47,53,53,53,51,53,25,53,53,47,53,67,53,47,53,67,36,53,53,53,53,53,53,65,65,47,34,47,38,65,47,47,47,65,53,53,53,53,31,53,65,34,47,67,53,10,10,55,9,53,47,23,53,53,53,67,53,53,53,53,67,53,59,65,34,45,53,53,53,33,53,47,53,65,51,65,30,47,44,65,65,53,53,53,20,67,6,47,69,65,47,3,53,0,47,65,53,47,47,35,53,53,65,15,53,66,65,53,47,53,41,53,65,65,47,47,35,65,53,40,53,53,53,67,65,65,18,65,53,10,47,47,65,53,34,53,53,53,47,53,53,49,41,53,65,32,41,67,68,41,49,20,18,14,65,53,65,67,65,41,53,53,65,41,65,47,53,65,53,53,65,10,53,53,53,53,46,45,53,10,30,53,47,65,53,65,53,12,53,53,53,67,65,18,53,53,30,53,16,65,5,65,53,41,65,35,41,65,53,53,53,47,65,53,53,47,41,53,69,47,53,40,12,1,2,6,8,10,35,65,35,56,53,67,53,65,65,53,10,67,61,53,28,58,65,56,47,65,53,64,53,41,53,53,53,53,53,53,53,10,50,37,65,18,36,65,53,36,31,18,53,47,35,38,15,53,46,53,39,53,47,65,36,20,36,65,14,35,67,34,53,10,10,20,35,46,65,12,53,53,53,65,3,65,36,46,36,53,53,53,65,65,47,7,40,20,53,10,57,53,10,53,15,31,67,43,48,53,53,65,7,42,65,71,53,63,20,10,53,26,35,53,53,18,53,32,22,41,53,54,65,46,41,10,70,53,35,30,71,62,53,32,10,11,10,53,53,27,49,10,53,69,53,46,47,14,70,24,65,70,46,46,53,31,46,53,53,12,13,71,11,65,65,53,41,47,28,65,65,53,50,70,17,18,71,32,47,71,65,10,46,4,4,18,21,53,53,18,46,18,46,53,45,65,53,71,49,65,47,67,47,65,14,53,53,65,36,53,4,53,47,53,65,53,53,47,65,47,53,53,53,23,65,53,41,53,53,65,47,14,53,53,36,52,34,67,19,14,20,14,47,29,41,60,41,47,53,10,18,53],\"Class\":{\"__ndarray__\":\"AgAAAAIAAAACAAAAAgAAAAEAAAACAAAAAgAAAAEAAAABAAAAAQAAAAEAAAABAAAAAgAAAAEAAAACAAAAAgAAAAIAAAACAAAAAgAAAAIAAAABAAAAAgAAAAIAAAACAAAAAgAAAAIAAAACAAAAAQAAAAIAAAACAAAAAgAAAAIAAAACAAAAAgAAAAEAAAABAAAAAQAAAAIAAAACAAAAAgAAAAIAAAACAAAAAQAAAAIAAAACAAAAAQAAAAIAAAACAAAAAgAAAAIAAAACAAAAAgAAAAIAAAACAAAAAgAAAAIAAAACAAAAAgAAAAIAAAABAAAAAQAAAAIAAAACAAAAAQAAAAIAAAACAAAAAgAAAAIAAAACAAAAAgAAAAIAAAACAAAAAgAAAAIAAAACAAAAAgAAAAIAAAACAAAAAgAAAAEAAAACAAAAAQAAAAIAAAACAAAAAgAAAAIAAAACAAAAAgAAAAIAAAACAAAAAgAAAAEAAAACAAAAAgAAAAEAAAACAAAAAgAAAAIAAAABAAAAAQAAAAEAAAABAAAAAgAAAAIAAAABAAAAAgAAAAEAAAACAAAAAgAAAAIAAAABAAAAAgAAAAIAAAACAAAAAgAAAAIAAAACAAAAAQAAAAIAAAACAAAAAgAAAAIAAAABAAAAAgAAAAIAAAACAAAAAgAAAAIAAAACAAAAAQAAAAIAAAACAAAAAgAAAAIAAAACAAAAAgAAAAEAAAABAAAAAgAAAAEAAAACAAAAAgAAAAIAAAACAAAAAQAAAAIAAAABAAAAAgAAAAIAAAACAAAAAgAAAAIAAAACAAAAAgAAAAEAAAACAAAAAQAAAAIAAAACAAAAAgAAAAEAAAACAAAAAQAAAAEAAAACAAAAAgAAAAIAAAACAAAAAgAAAAIAAAACAAAAAgAAAAEAAAACAAAAAgAAAAIAAAACAAAAAgAAAAIAAAACAAAAAgAAAAIAAAABAAAAAgAAAAIAAAACAAAAAgAAAAEAAAACAAAAAgAAAAEAAAACAAAAAgAAAAIAAAACAAAAAQAAAAIAAAACAAAAAQAAAAEAAAACAAAAAgAAAAEAAAACAAAAAQAAAAEAAAABAAAAAgAAAAIAAAACAAAAAgAAAAIAAAABAAAAAgAAAAIAAAACAAAAAQAAAAIAAAACAAAAAgAAAAIAAAACAAAAAgAAAAIAAAABAAAAAgAAAAEAAAACAAAAAgAAAAEAAAACAAAAAgAAAAEAAAABAAAAAgAAAAIAAAACAAAAAgAAAAIAAAACAAAAAQAAAAEAAAACAAAAAgAAAAIAAAACAAAAAQAAAAIAAAACAAAAAQAAAAEAAAABAAAAAgAAAAEAAAACAAAAAgAAAAEAAAACAAAAAQAAAAEAAAACAAAAAgAAAAIAAAACAAAAAQAAAAIAAAACAAAAAQAAAAIAAAABAAAAAgAAAAIAAAABAAAAAgAAAAEAAAABAAAAAQAAAAEAAAABAAAAAQAAAAEAAAACAAAAAgAAAAIAAAACAAAAAgAAAAIAAAACAAAAAgAAAAIAAAACAAAAAQAAAAIAAAACAAAAAgAAAAEAAAABAAAAAgAAAAIAAAACAAAAAgAAAAEAAAACAAAAAgAAAAEAAAACAAAAAgAAAAIAAAACAAAAAgAAAAIAAAACAAAAAQAAAAEAAAABAAAAAgAAAAEAAAACAAAAAgAAAAIAAAABAAAAAQAAAAEAAAACAAAAAgAAAAIAAAACAAAAAQAAAAIAAAACAAAAAgAAAAEAAAACAAAAAQAAAAIAAAABAAAAAQAAAAEAAAACAAAAAQAAAAIAAAACAAAAAQAAAAIAAAABAAAAAQAAAAEAAAABAAAAAQAAAAIAAAABAAAAAgAAAAIAAAACAAAAAgAAAAEAAAACAAAAAQAAAAEAAAABAAAAAgAAAAIAAAACAAAAAgAAAAIAAAACAAAAAQAAAAEAAAABAAAAAgAAAAAAAAACAAAAAgAAAAEAAAACAAAAAQAAAAEAAAACAAAAAQAAAAIAAAACAAAAAgAAAAIAAAABAAAAAQAAAAIAAAACAAAAAQAAAAIAAAABAAAAAQAAAAIAAAABAAAAAgAAAAIAAAACAAAAAQAAAAEAAAABAAAAAQAAAAEAAAACAAAAAQAAAAIAAAACAAAAAQAAAAEAAAACAAAAAgAAAAEAAAABAAAAAgAAAAIAAAABAAAAAQAAAAEAAAABAAAAAQAAAAIAAAABAAAAAQAAAAIAAAABAAAAAgAAAAIAAAABAAAAAQAAAAEAAAABAAAAAgAAAAEAAAACAAAAAgAAAAEAAAACAAAAAQAAAAIAAAABAAAAAgAAAAIAAAABAAAAAQAAAAIAAAABAAAAAgAAAAIAAAABAAAAAQAAAAIAAAABAAAAAgAAAAIAAAACAAAAAgAAAAIAAAABAAAAAQAAAAIAAAABAAAAAgAAAAIAAAACAAAAAQAAAAIAAAABAAAAAQAAAAEAAAABAAAAAgAAAAIAAAABAAAAAgAAAAEAAAABAAAAAgAAAAIAAAACAAAAAgAAAAIAAAACAAAAAgAAAAIAAAACAAAAAgAAAAIAAAABAAAAAgAAAAIAAAACAAAAAQAAAAIAAAABAAAAAgAAAAEAAAACAAAAAgAAAAIAAAACAAAAAgAAAAIAAAACAAAAAgAAAAIAAAACAAAAAQAAAAIAAAACAAAAAQAAAAIAAAACAAAAAgAAAAIAAAABAAAAAQAAAAIAAAACAAAAAQAAAAEAAAACAAAAAQAAAAEAAAABAAAAAQAAAAEAAAABAAAAAQAAAAAAAAABAAAAAQAAAAIAAAABAAAAAQAAAAEAAAA=\",\"dtype\":\"int32\",\"order\":\"little\",\"shape\":[533]},\"CoinName\":[\"42 Coin\",\"404Coin\",\"EliteCoin\",\"Bitcoin\",\"Ethereum\",\"Litecoin\",\"Dash\",\"Monero\",\"Ethereum Classic\",\"ZCash\",\"Bitshares\",\"DigiByte\",\"BitcoinDark\",\"PayCoin\",\"ProsperCoin\",\"KoboCoin\",\"Spreadcoin\",\"Argentum\",\"Aurora Coin\",\"BlueCoin\",\"MyriadCoin\",\"MoonCoin\",\"ZetaCoin\",\"SexCoin\",\"Quatloo\",\"EnergyCoin\",\"QuarkCoin\",\"Riecoin\",\"Digitalcoin \",\"BitBar\",\"Catcoin\",\"CryptoBullion\",\"CannaCoin\",\"CryptCoin\",\"CasinoCoin\",\"Diamond\",\"Verge\",\"DevCoin\",\"EarthCoin\",\"E-Gulden\",\"Einsteinium\",\"Emerald\",\"Exclusive Coin\",\"FlutterCoin\",\"Franko\",\"FeatherCoin\",\"GrandCoin\",\"GlobalCoin\",\"GoldCoin\",\"HoboNickels\",\"HyperStake\",\"Infinite Coin\",\"IOCoin\",\"IXcoin\",\"KrugerCoin\",\"LuckyCoin\",\"Litebar \",\"MaxCoin\",\"MegaCoin\",\"MediterraneanCoin\",\"MintCoin\",\"MinCoin\",\"MazaCoin\",\"Nautilus Coin\",\"NavCoin\",\"NobleCoin\",\"Namecoin\",\"NyanCoin\",\"OpalCoin\",\"Orbitcoin\",\"PotCoin\",\"PhoenixCoin\",\"Reddcoin\",\"RonPaulCoin\",\"StableCoin\",\"SmartCoin\",\"SuperCoin\",\"SyncCoin\",\"SysCoin\",\"TeslaCoin\",\"TigerCoin\",\"TittieCoin\",\"TorCoin\",\"TerraCoin\",\"UnbreakableCoin\",\"Unobtanium\",\"UroCoin\",\"UnitaryStatus Dollar\",\"UltraCoin\",\"ViaCoin\",\"VeriCoin\",\"Vertcoin\",\"WorldCoin\",\"X11 Coin\",\"Crypti\",\"JouleCoin\",\"StealthCoin\",\"ZCC Coin\",\"ByteCoin\",\"DigitalNote \",\"BurstCoin\",\"StorjCoin\",\"MonaCoin\",\"Neutron\",\"FairCoin\",\"Gulden\",\"RubyCoin\",\"PesetaCoin\",\"Kore\",\"Wild Beast Coin\",\"Dnotes\",\"Flo\",\"8BIT Coin\",\"Sativa Coin\",\"ArtByte\",\"Folding Coin\",\"Ucoin\",\"Unitus\",\"CypherPunkCoin\",\"OmniCron\",\"Vtorrent\",\"GreenCoin\",\"Cryptonite\",\"MasterCoin\",\"SoonCoin\",\"1Credit\",\"IslaCoin\",\"Nexus\",\"MarsCoin \",\"Crypto\",\"Anarchists Prime\",\"Droidz\",\"BowsCoin\",\"Squall Coin\",\"Song Coin\",\"BitZeny\",\"Diggits\",\"Expanse\",\"Paycon\",\"Siacoin\",\"Emercoin\",\"EverGreenCoin\",\"MindCoin\",\"I0coin\",\"Decred\",\"Revolution VR\",\"HOdlcoin\",\"EDRCoin\",\"Hitcoin\",\"Gamecredits\",\"DubaiCoin\",\"CarpeDiemCoin\",\"PWR Coin\",\"BillaryCoin\",\"GPU Coin\",\"Adzcoin\",\"SoilCoin\",\"YoCoin\",\"SibCoin\",\"EuropeCoin\",\"ZeitCoin\",\"SwingCoin\",\"SafeExchangeCoin\",\"Nebuchadnezzar\",\"Francs\",\"BolivarCoin\",\"Ratecoin\",\"Revenu\",\"Clockcoin\",\"VIP Tokens\",\"BitSend\",\"Omni\",\"Let it Ride\",\"PutinCoin\",\"iBankCoin\",\"Frankywillcoin\",\"MudraCoin\",\"PizzaCoin\",\"Lutetium Coin\",\"Komodo\",\"GoldBlocks\",\"CarterCoin\",\"Karbo\",\"BitTokens\",\"ZayedCoin\",\"MustangCoin\",\"ZoneCoin\",\"Circuits of Value\",\"RootCoin\",\"DopeCoin\",\"BitCurrency\",\"DollarCoin\",\"Swiscoin\",\"Shilling\",\"BuzzCoin\",\"Opair\",\"PesoBit\",\"Halloween Coin\",\"ZCoin\",\"CoffeeCoin\",\"RoyalCoin\",\"GanjaCoin V2\",\"TeamUP\",\"LanaCoin\",\"Elementrem\",\"ZClassic\",\"ARK\",\"InsaneCoin\",\"KiloCoin\",\"ArtexCoin\",\"EmberCoin\",\"XenixCoin\",\"FreeCoin\",\"PLNCoin\",\"AquariusCoin\",\"Kurrent\",\"Creatio\",\"Eternity\",\"Eurocoin\",\"BitcoinFast\",\"Stakenet\",\"BitConnect Coin\",\"MoneyCoin\",\"Enigma\",\"Cannabis Industry Coin\",\"Russiacoin\",\"PandaCoin\",\"GameUnits\",\"GAKHcoin\",\"Allsafe\",\"LiteCreed\",\"OsmiumCoin\",\"Bikercoins\",\"HexxCoin\",\"Klingon Empire Darsek\",\"Internet of People\",\"KushCoin\",\"Printerium\",\"PacCoin\",\"Impeach\",\"Citadel\",\"Zilbercoin\",\"FirstCoin\",\"BeaverCoin\",\"FindCoin\",\"VaultCoin\",\"Zero\",\"OpenChat\",\"Canada eCoin\",\"Zoin\",\"RenosCoin\",\"DubaiCoin\",\"VirtacoinPlus\",\"TajCoin\",\"Impact\",\"EB3coin\",\"Atmos\",\"HappyCoin\",\"Coinonat\",\"MacronCoin\",\"Condensate\",\"Independent Money System\",\"ArgusCoin\",\"LomoCoin\",\"ProCurrency\",\"GoldReserve\",\"BenjiRolls\",\"GrowthCoin\",\"ILCoin\",\"Phreak\",\"Degas Coin\",\"HTML5 Coin\",\"Ultimate Secure Cash\",\"EquiTrader\",\"QTUM\",\"Quantum Resistant Ledger\",\"Espers\",\"Dynamic\",\"Nano\",\"ChanCoin\",\"Dinastycoin\",\"Denarius\",\"DigitalPrice\",\"Virta Unique Coin\",\"Bitcoin Planet\",\"Unify\",\"BritCoin\",\"SocialCoin\",\"ArcticCoin\",\"DAS\",\"Linda\",\"LeviarCoin\",\"DeepOnion\",\"Bitcore\",\"gCn Coin\",\"SmartCash\",\"Signatum\",\"Onix\",\"Cream\",\"Bitcoin Cash\",\"Monoeci\",\"Draftcoin\",\"Vechain\",\"Sojourn Coin\",\"Stakecoin\",\"NewYorkCoin\",\"FrazCoin\",\"Kronecoin\",\"AdCoin\",\"Linx\",\"CoinonatX\",\"Ethereum Dark\",\"Sumokoin\",\"Obsidian\",\"Cardano\",\"Regalcoin\",\"BitcoinZ\",\"TrezarCoin\",\"Elements\",\"TerraNovaCoin\",\"VIVO Coin\",\"Rupee\",\"Bitcoin Gold\",\"WomenCoin\",\"Theresa May Coin\",\"NamoCoin\",\"LUXCoin\",\"Pirl\",\"Xios\",\"Bitcloud 2.0\",\"eBoost\",\"KekCoin\",\"BlackholeCoin\",\"Infinity Economics\",\"Pura\",\"Innova\",\"Ellaism\",\"GoByte\",\"Magnet\",\"Lamden Tau\",\"Electra\",\"Bitcoin Diamond\",\"SHIELD\",\"Cash & Back Coin\",\"UltraNote\",\"BitCoal\",\"DaxxCoin\",\"Bulwark\",\"Kalkulus\",\"AC3\",\"Lethean\",\"GermanCoin\",\"LiteCoin Ultra\",\"PopularCoin\",\"PhantomX\",\"Photon\",\"Sucre\",\"SparksPay\",\"Digiwage\",\"GunCoin\",\"IrishCoin\",\"Trollcoin\",\"Litecoin Plus\",\"Monkey Project\",\"Pioneer Coin\",\"UnitedBitcoin\",\"Interzone\",\"TokenPay\",\"1717 Masonic Commemorative Token\",\"My Big Coin\",\"TurtleCoin\",\"MUNcoin\",\"Unified Society USDEX\",\"Niobio Cash\",\"ShareChain\",\"Travelflex\",\"KREDS\",\"Tokyo Coin\",\"BiblePay\",\"LitecoinCash\",\"BitFlip\",\"LottoCoin\",\"Crypto Improvement Fund\",\"Stipend\",\"Poa Network\",\"Pushi\",\"Ellerium\",\"Velox\",\"Ontology\",\"Callisto Network\",\"BitTube\",\"Poseidon\",\"Aidos Kuneen\",\"Bitspace\",\"Briacoin\",\"Ignition\",\"Bitrolium\",\"MedicCoin\",\"Alpenschillling\",\"Bitcoin Green\",\"Deviant Coin\",\"Abjcoin\",\"Semux\",\"FuturoCoin\",\"Carebit\",\"Zealium\",\"Monero Classic\",\"Proton\",\"iDealCash\",\"Jumpcoin\",\"Infinex\",\"Bitcoin Incognito\",\"KEYCO\",\"HollyWoodCoin\",\"GINcoin\",\"PlatinCoin\",\"Loki\",\"Newton Coin\",\"Swisscoin\",\"Xt3ch\",\"MassGrid\",\"TheVig\",\"PluraCoin\",\"EmaratCoin\",\"Dekado\",\"Lynx\",\"Poseidon Quark\",\"BitcoinWSpectrum\",\"Muse\",\"Motion\",\"PlusOneCoin\",\"Axe\",\"Trivechain\",\"Dystem\",\"Giant\",\"Peony Coin\",\"Absolute Coin\",\"Vitae\",\"HexCoin\",\"TPCash\",\"Webchain\",\"Ryo\",\"Urals Coin\",\"Qwertycoin\",\"ARENON\",\"EUNO\",\"MMOCoin\",\"Ketan\",\"Project Pai\",\"XDNA\",\"PAXEX\",\"Azart\",\"ThunderStake\",\"Kcash\",\"Xchange\",\"Acute Angle Cloud\",\"CrypticCoin\",\"Bettex coin\",\"Actinium\",\"Bitcoin SV\",\"BitMoney\",\"Junson Ming Chan Coin\",\"FREDEnergy\",\"HerbCoin\",\"Universal Molecule\",\"Lithium\",\"PirateCash\",\"Exosis\",\"Block-Logic\",\"Oduwa\",\"Beam\",\"Galilel\",\"Bithereum\",\"Crypto Sports\",\"Credit\",\"SLICE\",\"Dash Platinum\",\"Nasdacoin\",\"Beetle Coin\",\"Titan Coin\",\"Award\",\"BLAST\",\"Bitcoin Rhodium\",\"GlobalToken\",\"Insane Coin\",\"ALAX\",\"LiteDoge\",\"SolarCoin\",\"TruckCoin\",\"UFO Coin\",\"OrangeCoin\",\"BlakeCoin\",\"BitstarCoin\",\"NeosCoin\",\"HyperCoin\",\"PinkCoin\",\"Crypto Escudo\",\"AudioCoin\",\"IncaKoin\",\"Piggy Coin\",\"Crown Coin\",\"Genstake\",\"SmileyCoin\",\"XiaoMiCoin\",\"Groestlcoin\",\"CapriCoin\",\" ClubCoin\",\"Radium\",\"Bata\",\"Pakcoin\",\"Creditbit \",\"OKCash\",\"Lisk\",\"HiCoin\",\"WhiteCoin\",\"FriendshipCoin\",\"Fiii\",\"JoinCoin\",\"Triangles Coin\",\"Vollar\",\"EOS\",\"Reality Clash\",\"Oxycoin\",\"TigerCash\",\"Waves\",\"Particl\",\"BitTorrent\",\"Nxt\",\"ZEPHYR\",\"Gapcoin\",\"Beldex\",\"Horizen\",\"BitcoinPlus\"],\"ProofType\":[16,16,16,13,13,13,16,13,13,13,8,13,16,8,13,16,13,13,16,16,13,13,13,13,13,16,13,13,13,16,13,16,13,13,7,16,13,13,13,13,13,13,8,11,13,13,13,13,13,16,8,13,16,13,13,13,13,16,13,13,8,13,16,8,16,13,13,13,16,16,16,16,16,13,13,13,8,16,13,8,13,8,16,13,13,13,13,16,16,13,12,13,13,16,8,13,16,16,13,13,7,8,13,16,16,13,8,13,16,13,8,13,16,16,13,13,8,13,13,13,16,13,13,13,13,13,16,19,13,13,13,16,13,10,13,13,8,13,16,13,16,16,13,13,16,13,13,16,16,13,16,13,16,16,8,13,13,13,13,16,8,16,7,8,13,13,16,16,16,16,16,13,8,16,16,16,8,13,8,25,16,16,13,16,13,16,16,13,16,13,8,13,18,13,16,8,16,16,13,8,8,16,8,16,13,13,2,16,13,13,16,16,8,16,16,13,8,16,16,16,23,16,16,16,13,16,8,16,16,8,16,13,13,13,16,16,16,16,13,16,13,8,17,13,8,13,13,16,13,13,8,13,16,16,16,13,8,16,13,8,16,16,16,16,8,16,13,8,13,8,16,16,8,13,8,13,16,13,13,13,13,16,13,16,16,13,16,13,13,13,16,13,16,13,13,13,8,13,16,13,16,8,21,13,8,13,13,13,13,13,16,16,13,8,8,16,13,16,13,16,13,8,13,16,16,16,16,13,16,16,13,8,16,8,13,13,13,13,16,2,16,16,13,16,13,13,13,8,8,13,13,16,16,13,16,13,13,13,8,13,13,16,16,8,13,13,13,8,8,15,13,13,16,13,13,13,13,8,5,14,13,13,13,16,6,16,16,8,8,13,13,13,13,16,16,16,13,8,13,8,8,16,2,13,16,8,13,8,16,13,13,10,13,8,13,13,13,13,16,8,13,16,13,16,8,3,8,8,8,13,13,13,16,8,16,8,16,8,13,16,13,13,13,13,8,16,8,8,13,16,8,13,16,24,13,0,13,8,13,13,20,8,13,16,13,13,8,13,13,16,13,16,13,8,16,13,8,16,16,16,16,13,13,13,16,2,16,13,16,13,16,13,16,8,16,16,13,16,16,16,13,16,13,16,13,16,16,8,13,13,22,16,2,8,16,16,1,13,16,13,2,13,2,8,4,8,2,9,2,16,13,13,8],\"TotalCoinSupply\":[\"42\",\"532000000\",\"314159265359\",\"21000000\",\"0\",\"84000000\",\"22000000\",\"0\",\"210000000\",\"21000000\",\"3600570502\",\"21000000000\",\"22000000\",\"12500000\",\"21000000\",\"350000000\",\"20000000\",\"64000000\",\"16768584\",\"0\",\"2000000000\",\"384000000000\",\"169795588\",\"250000000\",\"100000000\",\"0\",\"247000000\",\"84000000\",\"48166000\",\"500000\",\"21000000 \",\"1000000\",\"13140000\",\"18000000\",\"40000000000\",\"4380000\",\"16555000000\",\"21000000000\",\"13500000000\",\"21000000 \",\"299792458\",\"32000000\",\"0\",\"0\",\"11235813\",\"336000000\",\"1420609614\",\"70000000\",\"72245700\",\"120000000\",\"0\",\"90600000000\",\"22000000\",\"21000000\",\"265420800\",\"20000000\",\"1350000\",\"100000000\",\"42000000\",\"200000000\",\"0\",\"10000000\",\"2419200000\",\"16180000\",\"0\",\"15000000000\",\"21000000\",\"337000000\",\"0\",\"3770000\",\"420000000\",\"98000000\",\"0\",\"21000000\",\"250000000\",\"51200000\",\"0\",\"1000\",\"888000000\",\"100000000\",\"47011968\",\"2300000000\",\"10000000\",\"42000000\",\"80000000\",\"250000\",\"0\",\"1600000000\",\"100000000\",\"23000000\",\"0\",\"84000000\",\"265420800\",\"5500000\",\"0\",\"45000000\",\"0\",\"1000000000\",\"184467440735\",\"10000000000\",\"2158812800\",\"500000000\",\"105120000\",\"68000000\",\"0\",\"1680000000\",\"0\",\"166386000\",\"12000000\",\"2628000\",\"500000000\",\"160000000\",\"0\",\"10000000\",\"1000000000\",\"1000000000\",\"20000000\",\"0\",\"0\",\"3371337\",\"20000000\",\"10000000000\",\"1840000000\",\"619478\",\"21000000\",\"92000000000\",\"0\",\"78000000\",\"33000000\",\"65789100\",\"53760000\",\"5060000\",\"21000000\",\"0\",\"210240000\",\"250000000\",\"100000000\",\"16906397\",\"50000000\",\"0\",\"1000000000\",\"26298000\",\"16000000\",\"21000000\",\"21000000\",\"210000000\",\"81962100\",\"22000000\",\"26550000000\",\"84000000\",\"10500000\",\"21626280000 \",\"0\",\"42000000\",\"221052632\",\"84000000\",\"30000000\",\"168351300\",\"24000000\",\"384000000\",\" 99000000000\",\"40000000\",\"2147483647\",\"20000000\",\"20000000\",\"25000000\",\"75000000\",\"222725000\",\"525000000\",\"90000000\",\"139000000\",\"616448\",\"33500000\",\"2000000000\",\"44333333\",\"100000000\",\"200000000\",\"25000000\",\"657000000\",\"200000000\",\"50000000\",\"90000000\",\"10000000\",\"21000000\",\"9736000\",\"3000000\",\"21000000\",\"1200000000\",\"0\",\"200000000\",\"0\",\"10638298\",\"3100000000\",\"30000000\",\"20000000000\",\"74000000\",\"0\",\"1500000000\",\"21400000\",\"39999898\",\"2500124\",\"100000000\",\"301000000\",\"7506000000\",\"26205539\",\"21000000\",\"125000000\",\"30000000\",\"10000000000\",\"500000000\",\"850000000\",\"3853326.77707314\",\"50000000\",\"38540000 \",\"42000000\",\"228000000\",\"20000000\",\"60000000\",\"20000000\",\"33000000\",\"76500000\",\"28000000\",\"650659833\",\"5000000\",\"21000000\",\"144000000\",\"32514916898\",\"13000000\",\"3315789\",\"15000000\",\"78835200\",\"2714286\",\"25000000\",\"9999999\",\"500000000\",\"21000000\",\"9354000\",\"20000000\",\"100000000000\",\"21933333\",\"185000000\",\"55000000\",\"110000000\",\"3360000\",\"14524851.4827\",\"1000000000\",\"17000000\",\"1000000000\",\"100000000 \",\"21000000\",\"34426423\",\"2232901\",\"100000000\",\"36900000\",\"110000000\",\"4000000000\",\"110290030\",\"100000000\",\"48252000\",\"400000000\",\"500000000\",\"21212121\",\"28600000\",\"1000000000\",\"75000000000\",\"40000000\",\"35520400\",\"2000000000\",\"2500000000\",\"30000000\",\"105000000\",\"90000000000\",\"200084200\",\"72000000\",\"100000000\",\"105000000\",\"50000000000\",\"0\",\"340282367\",\"30000000\",\"2000000000\",\"10000000\",\"100000000\",\"120000000\",\"100000000\",\"19276800\",\"30000000\",\" 75000000\",\"60000000\",\"18900000\",\"50000000000\",\"54000000\",\"18898187.6216583\",\"21000000\",\"200000000000\",\"5000000000\",\"137500000\",\"1100000000\",\"100000000\",\"21000000\",\"9507271\",\"17405891.19707116\",\"86712634466\",\"10500000000\",\"61599965\",\"0\",\"20000000\",\"84000000\",\"100000000\",\"100000000\",\"48252000\",\"4200000\",\"88888888\",\"91388946\",\"45000000000\",\"27000000\",\"21000000000\",\"400000000\",\"1800000000\",\"15733333\",\"27000000\",\"24000000\",\"21000000\",\"25000000000\",\"100000000\",\"1200000000\",\"60000000\",\"156306732.71\",\"21000000\",\"200000000\",\"100000000\",\"21000000\",\"14788275.991\",\"9000000000\",\"350000000\",\"45000000\",\"280000000\",\"31800000\",\"144000000\",\"500000000\",\"30000000000\",\"210000000\",\"660000000\",\"210000000\",\"85000000000\",\"12500000\",\"10000000000\",\"27716121\",\"20000000\",\"550000000\",\"999481516\",\"50000000000\",\"150000000\",\"4999999999\",\"50000000\",\" 90000000000\",\"19800000\",\"21000000\",\"120000000\",\"500000000\",\"64000000\",\"900000000\",\"4000000\",\"21000000\",\"23000000\",\"20166000\",\"23000000\",\"25000000\",\"1618033\",\"30000000\",\"1000000000000\",\"16600000\",\"232000000\",\"336000000\",\"10000000000\",\"100000000\",\"1100000000\",\"800000000\",\"5200000000\",\"840000000\",\"40000000\",\"18406979840\",\"500000000\",\"19340594\",\"252460800\",\"25000000\",\"60000000\",\"124000000\",\"1000000000\",\"6500000000\",\"1000000000\",\"21000000\",\"25000000\",\"50000000\",\"3000000\",\"5000000\",\"70000000\",\"500000000\",\"300000000\",\"21000000\",\"88000000\",\"30000000\",\"100000000\",\"100000000\",\"200000000\",\"80000000\",\"18400000\",\"45000000\",\"5121951220\",\"21000000\",\"26280000\",\"21000000\",\"18000000\",\"26000000\",\"10500000\",\"600000518\",\"150000000\",\"184000000000\",\"10200000000\",\"44000000\",\"168000000\",\"100000000\",\"1000000000\",\"84000000\",\"90000000\",\"92000000000\",\"650000000 \",\"100262205\",\"18081806 \",\"22075700\",\"21000000\",\"21000000\",\"82546564\",\"21000000\",\"5151000\",\"16880000000\",\"52500000\",\"100000000\",\"22105263\",\"1000000000\",\"1750000000\",\"88188888\",\"210000000\",\"184470000000\",\"55000000\",\"50000000\",\"260000000\",\"210000000\",\"2100000000\",\"366000000\",\"100000000\",\"25000000\",\"18000000000\",\"1000000000\",\"100000000\",\"1000000000\",\"7600000000\",\"50000000\",\"84000000\",\"21000000\",\"70000000000\",\"0\",\"8080000000\",\"54000000\",\"105120001.44\",\"25228800\",\"105000000\",\"21000000\",\"120000000\",\"21000000\",\"262800000\",\"19035999\",\"30886000\",\"13370000\",\"74800000000\",\"100000000\",\"19700000\",\"84000000\",\"500000000\",\"5000000000\",\"420000000\",\"64000000\",\"2100000\",\"168000000\",\"30000000\",\"1000000000\",\"35000000000\",\"98100000000\",\"0\",\"4000000000\",\"200000000\",\"7000000000\",\"54256119\",\"21000000\",\"0\",\"500000000\",\"1000000000\",\"10500000000\",\"190000000\",\"1000000000\",\"42000000\",\"15000000\",\"50000000000\",\"400000000\",\"105000000\",\"208000000\",\"160000000\",\"9000000\",\"5000000\",\"182000000\",\"16504333\",\"105000000\",\"159918400\",\"10008835635\",\"300000000\",\"60168145\",\"5000000000\",\"2800000\",\"120000\",\"2100000000\",\"0\",\"24487944\",\"0\",\"1000000000\",\"100000000\",\"8634140\",\"990000000000\",\"1000000000\",\"2000000000\",\"250000000\",\"1400222610\",\"21000000\",\"1000000\"],\"TotalCoinsMined\":{\"__ndarray__\":\"E66yfP7/REC4HgUDbHLPQcQCukHCRBtCAAAAcMAYcUHb+b76hayZQfdoZlo4D45BczEFzM85YUFmkFFyf2dwQQAAAFztBptBAAAAEAQqXEEAAAA6IW3kQQAAKLzoPgVCAAAAAJ6qM0Epu0/cGOFmQQAAAIAdAVZBuzNpefhbeEFogey/NERlQRASPW7cR2dB+ijjv4NLcUEAAABO5u/CQQAAgMotKNlBAAAAAAAAVkCRe4LLOUqkQWlwu1zuvZ5B7FG4slgRXEES3YNEKFedQbxc1FkO8a5BjF0hSWmgh0FQLIHFyuR/Qc7ixUJvyuRAZlhcKb2KW0HCR4pNGbYvQdDqKuGh8VFBQQ4rjd4PU0GutucKX6AiQqBfqd8TNklB/fZoycqrDUIAAHBTCXwRQnSTloARWwdCS2bm7Bjxc0He//+wcBeqQbTI9iT1l3JBAAAAQJaqVUHBNFQR94a7QaQ8LSbMbzFBMPUDShPgqEEAAAA1WFnKQQFaxIOwUI9BD/H/v0jdg0EMI73Wa0iVQftcscYLA9lBo6E6fO0XNUJq65YfTtVwQW3n+0/EHHRBmpmZw9ANokHNzEzyVm5yQeu2uDrY2TBBAAAAaLVMjUFC3vH/OTGCQTMzM4eHR4NB0/wVEd7UE0K3KNQ4KyRWQdb//9BLDNhBAAAAAGTcbkFGZKnBRYOPQWh5ONDpoOFBAAAAAIIbbEHurnvnQfOzQWC5lIqR6GxBEqW9I0SSSEECRgfUkYuqQQAAgKodopFB7loEOWBNG0KzdfRrHdkwQZqZmdvoF3dBqQYrknhoeEEnrP5t5i2IQQAAAAAAZJJASWWmrurJwEEmvO6+tSKTQQAAAACNwoRBsaedNq8s2EHonwEAK9k1QQAAAEB233VBAAAAAINhQUF75AdVfoYIQQAAAAAObDJBZmYm5Ctg0EHqsCJZOvSHQfL/r8ISFHZBBWSeRqeJfkHHd4jeymaIQQAAAHQ6hJxBqj02xuuDWkEAAAAAhNeXQWWO5dqisIJBhvyY1oWPf0HN5/S7TaShQQAAB3WebUVCcSCmnaK6+UEAAADwLATbQQAAAMC4ZohBcBN8y0VCkEEAAADwmKeCQQAAADhjXYlBAAAAZOS8uEGF80Sm1ux5QeDz06y0ZKBBm6kQ40DcPkGTMePy+TQGQRqL3sPG0aRB26a4ke4mokEAAAAAwWU2QQAAAICAEltBAAAAUZSex0EAAABPt3DFQQAAAACKhURBAAAAsGYMj0EAAABAGUhYQclLLY4xV2NBAAAAQF4iZkFxPQ5ywyzxQQAAAMx5HcVBAAAAAKznIkEAAACAQ8VnQQAAAABQifVAAAAAAOgYN0EAAAAgqFqOQbTMIm2Yun5BAAAAQFI2akFuowEAyCBsQb/Mf8ucV2BBAAAAsANCbkFIisgQwBcUQQAAAECDDn9BAAAAkCQHkkEAAAAAhNeXQQAAAMClBGRBAAAAwKL5dUEAAEizP9MeQnMvcJZSiIRBdN9gjbfOaUEAAADg5UNuQXci101WBnRBZImz3Q7FY0EAAAAAsQipQQAAAKBO1mVB0TYn7F3/S0EAAJj8c3sEQgAAABB1ppBBAAAAgM2QU0EAAGSVNj8UQs9mP8p8wQJCZta35+opYUEAAACQC02DQQAAAKChgoVBAAAAAGjAVUEVe6IeXWwjQQAAALCvdnBBh9M4uazZY0FWnZ2VUDchQsSzAmd+slBBAADA////30EAAAAA0BJzQfWeCOrNEFlBACv2TwgLakHGaE16SgqgQQAAAAAFPjJBAAAAgCTIb0EAAACMaOWTQWZvBMgIQndBAAAAAADQIkH8k1OFq2aCQZ+vSflmO8hBAAAAAD1EUUEAAAAAhNeXQQAAAADQElNBAAAAAH0GNUEAAAAgg5TDQQAAAEzcoZtBAAAAIIyvbUEAAADgOZWEQSqHXC4Y111BAAAAAMorIkEAAAAAgNFXQXUZ5bDIESRBAAAAAOmyQ0EAAAAAZc3NQQAAAACxmT1BAAAAsKrbm0EAAAAwvTekQQAAAECjXmFBAACA3BLTw0EAAAAATDVlQQAA7E21OxJCKwwuO6qmkUEAAADQUPh/Qd7Fk3RYja9BUc34T+beXEEAAAAgerqhQQAAAAAOE0NBAAAAAITXl0F4eqWiQ/5wQW1b4nIfINBBAAAAMNb9eEEAAACA+2lVQQAAAJAhzJlBAAAA0Dl+cUEAAADmiWanQQAAAACfjshBAADD1R53NUL1IXdjB2ZNQQAAAACE14dBAAAAAERMcEGnlim1VLBCQQAAAGjSQo1BAAAAANASc0H6EPGEOidXQQAAAEDFrmdBAWxAemNOc0EAAACEqwWSQW8KEEyCImVBAAAAQE7RZEEAAAAAntwoQQAAAADC2S1BAAAAQIT1X0G1VTeErn0fQgAAAIArf0pBAAAAgCZMSUG3QKeXoQ9kQQAAAGDS03xBAAAAAJRIK0EAAAAA5NhhQeiBj3GyoDxBAAAAwOvadkGII9U8v0VDQawzRD12llVBAAAAAFSMZkEAAAAd2QDAQQAAAABMzxJBBwq80BzsZEGMg2z7OkxGQQAAAADeOZpBAAAAAH3ER0FFR3JvNrRrQQAAAEBY+nxBHHiWeW1nWkEAAAAAZc3NQaJtQ0H1zZdBAAAA2MWvcUEAAADorTCBQQAAAIAiCUFBTeW+oh8baUEhj6B9UD1nQd7hZs9XYJpBAAAAoDmQjkEEVo5zMX+aQcubKKA6hnRBAAAAAPhOY0EAAABZNO23QTtUk67eAZ1BAAAAgBl7VEEAAAAApIUxQQAAAACAhB5BAAAARNP4l0EAAABgO2BwQYwpWDI4VnNBCaRc6miXsUEAAADLzqLTQWBHLT+iuWVBAAAAwIpedEEAAMDR7u4iQgAAACBZumNBckLXzXcUakEAAAAAhNeXQWUIVsOfdZBBAADce2Q8FUKonWsKIt5yQQAAAKTUxJ9BkdtqsfWNcUEAAMDBkfbaQQAAAAA7009BAAAA+GzBgEEAAADYWwOOQQAAAIDi9FlBAAAAsAxLcUEAAADAZ0h0QQAAAMCntlNBIBX6xf/VeEEAAAAA0wJEQX/w+Yv12ABCAAAAYPECa0Ga3cmg1eZ0QZKakZIo+nBBAABOq2v7QkJLH6e/YrLgQQAAAHgivplByhiP2VEznUGRw9HTzpGGQWq8WVp0KXFBI1gm0VX5Z0Hya5UVeMxxQQAAoDO40ilCAAAAAHidHUEAAAAAgIROQe/X1k3upUBCAAAAQE2CYkFw2XdWK6VwQQkyArFkIn9BAAAAcMkTgEEAAABAaKJyQQAAAACQBVBBAAAAoHsQYUEAAAAAhNd3QQAAKM1+JRhCzr66gjC0W0EDPqDeH2rzQQAAAICuxaVBy0qbvkkj5EGLprPq/mcxQVF7mcmnyE9BAAAAAGDjdkH5hGyRy2dwQQAAjLzRkCZCAAAAwFXylUEAAAAKwrTAQdlvVtQbr19BAAAAIM00gEEAAAAAnGZAQYpweOjvSX1BJ0/5xefWl0Hg88PJ5oRnQcl2vh+GNW9BAACwz4jDAEIAAADmKeOkQSlcj8LWUVhBAAAA4LFUaEEAAAC4nD9WQY52rBbqNoJBYW9+x+krsUEAAACS4nIaQsmUx5ED4aVB6fCQBqC2vEHPayxFf3WaQTj4lfsk9RFCAAAAAIgqUUEAAACELQy/Qb7tLlxZRGlBqtpuTpcrcEEAAAC8HCaTQRKDYLnxTLpBXI/WvvhL8kHLoUVKCQ9gQUjhGyQdie1BBOfcMG6KhUFZF6rN7wUcQv52QCDsIVBBqQRZVX7vXUEAAAAA9gh6QQAAAMGN3rFBm/K3SiGwhUEAAABOJZ3BQQndJR2TG0NBAAAAAPXPUEFs0d4KsytgQQAAAABXO3NBRN0Hg6W6ZkFWAY1Yqn9zQQAAAABxsDhB6KPo0IXtYUE9ipsSw74oQiP3U79oYVJB4XaQc/D+q0HFrxjPlu6fQQAAACBfoAJCJXMcSJ2WmUHVIcXjxS/DQQAAAFoqdKtB8dd4J/5n2kGWsBp+eAbDQRXGFoAyvWdBAACoqNr9CkJPPwDNSjCpQURLA8bRdWVBAAAAfjRgqEHNzMyMCYpAQVK4HoUtlxlBWiYo0q1ieEEAAIC4lGXDQQAAAEqIhK1BdXWf684Vk0GYUBwTog1PQQAAAACE13dBGcIW1FlMakEZtn+gi84pQQAAAIDJCTJBAAAAVDEDkUEAAKAYR92vQYN0bFrtEnpBfQaUa/WyYkFNBaat9tx0Qeux5ct22GJBAAAAACvJMkGJEf1SB1R+QXJuA5mDqKBBTNr5wtYfZUEAAAAAvIxuQQAAAACWzFBB5nRdlm/s1EGTQQkk4hd0QURRfW02clNBjX70YrDMZEEAAAAAbkYoQbN2u8vzdIJBBFMT7aemWkEAAAAAwJT0QAAAAAAuRHJBAACivbA6I0IAAAAwvf8CQkhQ/AAsG11Bg20UIDEyoEGcs497yrJ/QSXLM+AdscBB78nDukaZdEHP8+dFmuF8QVnmi1WJITJC6NT8eTS5REEY0gHIAZGLQQAAAIAfWnFBpq1XQWr/XkE4UF7FY31gQaKloawBDFNBrPn2hDebgUFNI9YPZgRbQasgKXHAlFZBluWQ57jML0GotR8+EW5pQSFAAa03f49BSGTlENedNUEZ8ryfJp1UQddG4emEt21BAAAAQESoUkFpyxQjRSBsQV3NAOrTLTdCcT0KX3hgckEXDZ5fe1h9Qf+yq29isZlBB1Ybc0PKYUEAAABA3UrfQXtmCXYA01FBAAAAwA8vUUHawOFXUiJTQRiaN9DOls9BAAAAAGXNzUFRV68zk5piQQAAAABlzc1BAAAAitWN70FyYIdLU+RZQQAAAECkAWpBP8xZKrQocUFhFLwwZtuoQXBOQWIqBxBCkCxSxj/S20GEJfPNkdaAQZO4O1ApFThBx93xJ6g5bkEAAAAACrRpQTMzM7MvyRhBzT1kaTfTgEEdRpysmS9sQQAAAABjBIFBoET6MztrcUEAAAA4VPx3QfT+3KxthT1BTx7ABmy1HEKNuYbNa6doQdWNf+IW1yVBJsJLAz6Yc0FvD7pAHLenQQAAAGixtspBrfE+UWlpbUHNuQVlhu+IQQAAAIB02zFB0v7/r18slEE4zCGFrax2QQAAAABlzc1B5x1IVZ2IDEL7Pxej2H6KQSibcjLG6qxBAACA+gF/7EEAAAAAf/xKQUgFZGJXRnZBAAAAQJGfc0FeS8aPUMFQQW94x/+7XmJBF4V9WDoCukEAAAAGiUDHQR9ofThlOs1BBFbV6ym1EEJuUAeag3W9QUrmXREL7HVBAAAAADicjEFprytpX40bQpijizthGbhBuqmMb8R5kUGs4drOJgGoQa4Pq9CTtJhBBonp3l4nTUGfQd76IkZTQZk6wZ0znZBBDFuTijkecEEqosuD3c2RQQAAALD1nJxBApot/nygAkKKmGJ4mQquQaD9SAGBGDFB0nu/vNIL9sEAAABAnW1JQag65AZOLwFBAAAAAITXl0HZPYkFI2rOQfh6iIGAWndBFK7Xcoy50EEAAAAAZc3NQQAAAACE15dB2arJMci0YUHF9Hue/c9sQgAAAABlzc1B847T/mTN3UGU+vLEjHpsQQAAgEGBNs1BAAAAYIbVW0FH2AHxb1T/QA==\",\"dtype\":\"float64\",\"order\":\"little\",\"shape\":[533]}},\"selected\":{\"id\":\"2079\"},\"selection_policy\":{\"id\":\"2114\"}},\"id\":\"2078\",\"type\":\"ColumnDataSource\"},{\"attributes\":{},\"id\":\"2085\",\"type\":\"NumberFormatter\"},{\"attributes\":{\"format\":\"0,0.0[00000]\"},\"id\":\"2100\",\"type\":\"NumberFormatter\"},{\"attributes\":{\"editor\":{\"id\":\"2081\"},\"field\":\"CoinName\",\"formatter\":{\"id\":\"2080\"},\"title\":\"CoinName\"},\"id\":\"2082\",\"type\":\"TableColumn\"},{\"attributes\":{},\"id\":\"2081\",\"type\":\"StringEditor\"},{\"attributes\":{\"editor\":{\"id\":\"2106\"},\"field\":\"Class\",\"formatter\":{\"id\":\"2105\"},\"title\":\"Class\"},\"id\":\"2107\",\"type\":\"TableColumn\"},{\"attributes\":{\"margin\":[5,5,5,5],\"name\":\"HSpacer03584\",\"sizing_mode\":\"stretch_width\"},\"id\":\"2077\",\"type\":\"Spacer\"},{\"attributes\":{},\"id\":\"2095\",\"type\":\"StringFormatter\"},{\"attributes\":{\"children\":[{\"id\":\"2077\"},{\"id\":\"2110\"},{\"id\":\"2117\"}],\"margin\":[0,0,0,0],\"name\":\"Row03580\",\"tags\":[\"embedded\"]},\"id\":\"2076\",\"type\":\"Row\"},{\"attributes\":{},\"id\":\"2091\",\"type\":\"IntEditor\"},{\"attributes\":{},\"id\":\"2090\",\"type\":\"NumberFormatter\"},{\"attributes\":{\"editor\":{\"id\":\"2091\"},\"field\":\"ProofType\",\"formatter\":{\"id\":\"2090\"},\"title\":\"ProofType\"},\"id\":\"2092\",\"type\":\"TableColumn\"},{\"attributes\":{\"editor\":{\"id\":\"2101\"},\"field\":\"TotalCoinsMined\",\"formatter\":{\"id\":\"2100\"},\"title\":\"TotalCoinsMined\"},\"id\":\"2102\",\"type\":\"TableColumn\"},{\"attributes\":{},\"id\":\"2080\",\"type\":\"StringFormatter\"}],\"root_ids\":[\"2076\"]},\"title\":\"Bokeh Application\",\"version\":\"2.3.0\"}};\n",
       "    var render_items = [{\"docid\":\"db5ed095-e2ef-42eb-a76a-adc538965f59\",\"root_ids\":[\"2076\"],\"roots\":{\"2076\":\"07dd0ab2-ff7d-4440-b811-57f22be1d250\"}}];\n",
       "    root.Bokeh.embed.embed_items_notebook(docs_json, render_items);\n",
       "  }\n",
       "  if (root.Bokeh !== undefined && root.Bokeh.Panel !== undefined) {\n",
       "    embed_document(root);\n",
       "  } else {\n",
       "    var attempts = 0;\n",
       "    var timer = setInterval(function(root) {\n",
       "      if (root.Bokeh !== undefined && root.Bokeh.Panel !== undefined) {\n",
       "        clearInterval(timer);\n",
       "        embed_document(root);\n",
       "      } else if (document.readyState == \"complete\") {\n",
       "        attempts++;\n",
       "        if (attempts > 100) {\n",
       "          clearInterval(timer);\n",
       "          console.log(\"Bokeh: ERROR: Unable to run BokehJS code because BokehJS library is missing\");\n",
       "        }\n",
       "      }\n",
       "    }, 10, root)\n",
       "  }\n",
       "})(window);</script>"
      ],
      "text/plain": [
       ":Table   [CoinName,Algorithm,ProofType,TotalCoinSupply,TotalCoinsMined,Class]"
      ]
     },
     "execution_count": 91,
     "metadata": {
      "application/vnd.holoviews_exec.v0+json": {
       "id": "2076"
      }
     },
     "output_type": "execute_result"
    }
   ],
   "source": [
    "# Table with tradable cryptos\n",
    "clustered_df.hvplot.table(columns=['CoinName', 'Algorithm', 'ProofType', 'TotalCoinSupply', 'TotalCoinsMined', 'Class'], sortable=True, selectable=True)"
   ]
  },
  {
   "cell_type": "code",
   "execution_count": 92,
   "metadata": {},
   "outputs": [
    {
     "data": {
      "text/plain": [
       "533"
      ]
     },
     "execution_count": 92,
     "metadata": {},
     "output_type": "execute_result"
    }
   ],
   "source": [
    "# Print the total number of tradable cryptocurrencies\n",
    "len(clustered_df.CoinName)"
   ]
  },
  {
   "cell_type": "markdown",
   "metadata": {},
   "source": [
    "#### Scatter Plot with Tradable Cryptocurrencies"
   ]
  },
  {
   "cell_type": "code",
   "execution_count": 93,
   "metadata": {},
   "outputs": [
    {
     "data": {
      "text/plain": [
       "array([[ 0.39335561,  0.8871567 , -0.11674788, ...,  0.76865724,\n",
       "         0.39371881,  0.73843969],\n",
       "       [ 0.39335561,  0.8871567 , -0.09358885, ...,  0.77306697,\n",
       "         0.39494062,  0.73843969],\n",
       "       [ 1.21439604,  0.8871567 ,  0.52587231, ...,  2.04198378,\n",
       "         0.5370494 ,  0.73843969],\n",
       "       ...,\n",
       "       [-2.12841143,  0.00878917, -0.09523411, ..., -1.47939704,\n",
       "         1.56244511, -1.31149966],\n",
       "       [-1.65924547,  0.00878917, -0.11658774, ..., -1.16486802,\n",
       "         1.21165581, -1.31149966],\n",
       "       [ 0.39335561, -1.45515672, -0.11674507, ..., -0.65019462,\n",
       "        -1.47979449, -1.31149966]])"
      ]
     },
     "execution_count": 93,
     "metadata": {},
     "output_type": "execute_result"
    }
   ],
   "source": [
    "# Scale data to create the scatter plot\n",
    "clustered_df = clustered_df.drop(columns=['CoinName'])\n",
    "\n",
    "clustered_standardized = scaler.fit_transform(clustered_df)\n",
    "\n",
    "clustered_standardized"
   ]
  },
  {
   "cell_type": "code",
   "execution_count": 94,
   "metadata": {},
   "outputs": [
    {
     "data": {},
     "metadata": {},
     "output_type": "display_data"
    },
    {
     "data": {
      "application/vnd.holoviews_exec.v0+json": "",
      "text/html": [
       "<div id='2129'>\n",
       "\n",
       "\n",
       "\n",
       "\n",
       "\n",
       "  <div class=\"bk-root\" id=\"d53a1220-4e68-4240-8518-0fb2ed55a2ad\" data-root-id=\"2129\"></div>\n",
       "</div>\n",
       "<script type=\"application/javascript\">(function(root) {\n",
       "  function embed_document(root) {\n",
       "    var docs_json = {\"e13b9e4a-553c-4512-9f02-57e3d3543573\":{\"defs\":[{\"extends\":null,\"module\":null,\"name\":\"DataModel\",\"overrides\":[],\"properties\":[]}],\"roots\":{\"references\":[{\"attributes\":{},\"id\":\"2152\",\"type\":\"SaveTool\"},{\"attributes\":{\"below\":[{\"id\":\"2145\"}],\"center\":[{\"id\":\"2148\"},{\"id\":\"2151\"}],\"height\":300,\"left\":[{\"id\":\"2149\"}],\"margin\":[5,5,5,5],\"min_border_bottom\":10,\"min_border_left\":10,\"min_border_right\":10,\"min_border_top\":10,\"renderers\":[{\"id\":\"2177\"},{\"id\":\"2198\"},{\"id\":\"2220\"}],\"right\":[{\"id\":\"2189\"}],\"sizing_mode\":\"fixed\",\"title\":{\"id\":\"2137\"},\"toolbar\":{\"id\":\"2158\"},\"width\":700,\"x_range\":{\"id\":\"2131\"},\"x_scale\":{\"id\":\"2141\"},\"y_range\":{\"id\":\"2132\"},\"y_scale\":{\"id\":\"2143\"}},\"id\":\"2136\",\"subtype\":\"Figure\",\"type\":\"Plot\"},{\"attributes\":{},\"id\":\"2187\",\"type\":\"UnionRenderers\"},{\"attributes\":{},\"id\":\"2215\",\"type\":\"Selection\"},{\"attributes\":{},\"id\":\"2153\",\"type\":\"PanTool\"},{\"attributes\":{\"fill_alpha\":{\"value\":0.2},\"fill_color\":{\"value\":\"#e5ae38\"},\"line_alpha\":{\"value\":0.2},\"line_color\":{\"value\":\"#e5ae38\"},\"size\":{\"value\":5.477225575051661},\"x\":{\"field\":\"TotalCoinsMined\"},\"y\":{\"field\":\"TotalCoinSupply\"}},\"id\":\"2219\",\"type\":\"Scatter\"},{\"attributes\":{},\"id\":\"2154\",\"type\":\"WheelZoomTool\"},{\"attributes\":{},\"id\":\"2165\",\"type\":\"AllLabels\"},{\"attributes\":{\"text_color\":\"black\",\"text_font_size\":\"12pt\"},\"id\":\"2137\",\"type\":\"Title\"},{\"attributes\":{\"active_multi\":null,\"tools\":[{\"id\":\"2133\"},{\"id\":\"2152\"},{\"id\":\"2153\"},{\"id\":\"2154\"},{\"id\":\"2155\"},{\"id\":\"2156\"}]},\"id\":\"2158\",\"type\":\"Toolbar\"},{\"attributes\":{\"overlay\":{\"id\":\"2157\"}},\"id\":\"2155\",\"type\":\"BoxZoomTool\"},{\"attributes\":{\"data_source\":{\"id\":\"2171\"},\"glyph\":{\"id\":\"2174\"},\"hover_glyph\":null,\"muted_glyph\":{\"id\":\"2176\"},\"nonselection_glyph\":{\"id\":\"2175\"},\"selection_glyph\":{\"id\":\"2191\"},\"view\":{\"id\":\"2178\"}},\"id\":\"2177\",\"type\":\"GlyphRenderer\"},{\"attributes\":{},\"id\":\"2168\",\"type\":\"AllLabels\"},{\"attributes\":{},\"id\":\"2172\",\"type\":\"Selection\"},{\"attributes\":{\"fill_alpha\":{\"value\":0.1},\"fill_color\":{\"value\":\"#30a2da\"},\"line_alpha\":{\"value\":0.1},\"line_color\":{\"value\":\"#30a2da\"},\"size\":{\"value\":5.477225575051661},\"x\":{\"field\":\"TotalCoinsMined\"},\"y\":{\"field\":\"TotalCoinSupply\"}},\"id\":\"2175\",\"type\":\"Scatter\"},{\"attributes\":{\"fill_alpha\":{\"value\":0.2},\"fill_color\":{\"value\":\"#fc4f30\"},\"line_alpha\":{\"value\":0.2},\"line_color\":{\"value\":\"#fc4f30\"},\"size\":{\"value\":5.477225575051661},\"x\":{\"field\":\"TotalCoinsMined\"},\"y\":{\"field\":\"TotalCoinSupply\"}},\"id\":\"2197\",\"type\":\"Scatter\"},{\"attributes\":{},\"id\":\"2143\",\"type\":\"CategoricalScale\"},{\"attributes\":{\"click_policy\":\"mute\",\"items\":[{\"id\":\"2190\"},{\"id\":\"2212\"},{\"id\":\"2236\"}],\"location\":[0,0],\"title\":\"Class\"},\"id\":\"2189\",\"type\":\"Legend\"},{\"attributes\":{\"fill_alpha\":{\"value\":0.2},\"fill_color\":{\"value\":\"#30a2da\"},\"line_alpha\":{\"value\":0.2},\"line_color\":{\"value\":\"#30a2da\"},\"size\":{\"value\":5.477225575051661},\"x\":{\"field\":\"TotalCoinsMined\"},\"y\":{\"field\":\"TotalCoinSupply\"}},\"id\":\"2176\",\"type\":\"Scatter\"},{\"attributes\":{},\"id\":\"2166\",\"type\":\"BasicTickFormatter\"},{\"attributes\":{},\"id\":\"2156\",\"type\":\"ResetTool\"},{\"attributes\":{},\"id\":\"2146\",\"type\":\"BasicTicker\"},{\"attributes\":{},\"id\":\"2141\",\"type\":\"LinearScale\"},{\"attributes\":{\"angle\":{\"value\":0.0},\"fill_alpha\":{\"value\":1.0},\"fill_color\":{\"value\":\"#30a2da\"},\"hatch_alpha\":{\"value\":1.0},\"hatch_color\":{\"value\":\"black\"},\"hatch_scale\":{\"value\":12.0},\"hatch_weight\":{\"value\":1.0},\"line_alpha\":{\"value\":1.0},\"line_cap\":{\"value\":\"butt\"},\"line_color\":{\"value\":\"#30a2da\"},\"line_dash\":{\"value\":[]},\"line_dash_offset\":{\"value\":0},\"line_join\":{\"value\":\"bevel\"},\"line_width\":{\"value\":1},\"marker\":{\"value\":\"circle\"},\"size\":{\"value\":5.477225575051661},\"x\":{\"field\":\"TotalCoinsMined\"},\"y\":{\"field\":\"TotalCoinSupply\"}},\"id\":\"2191\",\"type\":\"Scatter\"},{\"attributes\":{},\"id\":\"2169\",\"type\":\"CategoricalTickFormatter\"},{\"attributes\":{\"axis\":{\"id\":\"2149\"},\"dimension\":1,\"grid_line_color\":null,\"ticker\":null},\"id\":\"2151\",\"type\":\"Grid\"},{\"attributes\":{},\"id\":\"2234\",\"type\":\"UnionRenderers\"},{\"attributes\":{\"axis_label\":\"TotalCoinsMined\",\"formatter\":{\"id\":\"2166\"},\"major_label_policy\":{\"id\":\"2165\"},\"ticker\":{\"id\":\"2146\"}},\"id\":\"2145\",\"type\":\"LinearAxis\"},{\"attributes\":{\"source\":{\"id\":\"2171\"}},\"id\":\"2178\",\"type\":\"CDSView\"},{\"attributes\":{\"fill_color\":{\"value\":\"#fc4f30\"},\"line_color\":{\"value\":\"#fc4f30\"},\"size\":{\"value\":5.477225575051661},\"x\":{\"field\":\"TotalCoinsMined\"},\"y\":{\"field\":\"TotalCoinSupply\"}},\"id\":\"2195\",\"type\":\"Scatter\"},{\"attributes\":{\"margin\":[5,5,5,5],\"name\":\"HSpacer03760\",\"sizing_mode\":\"stretch_width\"},\"id\":\"2364\",\"type\":\"Spacer\"},{\"attributes\":{\"label\":{\"value\":\"1\"},\"renderers\":[{\"id\":\"2198\"}]},\"id\":\"2212\",\"type\":\"LegendItem\"},{\"attributes\":{\"fill_color\":{\"value\":\"#e5ae38\"},\"line_color\":{\"value\":\"#e5ae38\"},\"size\":{\"value\":5.477225575051661},\"x\":{\"field\":\"TotalCoinsMined\"},\"y\":{\"field\":\"TotalCoinSupply\"}},\"id\":\"2217\",\"type\":\"Scatter\"},{\"attributes\":{\"callback\":null,\"renderers\":[{\"id\":\"2177\"},{\"id\":\"2198\"},{\"id\":\"2220\"}],\"tags\":[\"hv_created\"],\"tooltips\":[[\"Class\",\"@{Class}\"],[\"TotalCoinsMined\",\"@{TotalCoinsMined}\"],[\"TotalCoinSupply\",\"@{TotalCoinSupply}\"]]},\"id\":\"2133\",\"type\":\"HoverTool\"},{\"attributes\":{\"axis\":{\"id\":\"2145\"},\"grid_line_color\":null,\"ticker\":null},\"id\":\"2148\",\"type\":\"Grid\"},{\"attributes\":{\"angle\":{\"value\":0.0},\"fill_alpha\":{\"value\":1.0},\"fill_color\":{\"value\":\"#e5ae38\"},\"hatch_alpha\":{\"value\":1.0},\"hatch_color\":{\"value\":\"black\"},\"hatch_scale\":{\"value\":12.0},\"hatch_weight\":{\"value\":1.0},\"line_alpha\":{\"value\":1.0},\"line_cap\":{\"value\":\"butt\"},\"line_color\":{\"value\":\"#e5ae38\"},\"line_dash\":{\"value\":[]},\"line_dash_offset\":{\"value\":0},\"line_join\":{\"value\":\"bevel\"},\"line_width\":{\"value\":1},\"marker\":{\"value\":\"circle\"},\"size\":{\"value\":5.477225575051661},\"x\":{\"field\":\"TotalCoinsMined\"},\"y\":{\"field\":\"TotalCoinSupply\"}},\"id\":\"2237\",\"type\":\"Scatter\"},{\"attributes\":{},\"id\":\"2193\",\"type\":\"Selection\"},{\"attributes\":{\"data_source\":{\"id\":\"2192\"},\"glyph\":{\"id\":\"2195\"},\"hover_glyph\":null,\"muted_glyph\":{\"id\":\"2197\"},\"nonselection_glyph\":{\"id\":\"2196\"},\"selection_glyph\":{\"id\":\"2213\"},\"view\":{\"id\":\"2199\"}},\"id\":\"2198\",\"type\":\"GlyphRenderer\"},{\"attributes\":{\"children\":[{\"id\":\"2130\"},{\"id\":\"2136\"},{\"id\":\"2364\"}],\"margin\":[0,0,0,0],\"name\":\"Row03755\",\"tags\":[\"embedded\"]},\"id\":\"2129\",\"type\":\"Row\"},{\"attributes\":{\"source\":{\"id\":\"2192\"}},\"id\":\"2199\",\"type\":\"CDSView\"},{\"attributes\":{\"data\":{\"Class\":[2,2,2,2,2,2,2,2,2,2,2,2,2,2,2,2,2,2,2,2,2,2,2,2,2,2,2,2,2,2,2,2,2,2,2,2,2,2,2,2,2,2,2,2,2,2,2,2,2,2,2,2,2,2,2,2,2,2,2,2,2,2,2,2,2,2,2,2,2,2,2,2,2,2,2,2,2,2,2,2,2,2,2,2,2,2,2,2,2,2,2,2,2,2,2,2,2,2,2,2,2,2,2,2,2,2,2,2,2,2,2,2,2,2,2,2,2,2,2,2,2,2,2,2,2,2,2,2,2,2,2,2,2,2,2,2,2,2,2,2,2,2,2,2,2,2,2,2,2,2,2,2,2,2,2,2,2,2,2,2,2,2,2,2,2,2,2,2,2,2,2,2,2,2,2,2,2,2,2,2,2,2,2,2,2,2,2,2,2,2,2,2,2,2,2,2,2,2,2,2,2,2,2,2,2,2,2,2,2,2,2,2,2,2,2,2,2,2,2,2,2,2,2,2,2,2,2,2,2,2,2,2,2,2,2,2,2,2,2,2,2,2,2,2,2,2,2,2,2,2,2,2,2,2,2,2,2,2,2,2,2,2,2,2,2,2,2,2,2,2,2,2,2,2,2,2,2,2,2,2,2,2,2,2,2,2,2,2,2,2,2,2,2,2,2,2,2,2,2,2,2,2,2,2,2,2,2,2,2,2,2,2,2,2,2,2,2,2,2,2,2,2,2,2,2,2,2,2,2,2,2,2,2,2,2,2,2,2,2,2,2,2,2],\"TotalCoinSupply\":[\"42\",\"532000000\",\"314159265359\",\"21000000\",\"84000000\",\"22000000\",\"22000000\",\"21000000\",\"350000000\",\"20000000\",\"64000000\",\"16768584\",\"0\",\"384000000000\",\"169795588\",\"250000000\",\"100000000\",\"0\",\"247000000\",\"48166000\",\"500000\",\"21000000 \",\"1000000\",\"13140000\",\"18000000\",\"21000000000\",\"13500000000\",\"21000000 \",\"299792458\",\"32000000\",\"0\",\"11235813\",\"1420609614\",\"70000000\",\"72245700\",\"120000000\",\"0\",\"90600000000\",\"22000000\",\"21000000\",\"265420800\",\"20000000\",\"1350000\",\"100000000\",\"42000000\",\"10000000\",\"2419200000\",\"0\",\"15000000000\",\"21000000\",\"337000000\",\"0\",\"3770000\",\"420000000\",\"98000000\",\"0\",\"21000000\",\"250000000\",\"51200000\",\"0\",\"1000\",\"888000000\",\"47011968\",\"10000000\",\"42000000\",\"80000000\",\"250000\",\"0\",\"1600000000\",\"100000000\",\"23000000\",\"0\",\"265420800\",\"5500000\",\"45000000\",\"0\",\"1000000000\",\"105120000\",\"68000000\",\"1680000000\",\"166386000\",\"12000000\",\"2628000\",\"160000000\",\"0\",\"10000000\",\"1000000000\",\"1000000000\",\"20000000\",\"0\",\"3371337\",\"20000000\",\"10000000000\",\"619478\",\"21000000\",\"92000000000\",\"0\",\"78000000\",\"33000000\",\"53760000\",\"5060000\",\"21000000\",\"0\",\"210240000\",\"250000000\",\"50000000\",\"1000000000\",\"26298000\",\"16000000\",\"21000000\",\"210000000\",\"22000000\",\"26550000000\",\"84000000\",\"10500000\",\"21626280000 \",\"0\",\"42000000\",\"84000000\",\"168351300\",\"24000000\",\"384000000\",\"40000000\",\"20000000\",\"25000000\",\"75000000\",\"222725000\",\"525000000\",\"90000000\",\"139000000\",\"616448\",\"2000000000\",\"44333333\",\"100000000\",\"200000000\",\"25000000\",\"657000000\",\"200000000\",\"50000000\",\"90000000\",\"21000000\",\"9736000\",\"3000000\",\"21000000\",\"0\",\"200000000\",\"10638298\",\"3100000000\",\"30000000\",\"20000000000\",\"0\",\"1500000000\",\"2500124\",\"100000000\",\"7506000000\",\"30000000\",\"10000000000\",\"500000000\",\"850000000\",\"3853326.77707314\",\"38540000 \",\"42000000\",\"228000000\",\"60000000\",\"20000000\",\"33000000\",\"76500000\",\"28000000\",\"650659833\",\"5000000\",\"144000000\",\"13000000\",\"3315789\",\"78835200\",\"2714286\",\"500000000\",\"21000000\",\"9354000\",\"20000000\",\"100000000000\",\"21933333\",\"110000000\",\"3360000\",\"14524851.4827\",\"1000000000\",\"1000000000\",\"100000000 \",\"100000000\",\"110000000\",\"4000000000\",\"100000000\",\"500000000\",\"21212121\",\"28600000\",\"1000000000\",\"40000000\",\"35520400\",\"2500000000\",\"105000000\",\"90000000000\",\"72000000\",\"10000000\",\"100000000\",\"120000000\",\"100000000\",\"19276800\",\"30000000\",\" 75000000\",\"60000000\",\"18900000\",\"50000000000\",\"18898187.6216583\",\"21000000\",\"200000000000\",\"1100000000\",\"100000000\",\"21000000\",\"9507271\",\"86712634466\",\"10500000000\",\"0\",\"20000000\",\"84000000\",\"100000000\",\"100000000\",\"48252000\",\"4200000\",\"27000000\",\"400000000\",\"1800000000\",\"15733333\",\"25000000000\",\"100000000\",\"1200000000\",\"60000000\",\"21000000\",\"200000000\",\"100000000\",\"14788275.991\",\"350000000\",\"144000000\",\"30000000000\",\"210000000\",\"210000000\",\"550000000\",\"50000000000\",\"150000000\",\"4999999999\",\"50000000\",\"19800000\",\"64000000\",\"900000000\",\"4000000\",\"21000000\",\"23000000\",\"20166000\",\"30000000\",\"16600000\",\"232000000\",\"10000000000\",\"800000000\",\"840000000\",\"40000000\",\"18406979840\",\"500000000\",\"25000000\",\"60000000\",\"1000000000\",\"21000000\",\"50000000\",\"3000000\",\"5000000\",\"30000000\",\"100000000\",\"200000000\",\"45000000\",\"5121951220\",\"21000000\",\"18000000\",\"10200000000\",\"100000000\",\"84000000\",\"90000000\",\"22075700\",\"21000000\",\"82546564\",\"5151000\",\"52500000\",\"22105263\",\"1000000000\",\"210000000\",\"55000000\",\"50000000\",\"2100000000\",\"100000000\",\"25000000\",\"18000000000\",\"1000000000\",\"100000000\",\"50000000\",\"21000000\",\"70000000000\",\"0\",\"54000000\",\"120000000\",\"21000000\",\"19035999\",\"74800000000\",\"100000000\",\"19700000\",\"84000000\",\"500000000\",\"5000000000\",\"420000000\",\"64000000\",\"2100000\",\"168000000\",\"30000000\",\"35000000000\",\"98100000000\",\"0\",\"200000000\",\"54256119\",\"0\",\"500000000\",\"1000000000\",\"10500000000\",\"190000000\",\"1000000000\",\"42000000\",\"15000000\",\"50000000000\",\"400000000\",\"208000000\",\"160000000\",\"5000000\",\"182000000\",\"16504333\",\"105000000\",\"300000000\",\"60168145\",\"120000\",\"250000000\"],\"TotalCoinsMined\":{\"__ndarray__\":\"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\",\"dtype\":\"float64\",\"order\":\"little\",\"shape\":[343]}},\"selected\":{\"id\":\"2215\"},\"selection_policy\":{\"id\":\"2234\"}},\"id\":\"2214\",\"type\":\"ColumnDataSource\"},{\"attributes\":{},\"id\":\"2150\",\"type\":\"CategoricalTicker\"},{\"attributes\":{\"axis_label\":\"TotalCoinSupply\",\"formatter\":{\"id\":\"2169\"},\"major_label_policy\":{\"id\":\"2168\"},\"ticker\":{\"id\":\"2150\"}},\"id\":\"2149\",\"type\":\"CategoricalAxis\"},{\"attributes\":{\"data\":{\"Class\":[0,0],\"TotalCoinSupply\":[\"1000000000000\",\"990000000000\"],\"TotalCoinsMined\":{\"__ndarray__\":\"PYqbEsO+KELF9Hue/c9sQg==\",\"dtype\":\"float64\",\"order\":\"little\",\"shape\":[2]}},\"selected\":{\"id\":\"2172\"},\"selection_policy\":{\"id\":\"2187\"}},\"id\":\"2171\",\"type\":\"ColumnDataSource\"},{\"attributes\":{\"margin\":[5,5,5,5],\"name\":\"HSpacer03759\",\"sizing_mode\":\"stretch_width\"},\"id\":\"2130\",\"type\":\"Spacer\"},{\"attributes\":{\"label\":{\"value\":\"0\"},\"renderers\":[{\"id\":\"2177\"}]},\"id\":\"2190\",\"type\":\"LegendItem\"},{\"attributes\":{\"label\":{\"value\":\"2\"},\"renderers\":[{\"id\":\"2220\"}]},\"id\":\"2236\",\"type\":\"LegendItem\"},{\"attributes\":{\"data\":{\"Class\":[1,1,1,1,1,1,1,1,1,1,1,1,1,1,1,1,1,1,1,1,1,1,1,1,1,1,1,1,1,1,1,1,1,1,1,1,1,1,1,1,1,1,1,1,1,1,1,1,1,1,1,1,1,1,1,1,1,1,1,1,1,1,1,1,1,1,1,1,1,1,1,1,1,1,1,1,1,1,1,1,1,1,1,1,1,1,1,1,1,1,1,1,1,1,1,1,1,1,1,1,1,1,1,1,1,1,1,1,1,1,1,1,1,1,1,1,1,1,1,1,1,1,1,1,1,1,1,1,1,1,1,1,1,1,1,1,1,1,1,1,1,1,1,1,1,1,1,1,1,1,1,1,1,1,1,1,1,1,1,1,1,1,1,1,1,1,1,1,1,1,1,1,1,1,1,1,1,1,1,1,1,1,1,1,1,1,1,1],\"TotalCoinSupply\":[\"0\",\"0\",\"210000000\",\"21000000\",\"3600570502\",\"21000000000\",\"12500000\",\"2000000000\",\"84000000\",\"40000000000\",\"4380000\",\"16555000000\",\"0\",\"336000000\",\"200000000\",\"0\",\"16180000\",\"100000000\",\"2300000000\",\"84000000\",\"0\",\"184467440735\",\"10000000000\",\"2158812800\",\"500000000\",\"0\",\"0\",\"500000000\",\"0\",\"1840000000\",\"65789100\",\"100000000\",\"16906397\",\"0\",\"21000000\",\"81962100\",\"221052632\",\"30000000\",\" 99000000000\",\"2147483647\",\"20000000\",\"33500000\",\"10000000\",\"1200000000\",\"0\",\"74000000\",\"21400000\",\"39999898\",\"301000000\",\"26205539\",\"21000000\",\"125000000\",\"50000000\",\"20000000\",\"21000000\",\"32514916898\",\"15000000\",\"25000000\",\"9999999\",\"185000000\",\"55000000\",\"17000000\",\"21000000\",\"34426423\",\"2232901\",\"36900000\",\"110290030\",\"48252000\",\"400000000\",\"75000000000\",\"2000000000\",\"30000000\",\"200084200\",\"100000000\",\"105000000\",\"50000000000\",\"0\",\"340282367\",\"30000000\",\"2000000000\",\"54000000\",\"5000000000\",\"137500000\",\"17405891.19707116\",\"61599965\",\"88888888\",\"91388946\",\"45000000000\",\"21000000000\",\"27000000\",\"24000000\",\"21000000\",\"156306732.71\",\"21000000\",\"9000000000\",\"45000000\",\"280000000\",\"31800000\",\"500000000\",\"660000000\",\"85000000000\",\"12500000\",\"10000000000\",\"27716121\",\"20000000\",\"999481516\",\" 90000000000\",\"21000000\",\"120000000\",\"500000000\",\"23000000\",\"25000000\",\"1618033\",\"336000000\",\"100000000\",\"1100000000\",\"5200000000\",\"19340594\",\"252460800\",\"124000000\",\"6500000000\",\"1000000000\",\"25000000\",\"70000000\",\"500000000\",\"300000000\",\"21000000\",\"88000000\",\"100000000\",\"80000000\",\"18400000\",\"21000000\",\"26280000\",\"26000000\",\"10500000\",\"600000518\",\"150000000\",\"184000000000\",\"44000000\",\"168000000\",\"1000000000\",\"92000000000\",\"650000000 \",\"100262205\",\"18081806 \",\"21000000\",\"21000000\",\"16880000000\",\"100000000\",\"1750000000\",\"88188888\",\"184470000000\",\"260000000\",\"210000000\",\"366000000\",\"1000000000\",\"7600000000\",\"84000000\",\"8080000000\",\"105120001.44\",\"25228800\",\"105000000\",\"21000000\",\"262800000\",\"30886000\",\"13370000\",\"1000000000\",\"4000000000\",\"7000000000\",\"21000000\",\"105000000\",\"9000000\",\"159918400\",\"10008835635\",\"5000000000\",\"2800000\",\"2100000000\",\"0\",\"24487944\",\"0\",\"1000000000\",\"100000000\",\"8634140\",\"1000000000\",\"2000000000\",\"1400222610\",\"21000000\",\"1000000\"],\"TotalCoinsMined\":{\"__ndarray__\":\"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\",\"dtype\":\"float64\",\"order\":\"little\",\"shape\":[188]}},\"selected\":{\"id\":\"2193\"},\"selection_policy\":{\"id\":\"2210\"}},\"id\":\"2192\",\"type\":\"ColumnDataSource\"},{\"attributes\":{\"fill_alpha\":{\"value\":0.1},\"fill_color\":{\"value\":\"#fc4f30\"},\"line_alpha\":{\"value\":0.1},\"line_color\":{\"value\":\"#fc4f30\"},\"size\":{\"value\":5.477225575051661},\"x\":{\"field\":\"TotalCoinsMined\"},\"y\":{\"field\":\"TotalCoinSupply\"}},\"id\":\"2196\",\"type\":\"Scatter\"},{\"attributes\":{},\"id\":\"2210\",\"type\":\"UnionRenderers\"},{\"attributes\":{\"bottom_units\":\"screen\",\"fill_alpha\":0.5,\"fill_color\":\"lightgrey\",\"left_units\":\"screen\",\"level\":\"overlay\",\"line_alpha\":1.0,\"line_color\":\"black\",\"line_dash\":[4,4],\"line_width\":2,\"right_units\":\"screen\",\"syncable\":false,\"top_units\":\"screen\"},\"id\":\"2157\",\"type\":\"BoxAnnotation\"},{\"attributes\":{\"angle\":{\"value\":0.0},\"fill_alpha\":{\"value\":1.0},\"fill_color\":{\"value\":\"#fc4f30\"},\"hatch_alpha\":{\"value\":1.0},\"hatch_color\":{\"value\":\"black\"},\"hatch_scale\":{\"value\":12.0},\"hatch_weight\":{\"value\":1.0},\"line_alpha\":{\"value\":1.0},\"line_cap\":{\"value\":\"butt\"},\"line_color\":{\"value\":\"#fc4f30\"},\"line_dash\":{\"value\":[]},\"line_dash_offset\":{\"value\":0},\"line_join\":{\"value\":\"bevel\"},\"line_width\":{\"value\":1},\"marker\":{\"value\":\"circle\"},\"size\":{\"value\":5.477225575051661},\"x\":{\"field\":\"TotalCoinsMined\"},\"y\":{\"field\":\"TotalCoinSupply\"}},\"id\":\"2213\",\"type\":\"Scatter\"},{\"attributes\":{\"source\":{\"id\":\"2214\"}},\"id\":\"2221\",\"type\":\"CDSView\"},{\"attributes\":{\"fill_alpha\":{\"value\":0.1},\"fill_color\":{\"value\":\"#e5ae38\"},\"line_alpha\":{\"value\":0.1},\"line_color\":{\"value\":\"#e5ae38\"},\"size\":{\"value\":5.477225575051661},\"x\":{\"field\":\"TotalCoinsMined\"},\"y\":{\"field\":\"TotalCoinSupply\"}},\"id\":\"2218\",\"type\":\"Scatter\"},{\"attributes\":{\"factors\":[\"1000000000000\",\"990000000000\",\"0\",\"210000000\",\"21000000\",\"3600570502\",\"21000000000\",\"12500000\",\"2000000000\",\"84000000\",\"40000000000\",\"4380000\",\"16555000000\",\"336000000\",\"200000000\",\"16180000\",\"100000000\",\"2300000000\",\"184467440735\",\"10000000000\",\"2158812800\",\"500000000\",\"1840000000\",\"65789100\",\"16906397\",\"81962100\",\"221052632\",\"30000000\",\" 99000000000\",\"2147483647\",\"20000000\",\"33500000\",\"10000000\",\"1200000000\",\"74000000\",\"21400000\",\"39999898\",\"301000000\",\"26205539\",\"125000000\",\"50000000\",\"32514916898\",\"15000000\",\"25000000\",\"9999999\",\"185000000\",\"55000000\",\"17000000\",\"34426423\",\"2232901\",\"36900000\",\"110290030\",\"48252000\",\"400000000\",\"75000000000\",\"200084200\",\"105000000\",\"50000000000\",\"340282367\",\"54000000\",\"5000000000\",\"137500000\",\"17405891.19707116\",\"61599965\",\"88888888\",\"91388946\",\"45000000000\",\"27000000\",\"24000000\",\"156306732.71\",\"9000000000\",\"45000000\",\"280000000\",\"31800000\",\"660000000\",\"85000000000\",\"27716121\",\"999481516\",\" 90000000000\",\"120000000\",\"23000000\",\"1618033\",\"1100000000\",\"5200000000\",\"19340594\",\"252460800\",\"124000000\",\"6500000000\",\"1000000000\",\"70000000\",\"300000000\",\"88000000\",\"80000000\",\"18400000\",\"26280000\",\"26000000\",\"10500000\",\"600000518\",\"150000000\",\"184000000000\",\"44000000\",\"168000000\",\"92000000000\",\"650000000 \",\"100262205\",\"18081806 \",\"16880000000\",\"1750000000\",\"88188888\",\"184470000000\",\"260000000\",\"366000000\",\"7600000000\",\"8080000000\",\"105120001.44\",\"25228800\",\"262800000\",\"30886000\",\"13370000\",\"4000000000\",\"7000000000\",\"9000000\",\"159918400\",\"10008835635\",\"2800000\",\"2100000000\",\"24487944\",\"8634140\",\"1400222610\",\"1000000\",\"42\",\"532000000\",\"314159265359\",\"22000000\",\"350000000\",\"64000000\",\"16768584\",\"384000000000\",\"169795588\",\"250000000\",\"247000000\",\"48166000\",\"500000\",\"21000000 \",\"13140000\",\"18000000\",\"13500000000\",\"299792458\",\"32000000\",\"11235813\",\"1420609614\",\"72245700\",\"90600000000\",\"265420800\",\"1350000\",\"42000000\",\"2419200000\",\"15000000000\",\"337000000\",\"3770000\",\"420000000\",\"98000000\",\"51200000\",\"1000\",\"888000000\",\"47011968\",\"250000\",\"1600000000\",\"5500000\",\"105120000\",\"68000000\",\"1680000000\",\"166386000\",\"12000000\",\"2628000\",\"160000000\",\"3371337\",\"619478\",\"78000000\",\"33000000\",\"53760000\",\"5060000\",\"210240000\",\"26298000\",\"16000000\",\"26550000000\",\"21626280000 \",\"168351300\",\"384000000\",\"40000000\",\"75000000\",\"222725000\",\"525000000\",\"90000000\",\"139000000\",\"616448\",\"44333333\",\"657000000\",\"9736000\",\"3000000\",\"10638298\",\"3100000000\",\"20000000000\",\"1500000000\",\"2500124\",\"7506000000\",\"850000000\",\"3853326.77707314\",\"38540000 \",\"228000000\",\"60000000\",\"76500000\",\"28000000\",\"650659833\",\"5000000\",\"144000000\",\"13000000\",\"3315789\",\"78835200\",\"2714286\",\"9354000\",\"100000000000\",\"21933333\",\"110000000\",\"3360000\",\"14524851.4827\",\"100000000 \",\"21212121\",\"28600000\",\"35520400\",\"2500000000\",\"90000000000\",\"72000000\",\"19276800\",\" 75000000\",\"18900000\",\"18898187.6216583\",\"200000000000\",\"9507271\",\"86712634466\",\"10500000000\",\"4200000\",\"1800000000\",\"15733333\",\"25000000000\",\"14788275.991\",\"30000000000\",\"550000000\",\"4999999999\",\"19800000\",\"900000000\",\"4000000\",\"20166000\",\"16600000\",\"232000000\",\"800000000\",\"840000000\",\"18406979840\",\"5121951220\",\"10200000000\",\"22075700\",\"82546564\",\"5151000\",\"52500000\",\"22105263\",\"18000000000\",\"70000000000\",\"19035999\",\"74800000000\",\"19700000\",\"2100000\",\"35000000000\",\"98100000000\",\"54256119\",\"190000000\",\"208000000\",\"182000000\",\"16504333\",\"60168145\",\"120000\"],\"tags\":[[[\"TotalCoinSupply\",\"TotalCoinSupply\",null]]]},\"id\":\"2132\",\"type\":\"FactorRange\"},{\"attributes\":{\"fill_color\":{\"value\":\"#30a2da\"},\"line_color\":{\"value\":\"#30a2da\"},\"size\":{\"value\":5.477225575051661},\"x\":{\"field\":\"TotalCoinsMined\"},\"y\":{\"field\":\"TotalCoinSupply\"}},\"id\":\"2174\",\"type\":\"Scatter\"},{\"attributes\":{\"data_source\":{\"id\":\"2214\"},\"glyph\":{\"id\":\"2217\"},\"hover_glyph\":null,\"muted_glyph\":{\"id\":\"2219\"},\"nonselection_glyph\":{\"id\":\"2218\"},\"selection_glyph\":{\"id\":\"2237\"},\"view\":{\"id\":\"2221\"}},\"id\":\"2220\",\"type\":\"GlyphRenderer\"},{\"attributes\":{\"end\":1032670428767.6898,\"reset_end\":1032670428767.6898,\"reset_start\":-48599692876.008446,\"start\":-48599692876.008446,\"tags\":[[[\"TotalCoinsMined\",\"TotalCoinsMined\",null]]]},\"id\":\"2131\",\"type\":\"Range1d\"}],\"root_ids\":[\"2129\"]},\"title\":\"Bokeh Application\",\"version\":\"2.3.0\"}};\n",
       "    var render_items = [{\"docid\":\"e13b9e4a-553c-4512-9f02-57e3d3543573\",\"root_ids\":[\"2129\"],\"roots\":{\"2129\":\"d53a1220-4e68-4240-8518-0fb2ed55a2ad\"}}];\n",
       "    root.Bokeh.embed.embed_items_notebook(docs_json, render_items);\n",
       "  }\n",
       "  if (root.Bokeh !== undefined && root.Bokeh.Panel !== undefined) {\n",
       "    embed_document(root);\n",
       "  } else {\n",
       "    var attempts = 0;\n",
       "    var timer = setInterval(function(root) {\n",
       "      if (root.Bokeh !== undefined && root.Bokeh.Panel !== undefined) {\n",
       "        clearInterval(timer);\n",
       "        embed_document(root);\n",
       "      } else if (document.readyState == \"complete\") {\n",
       "        attempts++;\n",
       "        if (attempts > 100) {\n",
       "          clearInterval(timer);\n",
       "          console.log(\"Bokeh: ERROR: Unable to run BokehJS code because BokehJS library is missing\");\n",
       "        }\n",
       "      }\n",
       "    }, 10, root)\n",
       "  }\n",
       "})(window);</script>"
      ],
      "text/plain": [
       ":NdOverlay   [Class]\n",
       "   :Scatter   [TotalCoinsMined]   (TotalCoinSupply)"
      ]
     },
     "execution_count": 94,
     "metadata": {
      "application/vnd.holoviews_exec.v0+json": {
       "id": "2129"
      }
     },
     "output_type": "execute_result"
    }
   ],
   "source": [
    "# Plot the scatter with x=\"TotalCoinsMined\" and y=\"TotalCoinSupply\"\n",
    "clustered_df.hvplot.scatter(x=\"TotalCoinsMined\", y =\"TotalCoinSupply\", hover_cols=[\"CoinName\"], by=\"Class\")"
   ]
  },
  {
   "cell_type": "code",
   "execution_count": null,
   "metadata": {},
   "outputs": [],
   "source": []
  },
  {
   "cell_type": "code",
   "execution_count": null,
   "metadata": {},
   "outputs": [],
   "source": []
  },
  {
   "cell_type": "code",
   "execution_count": null,
   "metadata": {},
   "outputs": [],
   "source": []
  }
 ],
 "metadata": {
  "file_extension": ".py",
  "kernelspec": {
   "display_name": "Python 3",
   "language": "python",
   "name": "python3"
  },
  "language_info": {
   "codemirror_mode": {
    "name": "ipython",
    "version": 3
   },
   "file_extension": ".py",
   "mimetype": "text/x-python",
   "name": "python",
   "nbconvert_exporter": "python",
   "pygments_lexer": "ipython3",
   "version": "3.7.7"
  },
  "mimetype": "text/x-python",
  "name": "python",
  "npconvert_exporter": "python",
  "pygments_lexer": "ipython3",
  "version": 3
 },
 "nbformat": 4,
 "nbformat_minor": 4
}
